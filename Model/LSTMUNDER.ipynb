{
  "nbformat": 4,
  "nbformat_minor": 0,
  "metadata": {
    "colab": {
      "provenance": []
    },
    "kernelspec": {
      "name": "python3",
      "display_name": "Python 3"
    },
    "accelerator": "GPU",
    "gpuClass": "standard"
  },
  "cells": [
    {
      "cell_type": "markdown",
      "source": [
        "#Library"
      ],
      "metadata": {
        "id": "w-G_Uc2cQail"
      }
    },
    {
      "cell_type": "code",
      "metadata": {
        "id": "IzLxzXemxc-I"
      },
      "source": [
        "import re \n",
        "import pickle \n",
        "import pandas as pd\n",
        "import plotly.express as px\n",
        "import matplotlib.pyplot as plt\n",
        "from sklearn import metrics\n",
        "from collections import defaultdict\n",
        "from sklearn.model_selection import train_test_split\n",
        "from tensorflow.keras.preprocessing.text import Tokenizer\n",
        "from tensorflow.keras.preprocessing.sequence import pad_sequences\n",
        "import numpy as np\n",
        "from tensorflow.keras import layers \n",
        "from tensorflow.keras.models import Sequential\n",
        "from tensorflow.keras.layers import Dense, Embedding, LSTM, SpatialDropout1D, SimpleRNN, Activation\n",
        "from tensorflow.keras import optimizers\n",
        "from tensorflow.keras.callbacks import EarlyStopping, TensorBoard\n",
        "from tensorflow.keras.layers import Flatten\n",
        "from tensorflow.keras import backend as K\n",
        "import numpy as np\n",
        "from sklearn.metrics import classification_report\n",
        "from sklearn.metrics import accuracy_score\n",
        "from sklearn.model_selection import KFold\n",
        "from keras.models import load_model\n"
      ],
      "execution_count": 1,
      "outputs": []
    },
    {
      "cell_type": "markdown",
      "metadata": {
        "id": "hPm0rjF0xQFB"
      },
      "source": [
        "# **Prepare datasets**"
      ]
    },
    {
      "cell_type": "code",
      "metadata": {
        "id": "XYKwcqwxg388"
      },
      "source": [
        "df= pd.read_csv('train_preprocess.tsv', sep='\\t', header=None)"
      ],
      "execution_count": 2,
      "outputs": []
    },
    {
      "cell_type": "code",
      "source": [
        "df.head()"
      ],
      "metadata": {
        "colab": {
          "base_uri": "https://localhost:8080/",
          "height": 206
        },
        "id": "3wLOPf8RRAjh",
        "outputId": "fcb1072b-8894-4633-9013-6df8e536cf48"
      },
      "execution_count": 3,
      "outputs": [
        {
          "output_type": "execute_result",
          "data": {
            "text/plain": [
              "                                                   0         1\n",
              "0  warung ini dimiliki oleh pengusaha pabrik tahu...  positive\n",
              "1  mohon ulama lurus dan k212 mmbri hujjah partai...   neutral\n",
              "2  lokasi strategis di jalan sumatera bandung . t...  positive\n",
              "3  betapa bahagia nya diri ini saat unboxing pake...  positive\n",
              "4  duh . jadi mahasiswa jangan sombong dong . kas...  negative"
            ],
            "text/html": [
              "\n",
              "  <div id=\"df-422b6c0f-7436-45b7-9a81-3c4e6cdb20ca\">\n",
              "    <div class=\"colab-df-container\">\n",
              "      <div>\n",
              "<style scoped>\n",
              "    .dataframe tbody tr th:only-of-type {\n",
              "        vertical-align: middle;\n",
              "    }\n",
              "\n",
              "    .dataframe tbody tr th {\n",
              "        vertical-align: top;\n",
              "    }\n",
              "\n",
              "    .dataframe thead th {\n",
              "        text-align: right;\n",
              "    }\n",
              "</style>\n",
              "<table border=\"1\" class=\"dataframe\">\n",
              "  <thead>\n",
              "    <tr style=\"text-align: right;\">\n",
              "      <th></th>\n",
              "      <th>0</th>\n",
              "      <th>1</th>\n",
              "    </tr>\n",
              "  </thead>\n",
              "  <tbody>\n",
              "    <tr>\n",
              "      <th>0</th>\n",
              "      <td>warung ini dimiliki oleh pengusaha pabrik tahu...</td>\n",
              "      <td>positive</td>\n",
              "    </tr>\n",
              "    <tr>\n",
              "      <th>1</th>\n",
              "      <td>mohon ulama lurus dan k212 mmbri hujjah partai...</td>\n",
              "      <td>neutral</td>\n",
              "    </tr>\n",
              "    <tr>\n",
              "      <th>2</th>\n",
              "      <td>lokasi strategis di jalan sumatera bandung . t...</td>\n",
              "      <td>positive</td>\n",
              "    </tr>\n",
              "    <tr>\n",
              "      <th>3</th>\n",
              "      <td>betapa bahagia nya diri ini saat unboxing pake...</td>\n",
              "      <td>positive</td>\n",
              "    </tr>\n",
              "    <tr>\n",
              "      <th>4</th>\n",
              "      <td>duh . jadi mahasiswa jangan sombong dong . kas...</td>\n",
              "      <td>negative</td>\n",
              "    </tr>\n",
              "  </tbody>\n",
              "</table>\n",
              "</div>\n",
              "      <button class=\"colab-df-convert\" onclick=\"convertToInteractive('df-422b6c0f-7436-45b7-9a81-3c4e6cdb20ca')\"\n",
              "              title=\"Convert this dataframe to an interactive table.\"\n",
              "              style=\"display:none;\">\n",
              "        \n",
              "  <svg xmlns=\"http://www.w3.org/2000/svg\" height=\"24px\"viewBox=\"0 0 24 24\"\n",
              "       width=\"24px\">\n",
              "    <path d=\"M0 0h24v24H0V0z\" fill=\"none\"/>\n",
              "    <path d=\"M18.56 5.44l.94 2.06.94-2.06 2.06-.94-2.06-.94-.94-2.06-.94 2.06-2.06.94zm-11 1L8.5 8.5l.94-2.06 2.06-.94-2.06-.94L8.5 2.5l-.94 2.06-2.06.94zm10 10l.94 2.06.94-2.06 2.06-.94-2.06-.94-.94-2.06-.94 2.06-2.06.94z\"/><path d=\"M17.41 7.96l-1.37-1.37c-.4-.4-.92-.59-1.43-.59-.52 0-1.04.2-1.43.59L10.3 9.45l-7.72 7.72c-.78.78-.78 2.05 0 2.83L4 21.41c.39.39.9.59 1.41.59.51 0 1.02-.2 1.41-.59l7.78-7.78 2.81-2.81c.8-.78.8-2.07 0-2.86zM5.41 20L4 18.59l7.72-7.72 1.47 1.35L5.41 20z\"/>\n",
              "  </svg>\n",
              "      </button>\n",
              "      \n",
              "  <style>\n",
              "    .colab-df-container {\n",
              "      display:flex;\n",
              "      flex-wrap:wrap;\n",
              "      gap: 12px;\n",
              "    }\n",
              "\n",
              "    .colab-df-convert {\n",
              "      background-color: #E8F0FE;\n",
              "      border: none;\n",
              "      border-radius: 50%;\n",
              "      cursor: pointer;\n",
              "      display: none;\n",
              "      fill: #1967D2;\n",
              "      height: 32px;\n",
              "      padding: 0 0 0 0;\n",
              "      width: 32px;\n",
              "    }\n",
              "\n",
              "    .colab-df-convert:hover {\n",
              "      background-color: #E2EBFA;\n",
              "      box-shadow: 0px 1px 2px rgba(60, 64, 67, 0.3), 0px 1px 3px 1px rgba(60, 64, 67, 0.15);\n",
              "      fill: #174EA6;\n",
              "    }\n",
              "\n",
              "    [theme=dark] .colab-df-convert {\n",
              "      background-color: #3B4455;\n",
              "      fill: #D2E3FC;\n",
              "    }\n",
              "\n",
              "    [theme=dark] .colab-df-convert:hover {\n",
              "      background-color: #434B5C;\n",
              "      box-shadow: 0px 1px 3px 1px rgba(0, 0, 0, 0.15);\n",
              "      filter: drop-shadow(0px 1px 2px rgba(0, 0, 0, 0.3));\n",
              "      fill: #FFFFFF;\n",
              "    }\n",
              "  </style>\n",
              "\n",
              "      <script>\n",
              "        const buttonEl =\n",
              "          document.querySelector('#df-422b6c0f-7436-45b7-9a81-3c4e6cdb20ca button.colab-df-convert');\n",
              "        buttonEl.style.display =\n",
              "          google.colab.kernel.accessAllowed ? 'block' : 'none';\n",
              "\n",
              "        async function convertToInteractive(key) {\n",
              "          const element = document.querySelector('#df-422b6c0f-7436-45b7-9a81-3c4e6cdb20ca');\n",
              "          const dataTable =\n",
              "            await google.colab.kernel.invokeFunction('convertToInteractive',\n",
              "                                                     [key], {});\n",
              "          if (!dataTable) return;\n",
              "\n",
              "          const docLinkHtml = 'Like what you see? Visit the ' +\n",
              "            '<a target=\"_blank\" href=https://colab.research.google.com/notebooks/data_table.ipynb>data table notebook</a>'\n",
              "            + ' to learn more about interactive tables.';\n",
              "          element.innerHTML = '';\n",
              "          dataTable['output_type'] = 'display_data';\n",
              "          await google.colab.output.renderOutput(dataTable, element);\n",
              "          const docLink = document.createElement('div');\n",
              "          docLink.innerHTML = docLinkHtml;\n",
              "          element.appendChild(docLink);\n",
              "        }\n",
              "      </script>\n",
              "    </div>\n",
              "  </div>\n",
              "  "
            ]
          },
          "metadata": {},
          "execution_count": 3
        }
      ]
    },
    {
      "cell_type": "code",
      "source": [
        "df.shape"
      ],
      "metadata": {
        "colab": {
          "base_uri": "https://localhost:8080/"
        },
        "id": "ARQHu9L6RKz_",
        "outputId": "d098b38c-bfd1-4234-8b19-0098f056c102"
      },
      "execution_count": 4,
      "outputs": [
        {
          "output_type": "execute_result",
          "data": {
            "text/plain": [
              "(11000, 2)"
            ]
          },
          "metadata": {},
          "execution_count": 4
        }
      ]
    },
    {
      "cell_type": "code",
      "source": [
        "df.columns =['text', 'label']\n",
        "df"
      ],
      "metadata": {
        "colab": {
          "base_uri": "https://localhost:8080/",
          "height": 424
        },
        "id": "mLtJLW4rLyAe",
        "outputId": "27846ca8-076d-4d27-e76c-ba28821db356"
      },
      "execution_count": 5,
      "outputs": [
        {
          "output_type": "execute_result",
          "data": {
            "text/plain": [
              "                                                    text     label\n",
              "0      warung ini dimiliki oleh pengusaha pabrik tahu...  positive\n",
              "1      mohon ulama lurus dan k212 mmbri hujjah partai...   neutral\n",
              "2      lokasi strategis di jalan sumatera bandung . t...  positive\n",
              "3      betapa bahagia nya diri ini saat unboxing pake...  positive\n",
              "4      duh . jadi mahasiswa jangan sombong dong . kas...  negative\n",
              "...                                                  ...       ...\n",
              "10995                                       tidak kecewa  positive\n",
              "10996  enak rasa masakan nya apalagi kepiting yang me...  positive\n",
              "10997        hormati partai-partai yang telah berkoalisi   neutral\n",
              "10998  pagi pagi di tol pasteur sudah macet parah , b...  negative\n",
              "10999  meskipun sering belanja ke yogya di riau junct...  positive\n",
              "\n",
              "[11000 rows x 2 columns]"
            ],
            "text/html": [
              "\n",
              "  <div id=\"df-00c7c7b6-b2ca-49e0-b3db-256f487eb923\">\n",
              "    <div class=\"colab-df-container\">\n",
              "      <div>\n",
              "<style scoped>\n",
              "    .dataframe tbody tr th:only-of-type {\n",
              "        vertical-align: middle;\n",
              "    }\n",
              "\n",
              "    .dataframe tbody tr th {\n",
              "        vertical-align: top;\n",
              "    }\n",
              "\n",
              "    .dataframe thead th {\n",
              "        text-align: right;\n",
              "    }\n",
              "</style>\n",
              "<table border=\"1\" class=\"dataframe\">\n",
              "  <thead>\n",
              "    <tr style=\"text-align: right;\">\n",
              "      <th></th>\n",
              "      <th>text</th>\n",
              "      <th>label</th>\n",
              "    </tr>\n",
              "  </thead>\n",
              "  <tbody>\n",
              "    <tr>\n",
              "      <th>0</th>\n",
              "      <td>warung ini dimiliki oleh pengusaha pabrik tahu...</td>\n",
              "      <td>positive</td>\n",
              "    </tr>\n",
              "    <tr>\n",
              "      <th>1</th>\n",
              "      <td>mohon ulama lurus dan k212 mmbri hujjah partai...</td>\n",
              "      <td>neutral</td>\n",
              "    </tr>\n",
              "    <tr>\n",
              "      <th>2</th>\n",
              "      <td>lokasi strategis di jalan sumatera bandung . t...</td>\n",
              "      <td>positive</td>\n",
              "    </tr>\n",
              "    <tr>\n",
              "      <th>3</th>\n",
              "      <td>betapa bahagia nya diri ini saat unboxing pake...</td>\n",
              "      <td>positive</td>\n",
              "    </tr>\n",
              "    <tr>\n",
              "      <th>4</th>\n",
              "      <td>duh . jadi mahasiswa jangan sombong dong . kas...</td>\n",
              "      <td>negative</td>\n",
              "    </tr>\n",
              "    <tr>\n",
              "      <th>...</th>\n",
              "      <td>...</td>\n",
              "      <td>...</td>\n",
              "    </tr>\n",
              "    <tr>\n",
              "      <th>10995</th>\n",
              "      <td>tidak kecewa</td>\n",
              "      <td>positive</td>\n",
              "    </tr>\n",
              "    <tr>\n",
              "      <th>10996</th>\n",
              "      <td>enak rasa masakan nya apalagi kepiting yang me...</td>\n",
              "      <td>positive</td>\n",
              "    </tr>\n",
              "    <tr>\n",
              "      <th>10997</th>\n",
              "      <td>hormati partai-partai yang telah berkoalisi</td>\n",
              "      <td>neutral</td>\n",
              "    </tr>\n",
              "    <tr>\n",
              "      <th>10998</th>\n",
              "      <td>pagi pagi di tol pasteur sudah macet parah , b...</td>\n",
              "      <td>negative</td>\n",
              "    </tr>\n",
              "    <tr>\n",
              "      <th>10999</th>\n",
              "      <td>meskipun sering belanja ke yogya di riau junct...</td>\n",
              "      <td>positive</td>\n",
              "    </tr>\n",
              "  </tbody>\n",
              "</table>\n",
              "<p>11000 rows × 2 columns</p>\n",
              "</div>\n",
              "      <button class=\"colab-df-convert\" onclick=\"convertToInteractive('df-00c7c7b6-b2ca-49e0-b3db-256f487eb923')\"\n",
              "              title=\"Convert this dataframe to an interactive table.\"\n",
              "              style=\"display:none;\">\n",
              "        \n",
              "  <svg xmlns=\"http://www.w3.org/2000/svg\" height=\"24px\"viewBox=\"0 0 24 24\"\n",
              "       width=\"24px\">\n",
              "    <path d=\"M0 0h24v24H0V0z\" fill=\"none\"/>\n",
              "    <path d=\"M18.56 5.44l.94 2.06.94-2.06 2.06-.94-2.06-.94-.94-2.06-.94 2.06-2.06.94zm-11 1L8.5 8.5l.94-2.06 2.06-.94-2.06-.94L8.5 2.5l-.94 2.06-2.06.94zm10 10l.94 2.06.94-2.06 2.06-.94-2.06-.94-.94-2.06-.94 2.06-2.06.94z\"/><path d=\"M17.41 7.96l-1.37-1.37c-.4-.4-.92-.59-1.43-.59-.52 0-1.04.2-1.43.59L10.3 9.45l-7.72 7.72c-.78.78-.78 2.05 0 2.83L4 21.41c.39.39.9.59 1.41.59.51 0 1.02-.2 1.41-.59l7.78-7.78 2.81-2.81c.8-.78.8-2.07 0-2.86zM5.41 20L4 18.59l7.72-7.72 1.47 1.35L5.41 20z\"/>\n",
              "  </svg>\n",
              "      </button>\n",
              "      \n",
              "  <style>\n",
              "    .colab-df-container {\n",
              "      display:flex;\n",
              "      flex-wrap:wrap;\n",
              "      gap: 12px;\n",
              "    }\n",
              "\n",
              "    .colab-df-convert {\n",
              "      background-color: #E8F0FE;\n",
              "      border: none;\n",
              "      border-radius: 50%;\n",
              "      cursor: pointer;\n",
              "      display: none;\n",
              "      fill: #1967D2;\n",
              "      height: 32px;\n",
              "      padding: 0 0 0 0;\n",
              "      width: 32px;\n",
              "    }\n",
              "\n",
              "    .colab-df-convert:hover {\n",
              "      background-color: #E2EBFA;\n",
              "      box-shadow: 0px 1px 2px rgba(60, 64, 67, 0.3), 0px 1px 3px 1px rgba(60, 64, 67, 0.15);\n",
              "      fill: #174EA6;\n",
              "    }\n",
              "\n",
              "    [theme=dark] .colab-df-convert {\n",
              "      background-color: #3B4455;\n",
              "      fill: #D2E3FC;\n",
              "    }\n",
              "\n",
              "    [theme=dark] .colab-df-convert:hover {\n",
              "      background-color: #434B5C;\n",
              "      box-shadow: 0px 1px 3px 1px rgba(0, 0, 0, 0.15);\n",
              "      filter: drop-shadow(0px 1px 2px rgba(0, 0, 0, 0.3));\n",
              "      fill: #FFFFFF;\n",
              "    }\n",
              "  </style>\n",
              "\n",
              "      <script>\n",
              "        const buttonEl =\n",
              "          document.querySelector('#df-00c7c7b6-b2ca-49e0-b3db-256f487eb923 button.colab-df-convert');\n",
              "        buttonEl.style.display =\n",
              "          google.colab.kernel.accessAllowed ? 'block' : 'none';\n",
              "\n",
              "        async function convertToInteractive(key) {\n",
              "          const element = document.querySelector('#df-00c7c7b6-b2ca-49e0-b3db-256f487eb923');\n",
              "          const dataTable =\n",
              "            await google.colab.kernel.invokeFunction('convertToInteractive',\n",
              "                                                     [key], {});\n",
              "          if (!dataTable) return;\n",
              "\n",
              "          const docLinkHtml = 'Like what you see? Visit the ' +\n",
              "            '<a target=\"_blank\" href=https://colab.research.google.com/notebooks/data_table.ipynb>data table notebook</a>'\n",
              "            + ' to learn more about interactive tables.';\n",
              "          element.innerHTML = '';\n",
              "          dataTable['output_type'] = 'display_data';\n",
              "          await google.colab.output.renderOutput(dataTable, element);\n",
              "          const docLink = document.createElement('div');\n",
              "          docLink.innerHTML = docLinkHtml;\n",
              "          element.appendChild(docLink);\n",
              "        }\n",
              "      </script>\n",
              "    </div>\n",
              "  </div>\n",
              "  "
            ]
          },
          "metadata": {},
          "execution_count": 5
        }
      ]
    },
    {
      "cell_type": "markdown",
      "source": [
        "#Check Data"
      ],
      "metadata": {
        "id": "C8cWd-A1RZEQ"
      }
    },
    {
      "cell_type": "code",
      "source": [
        "fig = px.pie(df, names='label', title ='Pie chart of different sentiments')\n",
        "fig.show()"
      ],
      "metadata": {
        "colab": {
          "base_uri": "https://localhost:8080/",
          "height": 542
        },
        "id": "xXs6sLnHyhY0",
        "outputId": "b2832ac8-3efd-4a6a-cfe2-5ae4a7d6d5f8"
      },
      "execution_count": 6,
      "outputs": [
        {
          "output_type": "display_data",
          "data": {
            "text/html": [
              "<html>\n",
              "<head><meta charset=\"utf-8\" /></head>\n",
              "<body>\n",
              "    <div>            <script src=\"https://cdnjs.cloudflare.com/ajax/libs/mathjax/2.7.5/MathJax.js?config=TeX-AMS-MML_SVG\"></script><script type=\"text/javascript\">if (window.MathJax) {MathJax.Hub.Config({SVG: {font: \"STIX-Web\"}});}</script>                <script type=\"text/javascript\">window.PlotlyConfig = {MathJaxConfig: 'local'};</script>\n",
              "        <script src=\"https://cdn.plot.ly/plotly-2.8.3.min.js\"></script>                <div id=\"33977aac-3df1-4a21-9adb-0942d7243c88\" class=\"plotly-graph-div\" style=\"height:525px; width:100%;\"></div>            <script type=\"text/javascript\">                                    window.PLOTLYENV=window.PLOTLYENV || {};                                    if (document.getElementById(\"33977aac-3df1-4a21-9adb-0942d7243c88\")) {                    Plotly.newPlot(                        \"33977aac-3df1-4a21-9adb-0942d7243c88\",                        [{\"domain\":{\"x\":[0.0,1.0],\"y\":[0.0,1.0]},\"hovertemplate\":\"label=%{label}<extra></extra>\",\"labels\":[\"positive\",\"neutral\",\"positive\",\"positive\",\"negative\",\"positive\",\"negative\",\"positive\",\"positive\",\"positive\",\"negative\",\"negative\",\"positive\",\"negative\",\"negative\",\"negative\",\"neutral\",\"positive\",\"positive\",\"positive\",\"positive\",\"positive\",\"positive\",\"positive\",\"positive\",\"negative\",\"negative\",\"positive\",\"neutral\",\"negative\",\"negative\",\"positive\",\"neutral\",\"positive\",\"positive\",\"positive\",\"positive\",\"neutral\",\"positive\",\"positive\",\"positive\",\"positive\",\"positive\",\"neutral\",\"positive\",\"positive\",\"negative\",\"negative\",\"negative\",\"positive\",\"neutral\",\"positive\",\"negative\",\"positive\",\"positive\",\"positive\",\"positive\",\"negative\",\"negative\",\"neutral\",\"positive\",\"negative\",\"negative\",\"negative\",\"positive\",\"negative\",\"positive\",\"positive\",\"negative\",\"negative\",\"negative\",\"positive\",\"negative\",\"negative\",\"positive\",\"positive\",\"positive\",\"negative\",\"positive\",\"positive\",\"negative\",\"positive\",\"neutral\",\"negative\",\"negative\",\"positive\",\"positive\",\"positive\",\"positive\",\"negative\",\"positive\",\"positive\",\"negative\",\"positive\",\"negative\",\"positive\",\"negative\",\"positive\",\"neutral\",\"negative\",\"positive\",\"positive\",\"positive\",\"negative\",\"positive\",\"positive\",\"positive\",\"negative\",\"negative\",\"positive\",\"positive\",\"positive\",\"positive\",\"positive\",\"positive\",\"negative\",\"positive\",\"negative\",\"positive\",\"negative\",\"negative\",\"positive\",\"negative\",\"positive\",\"negative\",\"positive\",\"neutral\",\"negative\",\"positive\",\"positive\",\"negative\",\"positive\",\"positive\",\"negative\",\"positive\",\"negative\",\"positive\",\"positive\",\"positive\",\"positive\",\"negative\",\"positive\",\"positive\",\"positive\",\"positive\",\"positive\",\"negative\",\"neutral\",\"negative\",\"neutral\",\"positive\",\"positive\",\"positive\",\"negative\",\"neutral\",\"positive\",\"positive\",\"negative\",\"negative\",\"negative\",\"neutral\",\"positive\",\"negative\",\"neutral\",\"negative\",\"positive\",\"positive\",\"positive\",\"positive\",\"positive\",\"negative\",\"positive\",\"positive\",\"positive\",\"positive\",\"negative\",\"positive\",\"positive\",\"positive\",\"neutral\",\"positive\",\"negative\",\"positive\",\"negative\",\"negative\",\"positive\",\"positive\",\"negative\",\"negative\",\"negative\",\"positive\",\"negative\",\"neutral\",\"positive\",\"negative\",\"positive\",\"positive\",\"positive\",\"positive\",\"positive\",\"positive\",\"negative\",\"positive\",\"negative\",\"positive\",\"positive\",\"neutral\",\"positive\",\"positive\",\"negative\",\"positive\",\"negative\",\"positive\",\"positive\",\"neutral\",\"positive\",\"negative\",\"positive\",\"positive\",\"positive\",\"positive\",\"positive\",\"positive\",\"positive\",\"neutral\",\"positive\",\"neutral\",\"negative\",\"positive\",\"negative\",\"positive\",\"neutral\",\"positive\",\"positive\",\"positive\",\"negative\",\"positive\",\"positive\",\"negative\",\"neutral\",\"positive\",\"positive\",\"positive\",\"positive\",\"positive\",\"negative\",\"negative\",\"negative\",\"negative\",\"positive\",\"negative\",\"negative\",\"neutral\",\"negative\",\"positive\",\"negative\",\"negative\",\"positive\",\"negative\",\"positive\",\"positive\",\"negative\",\"positive\",\"negative\",\"positive\",\"negative\",\"negative\",\"positive\",\"positive\",\"positive\",\"positive\",\"positive\",\"positive\",\"positive\",\"neutral\",\"positive\",\"negative\",\"neutral\",\"negative\",\"positive\",\"positive\",\"positive\",\"neutral\",\"positive\",\"positive\",\"negative\",\"positive\",\"positive\",\"positive\",\"positive\",\"positive\",\"positive\",\"neutral\",\"neutral\",\"positive\",\"positive\",\"positive\",\"positive\",\"neutral\",\"neutral\",\"positive\",\"negative\",\"positive\",\"positive\",\"neutral\",\"positive\",\"positive\",\"negative\",\"negative\",\"positive\",\"negative\",\"neutral\",\"positive\",\"positive\",\"neutral\",\"positive\",\"positive\",\"negative\",\"positive\",\"negative\",\"negative\",\"positive\",\"negative\",\"negative\",\"positive\",\"negative\",\"positive\",\"positive\",\"neutral\",\"neutral\",\"neutral\",\"positive\",\"neutral\",\"positive\",\"negative\",\"positive\",\"positive\",\"positive\",\"positive\",\"positive\",\"neutral\",\"positive\",\"negative\",\"positive\",\"negative\",\"neutral\",\"positive\",\"positive\",\"negative\",\"positive\",\"negative\",\"positive\",\"negative\",\"positive\",\"negative\",\"positive\",\"neutral\",\"positive\",\"positive\",\"positive\",\"positive\",\"negative\",\"negative\",\"negative\",\"negative\",\"negative\",\"positive\",\"negative\",\"negative\",\"positive\",\"negative\",\"neutral\",\"positive\",\"positive\",\"positive\",\"negative\",\"positive\",\"positive\",\"negative\",\"positive\",\"positive\",\"positive\",\"positive\",\"positive\",\"negative\",\"positive\",\"neutral\",\"negative\",\"positive\",\"positive\",\"negative\",\"positive\",\"negative\",\"negative\",\"positive\",\"positive\",\"positive\",\"negative\",\"positive\",\"positive\",\"negative\",\"neutral\",\"negative\",\"neutral\",\"positive\",\"negative\",\"positive\",\"positive\",\"positive\",\"negative\",\"positive\",\"neutral\",\"positive\",\"positive\",\"negative\",\"positive\",\"positive\",\"negative\",\"positive\",\"positive\",\"negative\",\"positive\",\"positive\",\"negative\",\"negative\",\"negative\",\"neutral\",\"negative\",\"positive\",\"positive\",\"positive\",\"negative\",\"negative\",\"neutral\",\"positive\",\"negative\",\"positive\",\"neutral\",\"negative\",\"positive\",\"negative\",\"positive\",\"neutral\",\"positive\",\"neutral\",\"negative\",\"negative\",\"negative\",\"negative\",\"positive\",\"positive\",\"positive\",\"negative\",\"positive\",\"negative\",\"neutral\",\"positive\",\"negative\",\"negative\",\"negative\",\"negative\",\"positive\",\"positive\",\"positive\",\"positive\",\"positive\",\"positive\",\"neutral\",\"negative\",\"negative\",\"negative\",\"positive\",\"positive\",\"positive\",\"positive\",\"positive\",\"positive\",\"positive\",\"positive\",\"positive\",\"positive\",\"negative\",\"neutral\",\"negative\",\"positive\",\"positive\",\"positive\",\"positive\",\"positive\",\"negative\",\"positive\",\"negative\",\"positive\",\"positive\",\"positive\",\"positive\",\"negative\",\"neutral\",\"negative\",\"neutral\",\"positive\",\"negative\",\"negative\",\"positive\",\"positive\",\"negative\",\"positive\",\"positive\",\"negative\",\"positive\",\"negative\",\"positive\",\"negative\",\"positive\",\"negative\",\"positive\",\"positive\",\"neutral\",\"negative\",\"positive\",\"positive\",\"positive\",\"negative\",\"positive\",\"positive\",\"negative\",\"positive\",\"negative\",\"negative\",\"positive\",\"positive\",\"neutral\",\"positive\",\"negative\",\"positive\",\"positive\",\"neutral\",\"negative\",\"positive\",\"negative\",\"neutral\",\"negative\",\"positive\",\"negative\",\"positive\",\"positive\",\"positive\",\"neutral\",\"positive\",\"neutral\",\"neutral\",\"positive\",\"positive\",\"positive\",\"negative\",\"neutral\",\"negative\",\"negative\",\"positive\",\"positive\",\"positive\",\"positive\",\"positive\",\"positive\",\"neutral\",\"positive\",\"positive\",\"positive\",\"negative\",\"positive\",\"positive\",\"positive\",\"positive\",\"neutral\",\"positive\",\"neutral\",\"positive\",\"positive\",\"positive\",\"positive\",\"negative\",\"negative\",\"positive\",\"positive\",\"positive\",\"negative\",\"positive\",\"negative\",\"positive\",\"positive\",\"neutral\",\"positive\",\"negative\",\"negative\",\"negative\",\"negative\",\"negative\",\"negative\",\"positive\",\"positive\",\"positive\",\"neutral\",\"negative\",\"positive\",\"neutral\",\"negative\",\"positive\",\"negative\",\"neutral\",\"negative\",\"positive\",\"positive\",\"positive\",\"positive\",\"negative\",\"positive\",\"neutral\",\"negative\",\"positive\",\"negative\",\"positive\",\"positive\",\"positive\",\"positive\",\"positive\",\"positive\",\"positive\",\"neutral\",\"positive\",\"positive\",\"positive\",\"negative\",\"negative\",\"negative\",\"positive\",\"positive\",\"positive\",\"positive\",\"negative\",\"positive\",\"negative\",\"positive\",\"positive\",\"positive\",\"positive\",\"positive\",\"neutral\",\"positive\",\"negative\",\"negative\",\"positive\",\"positive\",\"positive\",\"positive\",\"positive\",\"neutral\",\"negative\",\"positive\",\"positive\",\"negative\",\"positive\",\"positive\",\"negative\",\"negative\",\"positive\",\"neutral\",\"positive\",\"positive\",\"positive\",\"positive\",\"positive\",\"positive\",\"neutral\",\"positive\",\"negative\",\"positive\",\"neutral\",\"positive\",\"neutral\",\"negative\",\"positive\",\"negative\",\"negative\",\"negative\",\"positive\",\"positive\",\"positive\",\"positive\",\"negative\",\"positive\",\"negative\",\"negative\",\"positive\",\"negative\",\"neutral\",\"negative\",\"positive\",\"positive\",\"negative\",\"positive\",\"negative\",\"negative\",\"negative\",\"negative\",\"positive\",\"positive\",\"positive\",\"positive\",\"negative\",\"positive\",\"positive\",\"positive\",\"positive\",\"positive\",\"positive\",\"positive\",\"positive\",\"positive\",\"negative\",\"negative\",\"positive\",\"positive\",\"positive\",\"negative\",\"positive\",\"negative\",\"positive\",\"positive\",\"positive\",\"negative\",\"positive\",\"negative\",\"positive\",\"positive\",\"positive\",\"positive\",\"negative\",\"neutral\",\"positive\",\"positive\",\"positive\",\"negative\",\"negative\",\"negative\",\"negative\",\"negative\",\"positive\",\"negative\",\"positive\",\"positive\",\"negative\",\"negative\",\"positive\",\"neutral\",\"neutral\",\"positive\",\"positive\",\"positive\",\"positive\",\"positive\",\"positive\",\"positive\",\"positive\",\"positive\",\"positive\",\"positive\",\"positive\",\"positive\",\"neutral\",\"positive\",\"positive\",\"positive\",\"negative\",\"negative\",\"positive\",\"negative\",\"negative\",\"positive\",\"negative\",\"positive\",\"positive\",\"negative\",\"positive\",\"positive\",\"positive\",\"negative\",\"positive\",\"positive\",\"negative\",\"positive\",\"positive\",\"negative\",\"positive\",\"neutral\",\"positive\",\"positive\",\"positive\",\"positive\",\"positive\",\"positive\",\"negative\",\"negative\",\"positive\",\"negative\",\"positive\",\"positive\",\"negative\",\"positive\",\"positive\",\"negative\",\"positive\",\"positive\",\"negative\",\"positive\",\"positive\",\"positive\",\"positive\",\"negative\",\"positive\",\"positive\",\"negative\",\"positive\",\"positive\",\"neutral\",\"positive\",\"positive\",\"negative\",\"neutral\",\"negative\",\"positive\",\"negative\",\"negative\",\"neutral\",\"negative\",\"negative\",\"positive\",\"positive\",\"positive\",\"negative\",\"positive\",\"positive\",\"negative\",\"negative\",\"positive\",\"neutral\",\"neutral\",\"positive\",\"negative\",\"positive\",\"negative\",\"negative\",\"positive\",\"positive\",\"positive\",\"neutral\",\"positive\",\"neutral\",\"negative\",\"neutral\",\"negative\",\"positive\",\"negative\",\"positive\",\"positive\",\"neutral\",\"positive\",\"negative\",\"positive\",\"negative\",\"positive\",\"positive\",\"neutral\",\"negative\",\"positive\",\"negative\",\"negative\",\"positive\",\"positive\",\"positive\",\"positive\",\"positive\",\"positive\",\"positive\",\"positive\",\"positive\",\"negative\",\"negative\",\"positive\",\"positive\",\"positive\",\"negative\",\"positive\",\"positive\",\"negative\",\"positive\",\"positive\",\"neutral\",\"neutral\",\"positive\",\"negative\",\"negative\",\"positive\",\"negative\",\"positive\",\"positive\",\"positive\",\"neutral\",\"negative\",\"positive\",\"positive\",\"negative\",\"positive\",\"positive\",\"negative\",\"neutral\",\"negative\",\"negative\",\"neutral\",\"positive\",\"neutral\",\"positive\",\"positive\",\"positive\",\"negative\",\"negative\",\"positive\",\"positive\",\"positive\",\"positive\",\"positive\",\"positive\",\"negative\",\"positive\",\"negative\",\"positive\",\"negative\",\"positive\",\"positive\",\"positive\",\"positive\",\"positive\",\"positive\",\"positive\",\"positive\",\"negative\",\"positive\",\"negative\",\"positive\",\"negative\",\"positive\",\"positive\",\"positive\",\"positive\",\"positive\",\"positive\",\"positive\",\"negative\",\"negative\",\"neutral\",\"neutral\",\"negative\",\"negative\",\"positive\",\"positive\",\"negative\",\"negative\",\"positive\",\"positive\",\"positive\",\"positive\",\"positive\",\"positive\",\"neutral\",\"positive\",\"positive\",\"positive\",\"positive\",\"negative\",\"positive\",\"negative\",\"positive\",\"negative\",\"negative\",\"negative\",\"positive\",\"neutral\",\"positive\",\"positive\",\"positive\",\"positive\",\"positive\",\"negative\",\"negative\",\"negative\",\"neutral\",\"positive\",\"positive\",\"negative\",\"neutral\",\"positive\",\"negative\",\"positive\",\"neutral\",\"positive\",\"positive\",\"positive\",\"positive\",\"positive\",\"positive\",\"neutral\",\"positive\",\"positive\",\"positive\",\"positive\",\"negative\",\"positive\",\"neutral\",\"positive\",\"positive\",\"negative\",\"positive\",\"negative\",\"negative\",\"positive\",\"positive\",\"negative\",\"positive\",\"negative\",\"neutral\",\"positive\",\"neutral\",\"negative\",\"positive\",\"positive\",\"negative\",\"negative\",\"positive\",\"negative\",\"positive\",\"positive\",\"positive\",\"positive\",\"positive\",\"negative\",\"positive\",\"negative\",\"positive\",\"negative\",\"negative\",\"positive\",\"negative\",\"positive\",\"negative\",\"positive\",\"positive\",\"positive\",\"positive\",\"positive\",\"positive\",\"positive\",\"positive\",\"positive\",\"positive\",\"positive\",\"positive\",\"negative\",\"negative\",\"positive\",\"positive\",\"positive\",\"positive\",\"positive\",\"neutral\",\"positive\",\"neutral\",\"negative\",\"positive\",\"negative\",\"positive\",\"positive\",\"positive\",\"positive\",\"positive\",\"positive\",\"negative\",\"negative\",\"negative\",\"positive\",\"positive\",\"negative\",\"positive\",\"negative\",\"positive\",\"negative\",\"negative\",\"positive\",\"negative\",\"positive\",\"negative\",\"negative\",\"negative\",\"positive\",\"positive\",\"neutral\",\"positive\",\"neutral\",\"positive\",\"positive\",\"positive\",\"positive\",\"negative\",\"positive\",\"neutral\",\"negative\",\"negative\",\"positive\",\"neutral\",\"negative\",\"negative\",\"positive\",\"negative\",\"positive\",\"neutral\",\"negative\",\"positive\",\"neutral\",\"positive\",\"negative\",\"positive\",\"positive\",\"positive\",\"negative\",\"positive\",\"positive\",\"positive\",\"negative\",\"positive\",\"positive\",\"negative\",\"negative\",\"positive\",\"positive\",\"positive\",\"negative\",\"negative\",\"positive\",\"positive\",\"positive\",\"positive\",\"neutral\",\"positive\",\"positive\",\"positive\",\"positive\",\"positive\",\"positive\",\"positive\",\"negative\",\"positive\",\"positive\",\"positive\",\"negative\",\"positive\",\"positive\",\"negative\",\"negative\",\"negative\",\"positive\",\"positive\",\"positive\",\"positive\",\"negative\",\"neutral\",\"positive\",\"negative\",\"positive\",\"neutral\",\"positive\",\"positive\",\"positive\",\"positive\",\"positive\",\"positive\",\"positive\",\"positive\",\"neutral\",\"positive\",\"negative\",\"positive\",\"positive\",\"positive\",\"positive\",\"negative\",\"positive\",\"positive\",\"positive\",\"positive\",\"negative\",\"positive\",\"negative\",\"positive\",\"positive\",\"negative\",\"positive\",\"positive\",\"positive\",\"positive\",\"negative\",\"positive\",\"positive\",\"positive\",\"negative\",\"positive\",\"negative\",\"neutral\",\"positive\",\"positive\",\"neutral\",\"positive\",\"positive\",\"positive\",\"positive\",\"negative\",\"positive\",\"negative\",\"positive\",\"positive\",\"positive\",\"neutral\",\"positive\",\"positive\",\"negative\",\"positive\",\"positive\",\"neutral\",\"positive\",\"negative\",\"negative\",\"negative\",\"neutral\",\"neutral\",\"neutral\",\"positive\",\"negative\",\"negative\",\"negative\",\"negative\",\"positive\",\"negative\",\"positive\",\"positive\",\"positive\",\"positive\",\"positive\",\"positive\",\"negative\",\"negative\",\"neutral\",\"positive\",\"positive\",\"positive\",\"neutral\",\"positive\",\"positive\",\"positive\",\"positive\",\"neutral\",\"positive\",\"negative\",\"neutral\",\"positive\",\"positive\",\"negative\",\"negative\",\"positive\",\"negative\",\"positive\",\"negative\",\"positive\",\"positive\",\"neutral\",\"positive\",\"neutral\",\"positive\",\"positive\",\"negative\",\"negative\",\"positive\",\"positive\",\"neutral\",\"negative\",\"positive\",\"negative\",\"positive\",\"positive\",\"neutral\",\"neutral\",\"positive\",\"positive\",\"negative\",\"negative\",\"positive\",\"positive\",\"negative\",\"positive\",\"negative\",\"positive\",\"negative\",\"positive\",\"positive\",\"positive\",\"positive\",\"positive\",\"positive\",\"positive\",\"positive\",\"positive\",\"negative\",\"positive\",\"positive\",\"positive\",\"positive\",\"positive\",\"positive\",\"negative\",\"positive\",\"positive\",\"positive\",\"positive\",\"positive\",\"negative\",\"negative\",\"positive\",\"positive\",\"positive\",\"positive\",\"negative\",\"positive\",\"positive\",\"positive\",\"positive\",\"positive\",\"negative\",\"neutral\",\"negative\",\"positive\",\"positive\",\"positive\",\"positive\",\"neutral\",\"negative\",\"positive\",\"positive\",\"positive\",\"neutral\",\"positive\",\"positive\",\"positive\",\"positive\",\"negative\",\"positive\",\"positive\",\"negative\",\"neutral\",\"positive\",\"positive\",\"negative\",\"positive\",\"negative\",\"positive\",\"negative\",\"negative\",\"positive\",\"positive\",\"positive\",\"positive\",\"positive\",\"negative\",\"positive\",\"negative\",\"positive\",\"neutral\",\"positive\",\"positive\",\"positive\",\"positive\",\"positive\",\"neutral\",\"positive\",\"positive\",\"positive\",\"negative\",\"positive\",\"negative\",\"negative\",\"positive\",\"positive\",\"positive\",\"positive\",\"positive\",\"positive\",\"positive\",\"positive\",\"negative\",\"positive\",\"negative\",\"positive\",\"positive\",\"positive\",\"positive\",\"positive\",\"neutral\",\"positive\",\"negative\",\"negative\",\"negative\",\"positive\",\"neutral\",\"positive\",\"positive\",\"positive\",\"positive\",\"positive\",\"positive\",\"positive\",\"neutral\",\"neutral\",\"positive\",\"positive\",\"negative\",\"negative\",\"neutral\",\"positive\",\"negative\",\"negative\",\"positive\",\"neutral\",\"neutral\",\"negative\",\"negative\",\"neutral\",\"positive\",\"positive\",\"negative\",\"negative\",\"negative\",\"positive\",\"negative\",\"positive\",\"negative\",\"positive\",\"positive\",\"positive\",\"negative\",\"neutral\",\"negative\",\"neutral\",\"negative\",\"positive\",\"negative\",\"positive\",\"positive\",\"negative\",\"positive\",\"negative\",\"positive\",\"positive\",\"negative\",\"positive\",\"positive\",\"negative\",\"positive\",\"positive\",\"positive\",\"negative\",\"positive\",\"negative\",\"positive\",\"positive\",\"neutral\",\"positive\",\"positive\",\"neutral\",\"negative\",\"neutral\",\"negative\",\"negative\",\"positive\",\"negative\",\"negative\",\"negative\",\"positive\",\"positive\",\"positive\",\"negative\",\"positive\",\"positive\",\"neutral\",\"positive\",\"negative\",\"positive\",\"positive\",\"positive\",\"negative\",\"positive\",\"positive\",\"positive\",\"positive\",\"positive\",\"negative\",\"positive\",\"positive\",\"negative\",\"positive\",\"negative\",\"positive\",\"positive\",\"negative\",\"negative\",\"negative\",\"negative\",\"positive\",\"positive\",\"positive\",\"neutral\",\"positive\",\"positive\",\"negative\",\"positive\",\"positive\",\"positive\",\"negative\",\"negative\",\"negative\",\"negative\",\"positive\",\"positive\",\"positive\",\"positive\",\"neutral\",\"negative\",\"positive\",\"positive\",\"neutral\",\"negative\",\"positive\",\"negative\",\"positive\",\"negative\",\"positive\",\"negative\",\"negative\",\"positive\",\"negative\",\"negative\",\"negative\",\"positive\",\"positive\",\"negative\",\"positive\",\"positive\",\"positive\",\"positive\",\"positive\",\"positive\",\"neutral\",\"neutral\",\"positive\",\"negative\",\"negative\",\"negative\",\"positive\",\"positive\",\"positive\",\"positive\",\"positive\",\"positive\",\"positive\",\"neutral\",\"positive\",\"positive\",\"neutral\",\"positive\",\"positive\",\"positive\",\"neutral\",\"positive\",\"neutral\",\"negative\",\"positive\",\"positive\",\"positive\",\"negative\",\"neutral\",\"positive\",\"negative\",\"negative\",\"neutral\",\"positive\",\"neutral\",\"positive\",\"negative\",\"neutral\",\"negative\",\"positive\",\"positive\",\"negative\",\"negative\",\"positive\",\"positive\",\"positive\",\"positive\",\"positive\",\"negative\",\"positive\",\"negative\",\"positive\",\"positive\",\"positive\",\"neutral\",\"positive\",\"positive\",\"positive\",\"positive\",\"positive\",\"neutral\",\"negative\",\"negative\",\"positive\",\"positive\",\"positive\",\"positive\",\"positive\",\"positive\",\"positive\",\"positive\",\"neutral\",\"negative\",\"positive\",\"negative\",\"positive\",\"positive\",\"negative\",\"positive\",\"positive\",\"positive\",\"positive\",\"positive\",\"positive\",\"positive\",\"neutral\",\"positive\",\"negative\",\"positive\",\"negative\",\"positive\",\"positive\",\"positive\",\"positive\",\"positive\",\"negative\",\"positive\",\"negative\",\"positive\",\"positive\",\"positive\",\"positive\",\"positive\",\"positive\",\"negative\",\"negative\",\"positive\",\"positive\",\"positive\",\"positive\",\"positive\",\"negative\",\"positive\",\"positive\",\"negative\",\"negative\",\"positive\",\"negative\",\"negative\",\"positive\",\"positive\",\"negative\",\"neutral\",\"negative\",\"positive\",\"positive\",\"positive\",\"negative\",\"neutral\",\"positive\",\"negative\",\"positive\",\"positive\",\"positive\",\"positive\",\"negative\",\"positive\",\"positive\",\"positive\",\"neutral\",\"positive\",\"negative\",\"negative\",\"positive\",\"positive\",\"negative\",\"positive\",\"positive\",\"positive\",\"positive\",\"positive\",\"positive\",\"positive\",\"negative\",\"positive\",\"negative\",\"positive\",\"positive\",\"positive\",\"positive\",\"neutral\",\"positive\",\"positive\",\"positive\",\"positive\",\"negative\",\"positive\",\"positive\",\"negative\",\"negative\",\"positive\",\"neutral\",\"positive\",\"positive\",\"negative\",\"positive\",\"negative\",\"negative\",\"negative\",\"positive\",\"positive\",\"negative\",\"neutral\",\"positive\",\"positive\",\"negative\",\"negative\",\"positive\",\"positive\",\"neutral\",\"neutral\",\"positive\",\"positive\",\"negative\",\"negative\",\"negative\",\"positive\",\"positive\",\"positive\",\"positive\",\"positive\",\"positive\",\"positive\",\"neutral\",\"positive\",\"positive\",\"positive\",\"positive\",\"neutral\",\"negative\",\"positive\",\"positive\",\"positive\",\"positive\",\"positive\",\"positive\",\"positive\",\"positive\",\"positive\",\"positive\",\"negative\",\"positive\",\"positive\",\"positive\",\"neutral\",\"positive\",\"negative\",\"positive\",\"negative\",\"positive\",\"positive\",\"positive\",\"positive\",\"positive\",\"positive\",\"negative\",\"positive\",\"positive\",\"negative\",\"neutral\",\"negative\",\"negative\",\"positive\",\"positive\",\"positive\",\"negative\",\"positive\",\"positive\",\"negative\",\"positive\",\"positive\",\"positive\",\"positive\",\"neutral\",\"positive\",\"positive\",\"positive\",\"neutral\",\"neutral\",\"positive\",\"negative\",\"positive\",\"positive\",\"neutral\",\"positive\",\"negative\",\"positive\",\"positive\",\"positive\",\"negative\",\"negative\",\"positive\",\"positive\",\"negative\",\"positive\",\"negative\",\"negative\",\"neutral\",\"negative\",\"negative\",\"positive\",\"negative\",\"positive\",\"positive\",\"negative\",\"positive\",\"negative\",\"positive\",\"neutral\",\"neutral\",\"positive\",\"positive\",\"positive\",\"negative\",\"positive\",\"positive\",\"positive\",\"positive\",\"positive\",\"positive\",\"negative\",\"positive\",\"negative\",\"positive\",\"negative\",\"negative\",\"positive\",\"positive\",\"positive\",\"positive\",\"negative\",\"positive\",\"positive\",\"negative\",\"positive\",\"negative\",\"negative\",\"positive\",\"negative\",\"negative\",\"negative\",\"positive\",\"positive\",\"negative\",\"negative\",\"positive\",\"positive\",\"positive\",\"negative\",\"positive\",\"negative\",\"positive\",\"neutral\",\"negative\",\"negative\",\"negative\",\"positive\",\"negative\",\"positive\",\"neutral\",\"positive\",\"positive\",\"positive\",\"negative\",\"positive\",\"neutral\",\"positive\",\"negative\",\"negative\",\"negative\",\"neutral\",\"negative\",\"negative\",\"positive\",\"positive\",\"neutral\",\"negative\",\"positive\",\"positive\",\"positive\",\"positive\",\"positive\",\"positive\",\"positive\",\"positive\",\"positive\",\"negative\",\"neutral\",\"positive\",\"negative\",\"positive\",\"neutral\",\"positive\",\"positive\",\"positive\",\"negative\",\"positive\",\"neutral\",\"negative\",\"positive\",\"positive\",\"neutral\",\"negative\",\"negative\",\"negative\",\"negative\",\"neutral\",\"positive\",\"positive\",\"positive\",\"positive\",\"negative\",\"negative\",\"negative\",\"neutral\",\"positive\",\"negative\",\"positive\",\"positive\",\"negative\",\"positive\",\"positive\",\"positive\",\"negative\",\"positive\",\"negative\",\"positive\",\"negative\",\"positive\",\"negative\",\"positive\",\"positive\",\"positive\",\"negative\",\"negative\",\"positive\",\"positive\",\"positive\",\"positive\",\"positive\",\"positive\",\"negative\",\"negative\",\"positive\",\"positive\",\"positive\",\"negative\",\"positive\",\"positive\",\"positive\",\"neutral\",\"positive\",\"positive\",\"positive\",\"neutral\",\"positive\",\"positive\",\"positive\",\"negative\",\"positive\",\"positive\",\"positive\",\"neutral\",\"neutral\",\"positive\",\"negative\",\"positive\",\"positive\",\"negative\",\"positive\",\"positive\",\"negative\",\"neutral\",\"positive\",\"positive\",\"positive\",\"positive\",\"positive\",\"positive\",\"positive\",\"positive\",\"positive\",\"positive\",\"neutral\",\"negative\",\"neutral\",\"positive\",\"positive\",\"positive\",\"negative\",\"positive\",\"negative\",\"negative\",\"positive\",\"negative\",\"positive\",\"positive\",\"neutral\",\"negative\",\"positive\",\"positive\",\"positive\",\"positive\",\"negative\",\"negative\",\"negative\",\"positive\",\"negative\",\"neutral\",\"negative\",\"positive\",\"positive\",\"positive\",\"positive\",\"positive\",\"positive\",\"negative\",\"negative\",\"positive\",\"negative\",\"positive\",\"negative\",\"positive\",\"neutral\",\"positive\",\"positive\",\"positive\",\"positive\",\"negative\",\"negative\",\"positive\",\"neutral\",\"positive\",\"positive\",\"neutral\",\"positive\",\"positive\",\"negative\",\"neutral\",\"positive\",\"neutral\",\"positive\",\"negative\",\"positive\",\"positive\",\"positive\",\"positive\",\"neutral\",\"negative\",\"positive\",\"negative\",\"negative\",\"positive\",\"neutral\",\"positive\",\"neutral\",\"positive\",\"positive\",\"positive\",\"positive\",\"positive\",\"negative\",\"negative\",\"positive\",\"negative\",\"positive\",\"positive\",\"positive\",\"neutral\",\"negative\",\"positive\",\"negative\",\"positive\",\"positive\",\"positive\",\"positive\",\"neutral\",\"positive\",\"positive\",\"negative\",\"negative\",\"positive\",\"positive\",\"negative\",\"positive\",\"positive\",\"positive\",\"positive\",\"positive\",\"negative\",\"positive\",\"positive\",\"positive\",\"positive\",\"negative\",\"negative\",\"positive\",\"neutral\",\"positive\",\"negative\",\"positive\",\"positive\",\"positive\",\"positive\",\"positive\",\"negative\",\"positive\",\"positive\",\"negative\",\"positive\",\"positive\",\"positive\",\"positive\",\"neutral\",\"positive\",\"positive\",\"negative\",\"negative\",\"positive\",\"neutral\",\"positive\",\"negative\",\"negative\",\"positive\",\"negative\",\"negative\",\"negative\",\"positive\",\"positive\",\"positive\",\"positive\",\"negative\",\"neutral\",\"neutral\",\"negative\",\"positive\",\"positive\",\"neutral\",\"negative\",\"negative\",\"positive\",\"positive\",\"positive\",\"neutral\",\"neutral\",\"negative\",\"negative\",\"neutral\",\"negative\",\"positive\",\"neutral\",\"positive\",\"negative\",\"positive\",\"neutral\",\"positive\",\"positive\",\"positive\",\"positive\",\"positive\",\"positive\",\"positive\",\"negative\",\"positive\",\"negative\",\"negative\",\"neutral\",\"positive\",\"negative\",\"positive\",\"positive\",\"positive\",\"positive\",\"negative\",\"negative\",\"positive\",\"positive\",\"negative\",\"positive\",\"positive\",\"negative\",\"negative\",\"positive\",\"positive\",\"positive\",\"negative\",\"positive\",\"positive\",\"positive\",\"positive\",\"positive\",\"positive\",\"positive\",\"negative\",\"negative\",\"positive\",\"positive\",\"positive\",\"neutral\",\"positive\",\"negative\",\"negative\",\"positive\",\"positive\",\"negative\",\"positive\",\"positive\",\"negative\",\"negative\",\"positive\",\"positive\",\"negative\",\"positive\",\"positive\",\"positive\",\"positive\",\"negative\",\"neutral\",\"negative\",\"negative\",\"negative\",\"negative\",\"neutral\",\"positive\",\"positive\",\"positive\",\"positive\",\"negative\",\"positive\",\"positive\",\"negative\",\"negative\",\"positive\",\"positive\",\"negative\",\"positive\",\"negative\",\"negative\",\"negative\",\"positive\",\"neutral\",\"positive\",\"positive\",\"positive\",\"positive\",\"positive\",\"positive\",\"positive\",\"positive\",\"positive\",\"negative\",\"positive\",\"negative\",\"negative\",\"positive\",\"negative\",\"neutral\",\"positive\",\"negative\",\"negative\",\"positive\",\"positive\",\"positive\",\"positive\",\"negative\",\"positive\",\"positive\",\"positive\",\"negative\",\"positive\",\"negative\",\"positive\",\"negative\",\"positive\",\"neutral\",\"negative\",\"positive\",\"positive\",\"positive\",\"neutral\",\"positive\",\"positive\",\"positive\",\"negative\",\"positive\",\"positive\",\"positive\",\"negative\",\"neutral\",\"negative\",\"positive\",\"negative\",\"positive\",\"positive\",\"positive\",\"negative\",\"positive\",\"negative\",\"positive\",\"positive\",\"negative\",\"negative\",\"negative\",\"negative\",\"positive\",\"positive\",\"negative\",\"negative\",\"negative\",\"positive\",\"positive\",\"positive\",\"neutral\",\"positive\",\"negative\",\"positive\",\"negative\",\"neutral\",\"positive\",\"neutral\",\"negative\",\"negative\",\"neutral\",\"neutral\",\"positive\",\"positive\",\"neutral\",\"positive\",\"positive\",\"neutral\",\"positive\",\"negative\",\"positive\",\"neutral\",\"positive\",\"positive\",\"negative\",\"negative\",\"positive\",\"positive\",\"negative\",\"negative\",\"positive\",\"positive\",\"positive\",\"positive\",\"positive\",\"positive\",\"negative\",\"negative\",\"negative\",\"positive\",\"negative\",\"neutral\",\"positive\",\"negative\",\"negative\",\"negative\",\"positive\",\"positive\",\"positive\",\"positive\",\"positive\",\"negative\",\"positive\",\"negative\",\"positive\",\"neutral\",\"negative\",\"positive\",\"positive\",\"neutral\",\"positive\",\"negative\",\"negative\",\"positive\",\"positive\",\"negative\",\"positive\",\"positive\",\"positive\",\"positive\",\"positive\",\"positive\",\"positive\",\"negative\",\"negative\",\"negative\",\"positive\",\"positive\",\"positive\",\"positive\",\"neutral\",\"positive\",\"positive\",\"positive\",\"positive\",\"positive\",\"positive\",\"negative\",\"negative\",\"negative\",\"neutral\",\"neutral\",\"negative\",\"positive\",\"negative\",\"positive\",\"positive\",\"positive\",\"negative\",\"positive\",\"negative\",\"positive\",\"positive\",\"negative\",\"positive\",\"positive\",\"negative\",\"negative\",\"neutral\",\"positive\",\"negative\",\"positive\",\"negative\",\"positive\",\"positive\",\"neutral\",\"positive\",\"positive\",\"positive\",\"positive\",\"positive\",\"positive\",\"negative\",\"positive\",\"neutral\",\"positive\",\"negative\",\"positive\",\"positive\",\"positive\",\"positive\",\"positive\",\"positive\",\"positive\",\"positive\",\"positive\",\"positive\",\"negative\",\"positive\",\"negative\",\"neutral\",\"negative\",\"positive\",\"negative\",\"negative\",\"positive\",\"positive\",\"negative\",\"positive\",\"negative\",\"positive\",\"positive\",\"positive\",\"positive\",\"positive\",\"positive\",\"negative\",\"positive\",\"neutral\",\"negative\",\"positive\",\"positive\",\"positive\",\"positive\",\"negative\",\"positive\",\"negative\",\"positive\",\"positive\",\"positive\",\"positive\",\"positive\",\"positive\",\"negative\",\"positive\",\"positive\",\"negative\",\"positive\",\"positive\",\"positive\",\"negative\",\"positive\",\"positive\",\"negative\",\"neutral\",\"negative\",\"positive\",\"negative\",\"negative\",\"positive\",\"positive\",\"neutral\",\"positive\",\"negative\",\"negative\",\"negative\",\"positive\",\"negative\",\"negative\",\"positive\",\"negative\",\"negative\",\"positive\",\"negative\",\"negative\",\"positive\",\"negative\",\"negative\",\"positive\",\"negative\",\"positive\",\"positive\",\"negative\",\"positive\",\"negative\",\"positive\",\"positive\",\"positive\",\"negative\",\"positive\",\"positive\",\"negative\",\"neutral\",\"positive\",\"positive\",\"positive\",\"positive\",\"negative\",\"negative\",\"negative\",\"positive\",\"positive\",\"positive\",\"positive\",\"positive\",\"positive\",\"positive\",\"negative\",\"negative\",\"positive\",\"neutral\",\"positive\",\"positive\",\"positive\",\"positive\",\"negative\",\"neutral\",\"neutral\",\"positive\",\"neutral\",\"negative\",\"negative\",\"negative\",\"negative\",\"positive\",\"neutral\",\"positive\",\"negative\",\"positive\",\"positive\",\"neutral\",\"positive\",\"positive\",\"negative\",\"neutral\",\"negative\",\"positive\",\"negative\",\"negative\",\"positive\",\"positive\",\"negative\",\"positive\",\"negative\",\"negative\",\"positive\",\"negative\",\"positive\",\"negative\",\"negative\",\"positive\",\"positive\",\"positive\",\"positive\",\"negative\",\"neutral\",\"positive\",\"positive\",\"positive\",\"positive\",\"negative\",\"positive\",\"negative\",\"negative\",\"negative\",\"neutral\",\"positive\",\"positive\",\"negative\",\"positive\",\"positive\",\"negative\",\"neutral\",\"positive\",\"positive\",\"positive\",\"negative\",\"positive\",\"positive\",\"positive\",\"positive\",\"positive\",\"positive\",\"neutral\",\"neutral\",\"negative\",\"positive\",\"positive\",\"positive\",\"neutral\",\"positive\",\"negative\",\"positive\",\"negative\",\"positive\",\"positive\",\"positive\",\"negative\",\"positive\",\"negative\",\"positive\",\"negative\",\"positive\",\"negative\",\"positive\",\"negative\",\"negative\",\"negative\",\"positive\",\"negative\",\"negative\",\"positive\",\"positive\",\"positive\",\"negative\",\"positive\",\"positive\",\"negative\",\"positive\",\"negative\",\"positive\",\"positive\",\"negative\",\"positive\",\"negative\",\"positive\",\"positive\",\"positive\",\"positive\",\"positive\",\"negative\",\"positive\",\"positive\",\"positive\",\"positive\",\"positive\",\"positive\",\"positive\",\"positive\",\"neutral\",\"negative\",\"positive\",\"positive\",\"negative\",\"positive\",\"positive\",\"positive\",\"positive\",\"positive\",\"positive\",\"positive\",\"positive\",\"positive\",\"negative\",\"positive\",\"positive\",\"positive\",\"positive\",\"neutral\",\"positive\",\"positive\",\"positive\",\"positive\",\"negative\",\"negative\",\"positive\",\"positive\",\"negative\",\"neutral\",\"neutral\",\"positive\",\"negative\",\"positive\",\"negative\",\"negative\",\"positive\",\"positive\",\"positive\",\"positive\",\"negative\",\"negative\",\"positive\",\"positive\",\"positive\",\"neutral\",\"neutral\",\"neutral\",\"positive\",\"positive\",\"positive\",\"negative\",\"positive\",\"positive\",\"negative\",\"negative\",\"positive\",\"negative\",\"positive\",\"negative\",\"positive\",\"negative\",\"positive\",\"positive\",\"positive\",\"negative\",\"negative\",\"positive\",\"positive\",\"positive\",\"positive\",\"neutral\",\"positive\",\"positive\",\"positive\",\"positive\",\"positive\",\"negative\",\"positive\",\"positive\",\"negative\",\"positive\",\"positive\",\"negative\",\"positive\",\"negative\",\"positive\",\"neutral\",\"negative\",\"negative\",\"positive\",\"positive\",\"neutral\",\"negative\",\"negative\",\"positive\",\"negative\",\"positive\",\"negative\",\"neutral\",\"negative\",\"negative\",\"negative\",\"negative\",\"positive\",\"negative\",\"negative\",\"negative\",\"negative\",\"positive\",\"positive\",\"negative\",\"negative\",\"positive\",\"negative\",\"negative\",\"negative\",\"neutral\",\"negative\",\"positive\",\"neutral\",\"positive\",\"negative\",\"positive\",\"positive\",\"positive\",\"neutral\",\"positive\",\"positive\",\"positive\",\"positive\",\"negative\",\"negative\",\"positive\",\"positive\",\"positive\",\"neutral\",\"positive\",\"positive\",\"positive\",\"positive\",\"positive\",\"negative\",\"negative\",\"neutral\",\"positive\",\"negative\",\"positive\",\"negative\",\"positive\",\"positive\",\"positive\",\"positive\",\"positive\",\"positive\",\"positive\",\"negative\",\"positive\",\"positive\",\"negative\",\"positive\",\"negative\",\"negative\",\"negative\",\"positive\",\"negative\",\"negative\",\"negative\",\"positive\",\"negative\",\"positive\",\"positive\",\"negative\",\"positive\",\"positive\",\"positive\",\"positive\",\"positive\",\"negative\",\"positive\",\"negative\",\"negative\",\"negative\",\"negative\",\"negative\",\"negative\",\"negative\",\"negative\",\"neutral\",\"positive\",\"negative\",\"positive\",\"positive\",\"positive\",\"neutral\",\"positive\",\"negative\",\"negative\",\"negative\",\"positive\",\"neutral\",\"negative\",\"positive\",\"positive\",\"negative\",\"positive\",\"negative\",\"neutral\",\"positive\",\"neutral\",\"positive\",\"negative\",\"positive\",\"positive\",\"positive\",\"positive\",\"positive\",\"positive\",\"positive\",\"negative\",\"positive\",\"negative\",\"negative\",\"negative\",\"negative\",\"positive\",\"positive\",\"negative\",\"positive\",\"negative\",\"positive\",\"positive\",\"positive\",\"positive\",\"negative\",\"positive\",\"negative\",\"negative\",\"negative\",\"positive\",\"positive\",\"positive\",\"positive\",\"neutral\",\"positive\",\"negative\",\"positive\",\"positive\",\"positive\",\"negative\",\"positive\",\"positive\",\"negative\",\"positive\",\"positive\",\"negative\",\"positive\",\"positive\",\"neutral\",\"neutral\",\"positive\",\"positive\",\"positive\",\"negative\",\"positive\",\"positive\",\"positive\",\"positive\",\"positive\",\"positive\",\"negative\",\"negative\",\"positive\",\"positive\",\"positive\",\"negative\",\"positive\",\"positive\",\"neutral\",\"positive\",\"negative\",\"positive\",\"positive\",\"positive\",\"positive\",\"negative\",\"positive\",\"positive\",\"negative\",\"negative\",\"negative\",\"neutral\",\"negative\",\"positive\",\"neutral\",\"positive\",\"positive\",\"neutral\",\"positive\",\"positive\",\"positive\",\"positive\",\"neutral\",\"negative\",\"positive\",\"negative\",\"neutral\",\"negative\",\"negative\",\"negative\",\"positive\",\"positive\",\"negative\",\"negative\",\"positive\",\"positive\",\"positive\",\"positive\",\"negative\",\"positive\",\"neutral\",\"positive\",\"positive\",\"positive\",\"negative\",\"positive\",\"negative\",\"neutral\",\"positive\",\"positive\",\"neutral\",\"positive\",\"positive\",\"positive\",\"negative\",\"positive\",\"negative\",\"positive\",\"negative\",\"negative\",\"negative\",\"negative\",\"negative\",\"positive\",\"positive\",\"negative\",\"positive\",\"negative\",\"positive\",\"positive\",\"positive\",\"negative\",\"positive\",\"negative\",\"positive\",\"positive\",\"positive\",\"positive\",\"negative\",\"positive\",\"positive\",\"neutral\",\"positive\",\"negative\",\"positive\",\"positive\",\"negative\",\"positive\",\"negative\",\"negative\",\"negative\",\"positive\",\"positive\",\"negative\",\"positive\",\"positive\",\"positive\",\"positive\",\"positive\",\"positive\",\"positive\",\"positive\",\"positive\",\"positive\",\"positive\",\"negative\",\"positive\",\"positive\",\"positive\",\"positive\",\"neutral\",\"positive\",\"positive\",\"positive\",\"positive\",\"positive\",\"positive\",\"negative\",\"positive\",\"positive\",\"neutral\",\"positive\",\"negative\",\"negative\",\"positive\",\"positive\",\"negative\",\"negative\",\"positive\",\"negative\",\"negative\",\"positive\",\"positive\",\"negative\",\"positive\",\"neutral\",\"positive\",\"negative\",\"positive\",\"positive\",\"positive\",\"negative\",\"negative\",\"positive\",\"positive\",\"positive\",\"positive\",\"positive\",\"positive\",\"negative\",\"positive\",\"positive\",\"negative\",\"positive\",\"positive\",\"positive\",\"positive\",\"neutral\",\"negative\",\"positive\",\"neutral\",\"positive\",\"negative\",\"negative\",\"positive\",\"positive\",\"negative\",\"neutral\",\"negative\",\"positive\",\"positive\",\"negative\",\"negative\",\"positive\",\"positive\",\"positive\",\"positive\",\"neutral\",\"negative\",\"positive\",\"positive\",\"positive\",\"positive\",\"positive\",\"positive\",\"positive\",\"positive\",\"neutral\",\"positive\",\"negative\",\"positive\",\"positive\",\"negative\",\"positive\",\"positive\",\"positive\",\"positive\",\"positive\",\"negative\",\"positive\",\"positive\",\"neutral\",\"positive\",\"positive\",\"positive\",\"negative\",\"negative\",\"positive\",\"positive\",\"positive\",\"positive\",\"positive\",\"neutral\",\"positive\",\"negative\",\"neutral\",\"positive\",\"positive\",\"positive\",\"positive\",\"positive\",\"positive\",\"positive\",\"positive\",\"positive\",\"positive\",\"positive\",\"positive\",\"neutral\",\"positive\",\"positive\",\"positive\",\"positive\",\"positive\",\"neutral\",\"positive\",\"positive\",\"positive\",\"negative\",\"negative\",\"positive\",\"positive\",\"positive\",\"positive\",\"negative\",\"positive\",\"negative\",\"positive\",\"negative\",\"positive\",\"positive\",\"positive\",\"negative\",\"positive\",\"negative\",\"negative\",\"negative\",\"positive\",\"positive\",\"positive\",\"positive\",\"positive\",\"neutral\",\"negative\",\"neutral\",\"positive\",\"positive\",\"neutral\",\"positive\",\"negative\",\"negative\",\"positive\",\"negative\",\"negative\",\"positive\",\"positive\",\"positive\",\"positive\",\"positive\",\"positive\",\"negative\",\"positive\",\"positive\",\"positive\",\"positive\",\"negative\",\"positive\",\"positive\",\"positive\",\"positive\",\"negative\",\"negative\",\"positive\",\"positive\",\"neutral\",\"positive\",\"negative\",\"positive\",\"positive\",\"positive\",\"positive\",\"positive\",\"positive\",\"negative\",\"neutral\",\"positive\",\"positive\",\"negative\",\"negative\",\"negative\",\"negative\",\"negative\",\"positive\",\"positive\",\"positive\",\"positive\",\"positive\",\"positive\",\"negative\",\"positive\",\"neutral\",\"negative\",\"positive\",\"positive\",\"positive\",\"negative\",\"positive\",\"negative\",\"positive\",\"positive\",\"positive\",\"positive\",\"positive\",\"negative\",\"neutral\",\"positive\",\"negative\",\"positive\",\"negative\",\"negative\",\"neutral\",\"positive\",\"negative\",\"neutral\",\"positive\",\"negative\",\"positive\",\"positive\",\"negative\",\"positive\",\"negative\",\"positive\",\"positive\",\"positive\",\"positive\",\"positive\",\"positive\",\"positive\",\"positive\",\"negative\",\"negative\",\"positive\",\"positive\",\"positive\",\"positive\",\"positive\",\"positive\",\"positive\",\"positive\",\"neutral\",\"positive\",\"positive\",\"negative\",\"positive\",\"negative\",\"negative\",\"positive\",\"positive\",\"positive\",\"negative\",\"positive\",\"positive\",\"positive\",\"positive\",\"positive\",\"positive\",\"positive\",\"positive\",\"positive\",\"positive\",\"negative\",\"negative\",\"positive\",\"positive\",\"positive\",\"positive\",\"positive\",\"positive\",\"positive\",\"neutral\",\"negative\",\"negative\",\"positive\",\"positive\",\"positive\",\"negative\",\"positive\",\"neutral\",\"positive\",\"positive\",\"neutral\",\"positive\",\"negative\",\"negative\",\"positive\",\"negative\",\"negative\",\"positive\",\"negative\",\"positive\",\"positive\",\"negative\",\"positive\",\"negative\",\"positive\",\"positive\",\"neutral\",\"negative\",\"positive\",\"positive\",\"positive\",\"positive\",\"positive\",\"negative\",\"positive\",\"positive\",\"positive\",\"positive\",\"neutral\",\"positive\",\"negative\",\"negative\",\"positive\",\"positive\",\"positive\",\"positive\",\"positive\",\"negative\",\"positive\",\"neutral\",\"positive\",\"positive\",\"positive\",\"positive\",\"positive\",\"negative\",\"positive\",\"positive\",\"negative\",\"positive\",\"positive\",\"negative\",\"negative\",\"positive\",\"positive\",\"neutral\",\"negative\",\"positive\",\"positive\",\"negative\",\"positive\",\"negative\",\"positive\",\"negative\",\"negative\",\"negative\",\"positive\",\"positive\",\"negative\",\"positive\",\"negative\",\"positive\",\"positive\",\"positive\",\"negative\",\"positive\",\"positive\",\"positive\",\"negative\",\"negative\",\"positive\",\"positive\",\"negative\",\"negative\",\"positive\",\"negative\",\"positive\",\"positive\",\"negative\",\"negative\",\"negative\",\"neutral\",\"positive\",\"positive\",\"positive\",\"positive\",\"positive\",\"positive\",\"positive\",\"negative\",\"positive\",\"neutral\",\"neutral\",\"negative\",\"positive\",\"positive\",\"positive\",\"positive\",\"positive\",\"positive\",\"positive\",\"positive\",\"positive\",\"positive\",\"positive\",\"negative\",\"positive\",\"positive\",\"negative\",\"negative\",\"negative\",\"positive\",\"negative\",\"negative\",\"negative\",\"positive\",\"positive\",\"positive\",\"positive\",\"positive\",\"positive\",\"negative\",\"positive\",\"neutral\",\"positive\",\"neutral\",\"neutral\",\"positive\",\"positive\",\"positive\",\"positive\",\"negative\",\"positive\",\"positive\",\"negative\",\"positive\",\"negative\",\"positive\",\"positive\",\"positive\",\"positive\",\"negative\",\"positive\",\"positive\",\"positive\",\"negative\",\"positive\",\"negative\",\"negative\",\"positive\",\"positive\",\"negative\",\"positive\",\"positive\",\"positive\",\"positive\",\"positive\",\"negative\",\"negative\",\"positive\",\"negative\",\"negative\",\"positive\",\"positive\",\"negative\",\"positive\",\"neutral\",\"negative\",\"positive\",\"positive\",\"positive\",\"negative\",\"positive\",\"positive\",\"negative\",\"positive\",\"negative\",\"neutral\",\"neutral\",\"positive\",\"positive\",\"negative\",\"negative\",\"neutral\",\"negative\",\"negative\",\"positive\",\"positive\",\"positive\",\"positive\",\"negative\",\"positive\",\"negative\",\"positive\",\"positive\",\"negative\",\"positive\",\"positive\",\"negative\",\"positive\",\"negative\",\"positive\",\"negative\",\"positive\",\"negative\",\"negative\",\"negative\",\"neutral\",\"positive\",\"positive\",\"neutral\",\"positive\",\"neutral\",\"positive\",\"positive\",\"positive\",\"negative\",\"neutral\",\"neutral\",\"positive\",\"negative\",\"positive\",\"positive\",\"negative\",\"positive\",\"positive\",\"negative\",\"positive\",\"positive\",\"neutral\",\"negative\",\"neutral\",\"positive\",\"positive\",\"negative\",\"negative\",\"positive\",\"positive\",\"negative\",\"positive\",\"negative\",\"positive\",\"negative\",\"positive\",\"negative\",\"neutral\",\"positive\",\"positive\",\"positive\",\"positive\",\"positive\",\"positive\",\"positive\",\"positive\",\"negative\",\"positive\",\"positive\",\"positive\",\"positive\",\"negative\",\"positive\",\"positive\",\"positive\",\"negative\",\"positive\",\"positive\",\"neutral\",\"positive\",\"negative\",\"positive\",\"positive\",\"negative\",\"negative\",\"negative\",\"positive\",\"positive\",\"positive\",\"neutral\",\"negative\",\"positive\",\"positive\",\"negative\",\"negative\",\"positive\",\"negative\",\"positive\",\"neutral\",\"negative\",\"positive\",\"negative\",\"positive\",\"negative\",\"neutral\",\"positive\",\"negative\",\"negative\",\"positive\",\"positive\",\"positive\",\"positive\",\"negative\",\"negative\",\"positive\",\"negative\",\"positive\",\"positive\",\"positive\",\"positive\",\"positive\",\"positive\",\"negative\",\"negative\",\"negative\",\"positive\",\"negative\",\"neutral\",\"neutral\",\"positive\",\"positive\",\"positive\",\"positive\",\"positive\",\"positive\",\"positive\",\"positive\",\"positive\",\"negative\",\"positive\",\"positive\",\"positive\",\"negative\",\"positive\",\"positive\",\"positive\",\"positive\",\"negative\",\"positive\",\"positive\",\"negative\",\"positive\",\"neutral\",\"positive\",\"positive\",\"positive\",\"positive\",\"positive\",\"positive\",\"negative\",\"positive\",\"positive\",\"negative\",\"positive\",\"positive\",\"negative\",\"positive\",\"neutral\",\"positive\",\"positive\",\"positive\",\"positive\",\"negative\",\"positive\",\"positive\",\"positive\",\"negative\",\"positive\",\"positive\",\"positive\",\"positive\",\"negative\",\"positive\",\"positive\",\"positive\",\"positive\",\"positive\",\"positive\",\"positive\",\"positive\",\"negative\",\"positive\",\"positive\",\"positive\",\"negative\",\"neutral\",\"negative\",\"positive\",\"positive\",\"negative\",\"negative\",\"positive\",\"positive\",\"positive\",\"positive\",\"positive\",\"positive\",\"neutral\",\"positive\",\"positive\",\"neutral\",\"negative\",\"positive\",\"negative\",\"negative\",\"positive\",\"positive\",\"negative\",\"positive\",\"negative\",\"positive\",\"positive\",\"negative\",\"negative\",\"negative\",\"positive\",\"neutral\",\"negative\",\"positive\",\"positive\",\"positive\",\"neutral\",\"positive\",\"positive\",\"positive\",\"positive\",\"positive\",\"neutral\",\"positive\",\"negative\",\"positive\",\"positive\",\"positive\",\"negative\",\"negative\",\"negative\",\"positive\",\"neutral\",\"positive\",\"positive\",\"negative\",\"positive\",\"neutral\",\"positive\",\"positive\",\"positive\",\"positive\",\"neutral\",\"positive\",\"negative\",\"positive\",\"positive\",\"positive\",\"neutral\",\"positive\",\"negative\",\"negative\",\"positive\",\"positive\",\"neutral\",\"positive\",\"negative\",\"positive\",\"positive\",\"positive\",\"positive\",\"positive\",\"positive\",\"neutral\",\"positive\",\"positive\",\"negative\",\"neutral\",\"positive\",\"negative\",\"positive\",\"positive\",\"positive\",\"positive\",\"positive\",\"positive\",\"positive\",\"negative\",\"positive\",\"negative\",\"positive\",\"negative\",\"negative\",\"neutral\",\"positive\",\"positive\",\"positive\",\"positive\",\"positive\",\"negative\",\"positive\",\"positive\",\"negative\",\"positive\",\"positive\",\"positive\",\"positive\",\"negative\",\"negative\",\"neutral\",\"positive\",\"neutral\",\"negative\",\"positive\",\"positive\",\"positive\",\"positive\",\"positive\",\"positive\",\"positive\",\"negative\",\"negative\",\"negative\",\"positive\",\"negative\",\"negative\",\"positive\",\"positive\",\"negative\",\"negative\",\"negative\",\"negative\",\"positive\",\"negative\",\"neutral\",\"negative\",\"negative\",\"positive\",\"neutral\",\"positive\",\"positive\",\"negative\",\"negative\",\"negative\",\"negative\",\"positive\",\"negative\",\"positive\",\"positive\",\"positive\",\"positive\",\"negative\",\"positive\",\"positive\",\"negative\",\"negative\",\"negative\",\"negative\",\"negative\",\"negative\",\"positive\",\"positive\",\"negative\",\"positive\",\"positive\",\"positive\",\"positive\",\"negative\",\"negative\",\"positive\",\"positive\",\"negative\",\"neutral\",\"negative\",\"positive\",\"negative\",\"positive\",\"positive\",\"negative\",\"negative\",\"positive\",\"negative\",\"positive\",\"positive\",\"negative\",\"negative\",\"positive\",\"positive\",\"negative\",\"positive\",\"negative\",\"positive\",\"negative\",\"negative\",\"negative\",\"negative\",\"positive\",\"positive\",\"negative\",\"positive\",\"positive\",\"positive\",\"negative\",\"positive\",\"positive\",\"positive\",\"positive\",\"negative\",\"negative\",\"positive\",\"positive\",\"positive\",\"negative\",\"negative\",\"positive\",\"positive\",\"positive\",\"neutral\",\"neutral\",\"positive\",\"positive\",\"positive\",\"positive\",\"negative\",\"neutral\",\"positive\",\"positive\",\"positive\",\"neutral\",\"negative\",\"positive\",\"positive\",\"positive\",\"negative\",\"positive\",\"positive\",\"positive\",\"negative\",\"negative\",\"positive\",\"positive\",\"positive\",\"neutral\",\"negative\",\"positive\",\"negative\",\"positive\",\"positive\",\"negative\",\"neutral\",\"negative\",\"neutral\",\"positive\",\"positive\",\"positive\",\"positive\",\"negative\",\"negative\",\"neutral\",\"negative\",\"negative\",\"neutral\",\"negative\",\"positive\",\"positive\",\"negative\",\"positive\",\"positive\",\"positive\",\"positive\",\"negative\",\"negative\",\"positive\",\"positive\",\"positive\",\"negative\",\"positive\",\"positive\",\"positive\",\"positive\",\"positive\",\"negative\",\"positive\",\"negative\",\"negative\",\"negative\",\"positive\",\"negative\",\"negative\",\"positive\",\"neutral\",\"negative\",\"positive\",\"positive\",\"positive\",\"positive\",\"neutral\",\"positive\",\"neutral\",\"positive\",\"negative\",\"positive\",\"positive\",\"positive\",\"positive\",\"negative\",\"neutral\",\"negative\",\"positive\",\"negative\",\"positive\",\"negative\",\"neutral\",\"positive\",\"positive\",\"negative\",\"negative\",\"positive\",\"positive\",\"neutral\",\"neutral\",\"neutral\",\"positive\",\"negative\",\"neutral\",\"neutral\",\"positive\",\"negative\",\"negative\",\"negative\",\"positive\",\"negative\",\"negative\",\"positive\",\"negative\",\"negative\",\"positive\",\"positive\",\"positive\",\"positive\",\"positive\",\"negative\",\"positive\",\"neutral\",\"positive\",\"positive\",\"positive\",\"positive\",\"neutral\",\"negative\",\"positive\",\"neutral\",\"neutral\",\"positive\",\"positive\",\"positive\",\"negative\",\"positive\",\"neutral\",\"positive\",\"positive\",\"positive\",\"positive\",\"neutral\",\"positive\",\"negative\",\"positive\",\"positive\",\"positive\",\"positive\",\"positive\",\"negative\",\"positive\",\"positive\",\"positive\",\"neutral\",\"positive\",\"negative\",\"positive\",\"neutral\",\"negative\",\"negative\",\"positive\",\"positive\",\"neutral\",\"negative\",\"negative\",\"negative\",\"neutral\",\"negative\",\"negative\",\"negative\",\"positive\",\"positive\",\"neutral\",\"positive\",\"negative\",\"positive\",\"neutral\",\"positive\",\"negative\",\"negative\",\"positive\",\"positive\",\"positive\",\"positive\",\"negative\",\"positive\",\"negative\",\"positive\",\"positive\",\"positive\",\"positive\",\"positive\",\"positive\",\"positive\",\"negative\",\"neutral\",\"negative\",\"positive\",\"negative\",\"positive\",\"neutral\",\"positive\",\"positive\",\"negative\",\"negative\",\"positive\",\"positive\",\"negative\",\"neutral\",\"positive\",\"negative\",\"negative\",\"positive\",\"positive\",\"positive\",\"positive\",\"positive\",\"positive\",\"neutral\",\"positive\",\"negative\",\"negative\",\"neutral\",\"positive\",\"positive\",\"positive\",\"positive\",\"positive\",\"positive\",\"positive\",\"negative\",\"negative\",\"positive\",\"negative\",\"negative\",\"positive\",\"positive\",\"negative\",\"negative\",\"neutral\",\"negative\",\"positive\",\"positive\",\"positive\",\"positive\",\"negative\",\"positive\",\"neutral\",\"positive\",\"positive\",\"positive\",\"positive\",\"positive\",\"neutral\",\"positive\",\"neutral\",\"positive\",\"neutral\",\"negative\",\"negative\",\"negative\",\"positive\",\"positive\",\"negative\",\"positive\",\"negative\",\"negative\",\"positive\",\"negative\",\"neutral\",\"positive\",\"positive\",\"positive\",\"neutral\",\"positive\",\"positive\",\"positive\",\"positive\",\"positive\",\"positive\",\"neutral\",\"positive\",\"negative\",\"positive\",\"neutral\",\"negative\",\"positive\",\"positive\",\"positive\",\"positive\",\"negative\",\"positive\",\"positive\",\"positive\",\"negative\",\"positive\",\"neutral\",\"positive\",\"negative\",\"negative\",\"positive\",\"positive\",\"positive\",\"positive\",\"positive\",\"positive\",\"negative\",\"positive\",\"positive\",\"positive\",\"negative\",\"negative\",\"negative\",\"negative\",\"positive\",\"positive\",\"positive\",\"positive\",\"neutral\",\"positive\",\"positive\",\"neutral\",\"positive\",\"positive\",\"positive\",\"neutral\",\"negative\",\"positive\",\"negative\",\"negative\",\"positive\",\"negative\",\"positive\",\"positive\",\"positive\",\"positive\",\"neutral\",\"negative\",\"positive\",\"negative\",\"positive\",\"positive\",\"positive\",\"positive\",\"positive\",\"positive\",\"negative\",\"positive\",\"positive\",\"negative\",\"positive\",\"negative\",\"positive\",\"positive\",\"negative\",\"positive\",\"negative\",\"positive\",\"positive\",\"positive\",\"positive\",\"positive\",\"positive\",\"positive\",\"negative\",\"negative\",\"negative\",\"positive\",\"negative\",\"negative\",\"positive\",\"negative\",\"negative\",\"negative\",\"positive\",\"negative\",\"neutral\",\"negative\",\"positive\",\"positive\",\"positive\",\"negative\",\"positive\",\"negative\",\"negative\",\"negative\",\"negative\",\"positive\",\"positive\",\"negative\",\"negative\",\"positive\",\"neutral\",\"neutral\",\"negative\",\"positive\",\"positive\",\"positive\",\"positive\",\"positive\",\"negative\",\"negative\",\"negative\",\"positive\",\"neutral\",\"positive\",\"positive\",\"negative\",\"positive\",\"positive\",\"neutral\",\"negative\",\"neutral\",\"positive\",\"positive\",\"positive\",\"positive\",\"positive\",\"negative\",\"neutral\",\"negative\",\"negative\",\"positive\",\"negative\",\"positive\",\"positive\",\"positive\",\"negative\",\"negative\",\"positive\",\"positive\",\"positive\",\"positive\",\"negative\",\"positive\",\"negative\",\"negative\",\"positive\",\"positive\",\"positive\",\"negative\",\"negative\",\"negative\",\"positive\",\"positive\",\"positive\",\"negative\",\"neutral\",\"negative\",\"negative\",\"positive\",\"positive\",\"negative\",\"positive\",\"positive\",\"positive\",\"positive\",\"negative\",\"positive\",\"positive\",\"negative\",\"neutral\",\"positive\",\"negative\",\"negative\",\"neutral\",\"positive\",\"negative\",\"positive\",\"positive\",\"negative\",\"negative\",\"positive\",\"positive\",\"negative\",\"positive\",\"negative\",\"positive\",\"positive\",\"neutral\",\"positive\",\"positive\",\"negative\",\"neutral\",\"positive\",\"negative\",\"negative\",\"positive\",\"positive\",\"positive\",\"neutral\",\"neutral\",\"positive\",\"positive\",\"positive\",\"neutral\",\"negative\",\"positive\",\"negative\",\"positive\",\"positive\",\"neutral\",\"negative\",\"negative\",\"neutral\",\"positive\",\"negative\",\"negative\",\"positive\",\"positive\",\"negative\",\"neutral\",\"positive\",\"positive\",\"negative\",\"negative\",\"positive\",\"positive\",\"negative\",\"positive\",\"negative\",\"negative\",\"negative\",\"positive\",\"positive\",\"positive\",\"positive\",\"positive\",\"positive\",\"positive\",\"negative\",\"positive\",\"positive\",\"positive\",\"negative\",\"positive\",\"negative\",\"positive\",\"negative\",\"positive\",\"positive\",\"positive\",\"positive\",\"positive\",\"positive\",\"positive\",\"positive\",\"neutral\",\"negative\",\"positive\",\"positive\",\"negative\",\"positive\",\"positive\",\"positive\",\"positive\",\"positive\",\"positive\",\"positive\",\"positive\",\"negative\",\"negative\",\"neutral\",\"negative\",\"positive\",\"positive\",\"positive\",\"positive\",\"negative\",\"positive\",\"positive\",\"positive\",\"positive\",\"positive\",\"positive\",\"positive\",\"negative\",\"positive\",\"negative\",\"positive\",\"negative\",\"positive\",\"negative\",\"negative\",\"negative\",\"neutral\",\"negative\",\"negative\",\"positive\",\"negative\",\"neutral\",\"positive\",\"positive\",\"positive\",\"neutral\",\"positive\",\"positive\",\"positive\",\"positive\",\"positive\",\"positive\",\"positive\",\"positive\",\"neutral\",\"positive\",\"neutral\",\"positive\",\"positive\",\"negative\",\"negative\",\"negative\",\"positive\",\"positive\",\"positive\",\"negative\",\"positive\",\"positive\",\"positive\",\"positive\",\"positive\",\"positive\",\"positive\",\"negative\",\"positive\",\"negative\",\"positive\",\"positive\",\"positive\",\"positive\",\"neutral\",\"positive\",\"positive\",\"positive\",\"negative\",\"negative\",\"neutral\",\"negative\",\"positive\",\"negative\",\"positive\",\"negative\",\"negative\",\"negative\",\"negative\",\"negative\",\"positive\",\"positive\",\"positive\",\"positive\",\"positive\",\"positive\",\"positive\",\"positive\",\"positive\",\"positive\",\"positive\",\"positive\",\"negative\",\"negative\",\"positive\",\"positive\",\"negative\",\"positive\",\"negative\",\"negative\",\"positive\",\"positive\",\"neutral\",\"positive\",\"positive\",\"negative\",\"positive\",\"positive\",\"positive\",\"positive\",\"positive\",\"negative\",\"neutral\",\"positive\",\"negative\",\"negative\",\"positive\",\"negative\",\"positive\",\"positive\",\"negative\",\"negative\",\"negative\",\"positive\",\"positive\",\"negative\",\"positive\",\"positive\",\"positive\",\"negative\",\"positive\",\"negative\",\"positive\",\"negative\",\"negative\",\"negative\",\"negative\",\"positive\",\"negative\",\"negative\",\"negative\",\"positive\",\"negative\",\"positive\",\"neutral\",\"positive\",\"positive\",\"positive\",\"positive\",\"positive\",\"neutral\",\"negative\",\"negative\",\"positive\",\"positive\",\"positive\",\"neutral\",\"negative\",\"positive\",\"negative\",\"neutral\",\"negative\",\"negative\",\"positive\",\"negative\",\"positive\",\"positive\",\"negative\",\"negative\",\"negative\",\"neutral\",\"positive\",\"positive\",\"negative\",\"positive\",\"negative\",\"negative\",\"positive\",\"positive\",\"negative\",\"negative\",\"negative\",\"positive\",\"positive\",\"positive\",\"negative\",\"positive\",\"positive\",\"positive\",\"negative\",\"negative\",\"positive\",\"positive\",\"negative\",\"neutral\",\"positive\",\"positive\",\"positive\",\"negative\",\"positive\",\"positive\",\"neutral\",\"positive\",\"negative\",\"positive\",\"positive\",\"positive\",\"negative\",\"positive\",\"positive\",\"positive\",\"positive\",\"positive\",\"negative\",\"negative\",\"neutral\",\"positive\",\"negative\",\"positive\",\"positive\",\"negative\",\"positive\",\"positive\",\"negative\",\"positive\",\"positive\",\"negative\",\"positive\",\"positive\",\"negative\",\"positive\",\"positive\",\"positive\",\"positive\",\"positive\",\"positive\",\"neutral\",\"positive\",\"positive\",\"positive\",\"negative\",\"negative\",\"positive\",\"neutral\",\"neutral\",\"negative\",\"neutral\",\"positive\",\"negative\",\"positive\",\"neutral\",\"neutral\",\"positive\",\"positive\",\"negative\",\"negative\",\"positive\",\"positive\",\"neutral\",\"positive\",\"positive\",\"negative\",\"negative\",\"positive\",\"neutral\",\"positive\",\"positive\",\"positive\",\"positive\",\"negative\",\"negative\",\"positive\",\"positive\",\"neutral\",\"negative\",\"negative\",\"negative\",\"positive\",\"negative\",\"negative\",\"positive\",\"negative\",\"neutral\",\"positive\",\"negative\",\"positive\",\"positive\",\"positive\",\"positive\",\"positive\",\"neutral\",\"negative\",\"positive\",\"negative\",\"positive\",\"negative\",\"negative\",\"positive\",\"positive\",\"positive\",\"positive\",\"positive\",\"negative\",\"negative\",\"positive\",\"positive\",\"negative\",\"positive\",\"positive\",\"positive\",\"neutral\",\"positive\",\"positive\",\"positive\",\"positive\",\"negative\",\"positive\",\"positive\",\"positive\",\"negative\",\"positive\",\"positive\",\"negative\",\"positive\",\"positive\",\"positive\",\"positive\",\"positive\",\"negative\",\"positive\",\"negative\",\"positive\",\"positive\",\"positive\",\"negative\",\"positive\",\"positive\",\"negative\",\"negative\",\"neutral\",\"positive\",\"positive\",\"negative\",\"neutral\",\"positive\",\"neutral\",\"positive\",\"negative\",\"negative\",\"negative\",\"positive\",\"negative\",\"positive\",\"positive\",\"positive\",\"positive\",\"negative\",\"negative\",\"neutral\",\"positive\",\"positive\",\"positive\",\"negative\",\"positive\",\"positive\",\"positive\",\"positive\",\"positive\",\"positive\",\"positive\",\"positive\",\"positive\",\"negative\",\"positive\",\"neutral\",\"neutral\",\"neutral\",\"positive\",\"positive\",\"positive\",\"positive\",\"negative\",\"negative\",\"positive\",\"negative\",\"positive\",\"neutral\",\"positive\",\"positive\",\"positive\",\"negative\",\"positive\",\"negative\",\"positive\",\"positive\",\"negative\",\"positive\",\"positive\",\"positive\",\"neutral\",\"positive\",\"neutral\",\"negative\",\"positive\",\"positive\",\"negative\",\"positive\",\"positive\",\"neutral\",\"positive\",\"negative\",\"negative\",\"negative\",\"positive\",\"negative\",\"negative\",\"negative\",\"positive\",\"negative\",\"positive\",\"positive\",\"positive\",\"positive\",\"positive\",\"neutral\",\"positive\",\"positive\",\"positive\",\"neutral\",\"positive\",\"positive\",\"positive\",\"positive\",\"positive\",\"negative\",\"positive\",\"negative\",\"negative\",\"positive\",\"negative\",\"negative\",\"neutral\",\"positive\",\"neutral\",\"neutral\",\"negative\",\"negative\",\"negative\",\"neutral\",\"neutral\",\"positive\",\"negative\",\"negative\",\"negative\",\"negative\",\"negative\",\"negative\",\"neutral\",\"positive\",\"negative\",\"positive\",\"positive\",\"positive\",\"positive\",\"positive\",\"negative\",\"positive\",\"neutral\",\"negative\",\"positive\",\"positive\",\"negative\",\"negative\",\"negative\",\"neutral\",\"negative\",\"positive\",\"positive\",\"positive\",\"positive\",\"neutral\",\"positive\",\"negative\",\"neutral\",\"negative\",\"neutral\",\"positive\",\"negative\",\"positive\",\"neutral\",\"neutral\",\"neutral\",\"neutral\",\"negative\",\"positive\",\"neutral\",\"positive\",\"positive\",\"positive\",\"neutral\",\"negative\",\"positive\",\"neutral\",\"negative\",\"positive\",\"negative\",\"positive\",\"negative\",\"neutral\",\"negative\",\"negative\",\"positive\",\"positive\",\"negative\",\"negative\",\"positive\",\"positive\",\"positive\",\"positive\",\"positive\",\"negative\",\"positive\",\"positive\",\"positive\",\"negative\",\"neutral\",\"negative\",\"negative\",\"neutral\",\"positive\",\"negative\",\"negative\",\"positive\",\"negative\",\"positive\",\"negative\",\"positive\",\"positive\",\"neutral\",\"positive\",\"negative\",\"positive\",\"negative\",\"neutral\",\"positive\",\"negative\",\"positive\",\"positive\",\"positive\",\"negative\",\"negative\",\"negative\",\"positive\",\"positive\",\"positive\",\"negative\",\"positive\",\"positive\",\"positive\",\"positive\",\"negative\",\"positive\",\"negative\",\"positive\",\"positive\",\"positive\",\"positive\",\"positive\",\"positive\",\"positive\",\"neutral\",\"negative\",\"neutral\",\"positive\",\"negative\",\"positive\",\"negative\",\"positive\",\"neutral\",\"positive\",\"negative\",\"positive\",\"positive\",\"positive\",\"positive\",\"neutral\",\"positive\",\"positive\",\"neutral\",\"positive\",\"positive\",\"negative\",\"positive\",\"positive\",\"negative\",\"negative\",\"positive\",\"negative\",\"negative\",\"positive\",\"negative\",\"negative\",\"negative\",\"neutral\",\"positive\",\"positive\",\"negative\",\"positive\",\"positive\",\"positive\",\"positive\",\"negative\",\"positive\",\"neutral\",\"positive\",\"neutral\",\"positive\",\"positive\",\"positive\",\"neutral\",\"positive\",\"positive\",\"positive\",\"negative\",\"negative\",\"positive\",\"positive\",\"positive\",\"positive\",\"negative\",\"positive\",\"negative\",\"neutral\",\"positive\",\"negative\",\"positive\",\"positive\",\"positive\",\"negative\",\"negative\",\"positive\",\"positive\",\"negative\",\"neutral\",\"positive\",\"neutral\",\"negative\",\"neutral\",\"positive\",\"positive\",\"neutral\",\"negative\",\"negative\",\"positive\",\"positive\",\"negative\",\"negative\",\"negative\",\"neutral\",\"negative\",\"negative\",\"negative\",\"positive\",\"negative\",\"positive\",\"positive\",\"negative\",\"positive\",\"neutral\",\"positive\",\"positive\",\"negative\",\"positive\",\"neutral\",\"positive\",\"positive\",\"negative\",\"positive\",\"positive\",\"positive\",\"negative\",\"positive\",\"negative\",\"negative\",\"negative\",\"negative\",\"positive\",\"neutral\",\"positive\",\"positive\",\"positive\",\"positive\",\"positive\",\"positive\",\"positive\",\"negative\",\"positive\",\"neutral\",\"negative\",\"positive\",\"neutral\",\"positive\",\"negative\",\"positive\",\"negative\",\"positive\",\"negative\",\"neutral\",\"positive\",\"negative\",\"positive\",\"negative\",\"positive\",\"negative\",\"negative\",\"positive\",\"positive\",\"positive\",\"positive\",\"positive\",\"positive\",\"positive\",\"neutral\",\"negative\",\"positive\",\"negative\",\"positive\",\"positive\",\"positive\",\"positive\",\"neutral\",\"positive\",\"positive\",\"positive\",\"positive\",\"positive\",\"negative\",\"neutral\",\"positive\",\"positive\",\"positive\",\"positive\",\"positive\",\"positive\",\"neutral\",\"negative\",\"positive\",\"positive\",\"neutral\",\"negative\",\"negative\",\"positive\",\"negative\",\"negative\",\"positive\",\"positive\",\"positive\",\"positive\",\"negative\",\"negative\",\"negative\",\"positive\",\"positive\",\"positive\",\"negative\",\"positive\",\"negative\",\"positive\",\"positive\",\"positive\",\"positive\",\"neutral\",\"negative\",\"negative\",\"negative\",\"negative\",\"positive\",\"positive\",\"positive\",\"neutral\",\"negative\",\"positive\",\"positive\",\"positive\",\"positive\",\"positive\",\"positive\",\"negative\",\"negative\",\"positive\",\"positive\",\"negative\",\"positive\",\"positive\",\"positive\",\"positive\",\"positive\",\"negative\",\"positive\",\"positive\",\"positive\",\"negative\",\"negative\",\"positive\",\"negative\",\"positive\",\"positive\",\"negative\",\"positive\",\"negative\",\"positive\",\"negative\",\"positive\",\"positive\",\"positive\",\"positive\",\"positive\",\"neutral\",\"positive\",\"positive\",\"positive\",\"positive\",\"negative\",\"negative\",\"negative\",\"positive\",\"negative\",\"negative\",\"positive\",\"positive\",\"positive\",\"negative\",\"positive\",\"positive\",\"positive\",\"positive\",\"positive\",\"positive\",\"negative\",\"positive\",\"positive\",\"neutral\",\"positive\",\"positive\",\"positive\",\"negative\",\"positive\",\"negative\",\"positive\",\"positive\",\"positive\",\"positive\",\"neutral\",\"neutral\",\"positive\",\"positive\",\"positive\",\"negative\",\"positive\",\"negative\",\"negative\",\"positive\",\"negative\",\"positive\",\"negative\",\"positive\",\"neutral\",\"positive\",\"positive\",\"positive\",\"positive\",\"negative\",\"negative\",\"neutral\",\"negative\",\"neutral\",\"negative\",\"positive\",\"neutral\",\"negative\",\"positive\",\"neutral\",\"positive\",\"positive\",\"negative\",\"positive\",\"negative\",\"positive\",\"positive\",\"neutral\",\"negative\",\"positive\",\"positive\",\"neutral\",\"negative\",\"positive\",\"positive\",\"negative\",\"positive\",\"negative\",\"positive\",\"neutral\",\"negative\",\"positive\",\"positive\",\"positive\",\"negative\",\"neutral\",\"positive\",\"positive\",\"positive\",\"negative\",\"positive\",\"negative\",\"positive\",\"positive\",\"negative\",\"negative\",\"negative\",\"positive\",\"positive\",\"positive\",\"positive\",\"negative\",\"positive\",\"negative\",\"positive\",\"positive\",\"positive\",\"neutral\",\"neutral\",\"positive\",\"positive\",\"positive\",\"positive\",\"positive\",\"positive\",\"positive\",\"positive\",\"positive\",\"negative\",\"positive\",\"negative\",\"positive\",\"positive\",\"negative\",\"negative\",\"negative\",\"positive\",\"positive\",\"positive\",\"negative\",\"positive\",\"neutral\",\"positive\",\"negative\",\"positive\",\"positive\",\"neutral\",\"negative\",\"positive\",\"positive\",\"positive\",\"negative\",\"positive\",\"positive\",\"positive\",\"positive\",\"positive\",\"positive\",\"negative\",\"positive\",\"neutral\",\"negative\",\"positive\",\"negative\",\"neutral\",\"negative\",\"positive\",\"neutral\",\"positive\",\"positive\",\"positive\",\"positive\",\"negative\",\"positive\",\"positive\",\"negative\",\"positive\",\"positive\",\"positive\",\"negative\",\"negative\",\"neutral\",\"negative\",\"negative\",\"positive\",\"negative\",\"neutral\",\"positive\",\"positive\",\"negative\",\"positive\",\"positive\",\"negative\",\"positive\",\"negative\",\"positive\",\"neutral\",\"negative\",\"negative\",\"positive\",\"negative\",\"neutral\",\"negative\",\"positive\",\"positive\",\"positive\",\"positive\",\"positive\",\"positive\",\"negative\",\"negative\",\"neutral\",\"positive\",\"positive\",\"positive\",\"negative\",\"positive\",\"positive\",\"positive\",\"neutral\",\"negative\",\"positive\",\"negative\",\"positive\",\"negative\",\"negative\",\"negative\",\"negative\",\"negative\",\"negative\",\"positive\",\"positive\",\"positive\",\"neutral\",\"positive\",\"neutral\",\"positive\",\"positive\",\"positive\",\"neutral\",\"positive\",\"positive\",\"positive\",\"negative\",\"positive\",\"positive\",\"positive\",\"negative\",\"negative\",\"positive\",\"positive\",\"neutral\",\"positive\",\"positive\",\"negative\",\"positive\",\"positive\",\"positive\",\"positive\",\"negative\",\"positive\",\"positive\",\"positive\",\"negative\",\"negative\",\"negative\",\"positive\",\"positive\",\"negative\",\"positive\",\"neutral\",\"neutral\",\"negative\",\"positive\",\"positive\",\"positive\",\"neutral\",\"positive\",\"negative\",\"positive\",\"positive\",\"positive\",\"neutral\",\"positive\",\"positive\",\"neutral\",\"negative\",\"positive\",\"positive\",\"positive\",\"positive\",\"positive\",\"positive\",\"negative\",\"positive\",\"neutral\",\"neutral\",\"positive\",\"positive\",\"positive\",\"positive\",\"negative\",\"positive\",\"positive\",\"positive\",\"positive\",\"negative\",\"positive\",\"positive\",\"negative\",\"negative\",\"negative\",\"positive\",\"positive\",\"neutral\",\"negative\",\"positive\",\"neutral\",\"positive\",\"positive\",\"positive\",\"negative\",\"positive\",\"positive\",\"neutral\",\"neutral\",\"positive\",\"positive\",\"negative\",\"negative\",\"positive\",\"negative\",\"negative\",\"positive\",\"positive\",\"neutral\",\"neutral\",\"neutral\",\"positive\",\"positive\",\"negative\",\"negative\",\"negative\",\"positive\",\"positive\",\"positive\",\"negative\",\"negative\",\"negative\",\"neutral\",\"negative\",\"positive\",\"positive\",\"positive\",\"positive\",\"negative\",\"positive\",\"negative\",\"positive\",\"neutral\",\"positive\",\"negative\",\"positive\",\"positive\",\"negative\",\"positive\",\"positive\",\"positive\",\"negative\",\"neutral\",\"negative\",\"negative\",\"negative\",\"positive\",\"negative\",\"positive\",\"positive\",\"positive\",\"positive\",\"positive\",\"positive\",\"positive\",\"negative\",\"negative\",\"positive\",\"positive\",\"neutral\",\"negative\",\"negative\",\"positive\",\"positive\",\"negative\",\"positive\",\"positive\",\"positive\",\"negative\",\"neutral\",\"positive\",\"negative\",\"neutral\",\"neutral\",\"positive\",\"negative\",\"negative\",\"positive\",\"positive\",\"positive\",\"neutral\",\"negative\",\"positive\",\"positive\",\"neutral\",\"negative\",\"negative\",\"positive\",\"positive\",\"positive\",\"positive\",\"negative\",\"negative\",\"negative\",\"positive\",\"positive\",\"positive\",\"positive\",\"positive\",\"negative\",\"positive\",\"neutral\",\"negative\",\"neutral\",\"negative\",\"positive\",\"positive\",\"positive\",\"positive\",\"positive\",\"positive\",\"neutral\",\"neutral\",\"neutral\",\"positive\",\"negative\",\"neutral\",\"positive\",\"neutral\",\"positive\",\"neutral\",\"negative\",\"positive\",\"positive\",\"positive\",\"positive\",\"positive\",\"negative\",\"negative\",\"positive\",\"positive\",\"positive\",\"positive\",\"positive\",\"negative\",\"positive\",\"neutral\",\"positive\",\"negative\",\"positive\",\"positive\",\"positive\",\"positive\",\"positive\",\"negative\",\"positive\",\"positive\",\"positive\",\"positive\",\"positive\",\"positive\",\"positive\",\"negative\",\"positive\",\"neutral\",\"negative\",\"positive\",\"negative\",\"negative\",\"positive\",\"positive\",\"positive\",\"neutral\",\"positive\",\"negative\",\"positive\",\"negative\",\"positive\",\"neutral\",\"positive\",\"negative\",\"positive\",\"positive\",\"positive\",\"positive\",\"neutral\",\"neutral\",\"negative\",\"negative\",\"positive\",\"positive\",\"positive\",\"negative\",\"positive\",\"negative\",\"positive\",\"positive\",\"positive\",\"positive\",\"positive\",\"positive\",\"positive\",\"positive\",\"negative\",\"negative\",\"positive\",\"positive\",\"positive\",\"negative\",\"positive\",\"negative\",\"positive\",\"positive\",\"positive\",\"positive\",\"negative\",\"positive\",\"positive\",\"positive\",\"positive\",\"positive\",\"neutral\",\"positive\",\"positive\",\"positive\",\"negative\",\"neutral\",\"negative\",\"negative\",\"positive\",\"positive\",\"negative\",\"positive\",\"positive\",\"positive\",\"positive\",\"positive\",\"negative\",\"negative\",\"neutral\",\"positive\",\"positive\",\"negative\",\"neutral\",\"positive\",\"positive\",\"neutral\",\"positive\",\"positive\",\"negative\",\"negative\",\"positive\",\"positive\",\"positive\",\"positive\",\"positive\",\"negative\",\"negative\",\"positive\",\"neutral\",\"negative\",\"neutral\",\"negative\",\"positive\",\"positive\",\"neutral\",\"positive\",\"positive\",\"positive\",\"positive\",\"negative\",\"positive\",\"positive\",\"neutral\",\"positive\",\"positive\",\"positive\",\"positive\",\"positive\",\"positive\",\"positive\",\"negative\",\"negative\",\"negative\",\"negative\",\"neutral\",\"positive\",\"negative\",\"positive\",\"negative\",\"positive\",\"positive\",\"positive\",\"positive\",\"negative\",\"positive\",\"positive\",\"negative\",\"positive\",\"positive\",\"positive\",\"positive\",\"positive\",\"neutral\",\"negative\",\"negative\",\"positive\",\"positive\",\"negative\",\"negative\",\"positive\",\"neutral\",\"negative\",\"positive\",\"positive\",\"neutral\",\"neutral\",\"negative\",\"negative\",\"positive\",\"negative\",\"negative\",\"positive\",\"positive\",\"negative\",\"negative\",\"positive\",\"negative\",\"neutral\",\"positive\",\"negative\",\"positive\",\"positive\",\"positive\",\"negative\",\"negative\",\"negative\",\"neutral\",\"positive\",\"positive\",\"positive\",\"positive\",\"positive\",\"neutral\",\"negative\",\"positive\",\"positive\",\"positive\",\"negative\",\"positive\",\"positive\",\"positive\",\"positive\",\"negative\",\"negative\",\"neutral\",\"positive\",\"positive\",\"positive\",\"positive\",\"negative\",\"positive\",\"negative\",\"positive\",\"positive\",\"positive\",\"positive\",\"positive\",\"positive\",\"positive\",\"negative\",\"neutral\",\"positive\",\"positive\",\"negative\",\"positive\",\"positive\",\"negative\",\"positive\",\"negative\",\"positive\",\"positive\",\"neutral\",\"positive\",\"negative\",\"negative\",\"negative\",\"negative\",\"negative\",\"positive\",\"positive\",\"positive\",\"positive\",\"negative\",\"negative\",\"neutral\",\"positive\",\"positive\",\"positive\",\"positive\",\"positive\",\"positive\",\"negative\",\"positive\",\"negative\",\"positive\",\"positive\",\"neutral\",\"positive\",\"negative\",\"neutral\",\"negative\",\"negative\",\"negative\",\"positive\",\"positive\",\"negative\",\"positive\",\"positive\",\"negative\",\"positive\",\"positive\",\"positive\",\"negative\",\"negative\",\"positive\",\"negative\",\"positive\",\"positive\",\"positive\",\"positive\",\"positive\",\"positive\",\"negative\",\"positive\",\"positive\",\"negative\",\"positive\",\"positive\",\"negative\",\"positive\",\"neutral\",\"positive\",\"negative\",\"positive\",\"negative\",\"positive\",\"neutral\",\"positive\",\"positive\",\"negative\",\"positive\",\"positive\",\"positive\",\"positive\",\"negative\",\"negative\",\"positive\",\"negative\",\"positive\",\"positive\",\"negative\",\"positive\",\"positive\",\"positive\",\"neutral\",\"positive\",\"positive\",\"negative\",\"positive\",\"positive\",\"neutral\",\"negative\",\"neutral\",\"negative\",\"positive\",\"positive\",\"positive\",\"positive\",\"neutral\",\"positive\",\"negative\",\"negative\",\"positive\",\"positive\",\"negative\",\"neutral\",\"negative\",\"positive\",\"positive\",\"positive\",\"positive\",\"positive\",\"neutral\",\"positive\",\"positive\",\"positive\",\"negative\",\"negative\",\"positive\",\"positive\",\"positive\",\"positive\",\"positive\",\"negative\",\"neutral\",\"negative\",\"positive\",\"negative\",\"negative\",\"positive\",\"positive\",\"neutral\",\"negative\",\"positive\",\"positive\",\"positive\",\"positive\",\"positive\",\"positive\",\"positive\",\"positive\",\"positive\",\"neutral\",\"positive\",\"positive\",\"positive\",\"positive\",\"neutral\",\"positive\",\"positive\",\"positive\",\"positive\",\"negative\",\"negative\",\"positive\",\"positive\",\"positive\",\"positive\",\"positive\",\"positive\",\"positive\",\"positive\",\"positive\",\"positive\",\"negative\",\"neutral\",\"neutral\",\"positive\",\"positive\",\"positive\",\"neutral\",\"positive\",\"negative\",\"negative\",\"neutral\",\"positive\",\"negative\",\"neutral\",\"positive\",\"positive\",\"negative\",\"positive\",\"positive\",\"positive\",\"positive\",\"negative\",\"positive\",\"positive\",\"positive\",\"neutral\",\"positive\",\"positive\",\"positive\",\"neutral\",\"positive\",\"negative\",\"negative\",\"neutral\",\"positive\",\"positive\",\"positive\",\"positive\",\"neutral\",\"positive\",\"negative\",\"neutral\",\"neutral\",\"positive\",\"negative\",\"positive\",\"negative\",\"neutral\",\"positive\",\"positive\",\"positive\",\"positive\",\"negative\",\"positive\",\"positive\",\"neutral\",\"positive\",\"negative\",\"negative\",\"neutral\",\"positive\",\"positive\",\"positive\",\"negative\",\"positive\",\"negative\",\"positive\",\"neutral\",\"negative\",\"negative\",\"neutral\",\"positive\",\"positive\",\"neutral\",\"positive\",\"positive\",\"negative\",\"positive\",\"neutral\",\"negative\",\"positive\",\"positive\",\"positive\",\"positive\",\"positive\",\"positive\",\"positive\",\"neutral\",\"negative\",\"positive\",\"positive\",\"positive\",\"positive\",\"positive\",\"positive\",\"positive\",\"positive\",\"positive\",\"positive\",\"negative\",\"positive\",\"positive\",\"positive\",\"negative\",\"positive\",\"negative\",\"negative\",\"neutral\",\"negative\",\"neutral\",\"positive\",\"negative\",\"positive\",\"positive\",\"positive\",\"negative\",\"positive\",\"negative\",\"negative\",\"positive\",\"positive\",\"positive\",\"positive\",\"negative\",\"positive\",\"positive\",\"positive\",\"positive\",\"positive\",\"positive\",\"positive\",\"negative\",\"negative\",\"negative\",\"negative\",\"positive\",\"positive\",\"positive\",\"positive\",\"positive\",\"positive\",\"positive\",\"positive\",\"positive\",\"neutral\",\"negative\",\"positive\",\"negative\",\"neutral\",\"positive\",\"positive\",\"positive\",\"positive\",\"negative\",\"neutral\",\"negative\",\"positive\",\"negative\",\"positive\",\"negative\",\"positive\",\"positive\",\"neutral\",\"positive\",\"positive\",\"positive\",\"positive\",\"neutral\",\"negative\",\"positive\",\"negative\",\"positive\",\"neutral\",\"negative\",\"positive\",\"positive\",\"positive\",\"positive\",\"positive\",\"negative\",\"positive\",\"positive\",\"negative\",\"negative\",\"positive\",\"negative\",\"negative\",\"positive\",\"negative\",\"negative\",\"positive\",\"negative\",\"positive\",\"negative\",\"negative\",\"positive\",\"negative\",\"positive\",\"negative\",\"neutral\",\"negative\",\"positive\",\"negative\",\"neutral\",\"positive\",\"positive\",\"positive\",\"positive\",\"positive\",\"negative\",\"positive\",\"neutral\",\"positive\",\"negative\",\"negative\",\"positive\",\"neutral\",\"positive\",\"neutral\",\"neutral\",\"positive\",\"negative\",\"positive\",\"positive\",\"positive\",\"positive\",\"positive\",\"positive\",\"positive\",\"positive\",\"neutral\",\"positive\",\"negative\",\"positive\",\"positive\",\"positive\",\"positive\",\"positive\",\"positive\",\"negative\",\"negative\",\"positive\",\"neutral\",\"positive\",\"positive\",\"positive\",\"negative\",\"positive\",\"negative\",\"positive\",\"positive\",\"positive\",\"positive\",\"positive\",\"positive\",\"negative\",\"negative\",\"positive\",\"negative\",\"positive\",\"positive\",\"positive\",\"negative\",\"negative\",\"negative\",\"negative\",\"negative\",\"negative\",\"positive\",\"positive\",\"positive\",\"positive\",\"positive\",\"positive\",\"negative\",\"negative\",\"positive\",\"negative\",\"positive\",\"negative\",\"positive\",\"negative\",\"positive\",\"positive\",\"positive\",\"negative\",\"negative\",\"negative\",\"neutral\",\"neutral\",\"negative\",\"positive\",\"negative\",\"positive\",\"positive\",\"positive\",\"negative\",\"positive\",\"negative\",\"positive\",\"negative\",\"positive\",\"negative\",\"neutral\",\"neutral\",\"positive\",\"negative\",\"neutral\",\"positive\",\"negative\",\"positive\",\"positive\",\"negative\",\"positive\",\"negative\",\"positive\",\"positive\",\"positive\",\"neutral\",\"negative\",\"positive\",\"positive\",\"positive\",\"positive\",\"neutral\",\"negative\",\"positive\",\"neutral\",\"negative\",\"positive\",\"neutral\",\"positive\",\"negative\",\"positive\",\"negative\",\"negative\",\"negative\",\"positive\",\"negative\",\"negative\",\"positive\",\"negative\",\"negative\",\"negative\",\"positive\",\"positive\",\"neutral\",\"positive\",\"positive\",\"neutral\",\"negative\",\"positive\",\"positive\",\"positive\",\"positive\",\"positive\",\"positive\",\"positive\",\"positive\",\"positive\",\"positive\",\"positive\",\"negative\",\"positive\",\"positive\",\"negative\",\"positive\",\"negative\",\"positive\",\"neutral\",\"positive\",\"neutral\",\"neutral\",\"negative\",\"positive\",\"negative\",\"positive\",\"positive\",\"positive\",\"neutral\",\"negative\",\"negative\",\"positive\",\"positive\",\"negative\",\"positive\",\"negative\",\"positive\",\"positive\",\"positive\",\"positive\",\"positive\",\"positive\",\"positive\",\"negative\",\"positive\",\"neutral\",\"positive\",\"neutral\",\"positive\",\"neutral\",\"negative\",\"positive\",\"positive\",\"negative\",\"negative\",\"negative\",\"positive\",\"positive\",\"positive\",\"neutral\",\"positive\",\"positive\",\"positive\",\"positive\",\"negative\",\"negative\",\"positive\",\"positive\",\"neutral\",\"positive\",\"negative\",\"positive\",\"positive\",\"neutral\",\"positive\",\"negative\",\"negative\",\"negative\",\"positive\",\"positive\",\"positive\",\"negative\",\"negative\",\"positive\",\"positive\",\"neutral\",\"negative\",\"negative\",\"positive\",\"positive\",\"positive\",\"positive\",\"neutral\",\"negative\",\"neutral\",\"positive\",\"negative\",\"positive\",\"negative\",\"positive\",\"positive\",\"negative\",\"positive\",\"positive\",\"positive\",\"positive\",\"positive\",\"neutral\",\"negative\",\"positive\",\"positive\",\"positive\",\"positive\",\"positive\",\"positive\",\"positive\",\"negative\",\"positive\",\"positive\",\"neutral\",\"positive\",\"positive\",\"positive\",\"positive\",\"negative\",\"positive\",\"positive\",\"positive\",\"positive\",\"positive\",\"positive\",\"negative\",\"positive\",\"positive\",\"positive\",\"negative\",\"positive\",\"positive\",\"negative\",\"negative\",\"negative\",\"positive\",\"positive\",\"positive\",\"positive\",\"positive\",\"positive\",\"neutral\",\"positive\",\"positive\",\"negative\",\"positive\",\"neutral\",\"negative\",\"positive\",\"positive\",\"positive\",\"negative\",\"positive\",\"negative\",\"positive\",\"positive\",\"negative\",\"positive\",\"positive\",\"negative\",\"positive\",\"positive\",\"positive\",\"neutral\",\"positive\",\"negative\",\"negative\",\"negative\",\"neutral\",\"positive\",\"negative\",\"positive\",\"neutral\",\"positive\",\"negative\",\"positive\",\"positive\",\"positive\",\"neutral\",\"neutral\",\"negative\",\"positive\",\"positive\",\"neutral\",\"positive\",\"positive\",\"negative\",\"positive\",\"positive\",\"negative\",\"positive\",\"positive\",\"negative\",\"positive\",\"positive\",\"negative\",\"negative\",\"positive\",\"neutral\",\"positive\",\"positive\",\"negative\",\"positive\",\"positive\",\"positive\",\"negative\",\"negative\",\"positive\",\"positive\",\"positive\",\"negative\",\"negative\",\"positive\",\"negative\",\"positive\",\"positive\",\"positive\",\"neutral\",\"negative\",\"negative\",\"positive\",\"negative\",\"positive\",\"negative\",\"positive\",\"positive\",\"positive\",\"positive\",\"positive\",\"positive\",\"negative\",\"positive\",\"positive\",\"positive\",\"neutral\",\"negative\",\"neutral\",\"negative\",\"positive\",\"positive\",\"negative\",\"positive\",\"negative\",\"negative\",\"positive\",\"negative\",\"negative\",\"positive\",\"negative\",\"negative\",\"positive\",\"negative\",\"positive\",\"negative\",\"positive\",\"positive\",\"negative\",\"positive\",\"positive\",\"neutral\",\"negative\",\"positive\",\"negative\",\"negative\",\"negative\",\"positive\",\"neutral\",\"positive\",\"positive\",\"negative\",\"positive\",\"positive\",\"positive\",\"positive\",\"positive\",\"negative\",\"positive\",\"positive\",\"positive\",\"positive\",\"positive\",\"positive\",\"positive\",\"negative\",\"negative\",\"negative\",\"negative\",\"positive\",\"positive\",\"negative\",\"positive\",\"negative\",\"positive\",\"negative\",\"negative\",\"neutral\",\"positive\",\"positive\",\"positive\",\"negative\",\"positive\",\"negative\",\"positive\",\"positive\",\"negative\",\"positive\",\"negative\",\"negative\",\"positive\",\"negative\",\"positive\",\"positive\",\"positive\",\"positive\",\"positive\",\"neutral\",\"neutral\",\"negative\",\"positive\",\"positive\",\"neutral\",\"positive\",\"positive\",\"positive\",\"negative\",\"negative\",\"positive\",\"neutral\",\"negative\",\"negative\",\"positive\",\"negative\",\"positive\",\"positive\",\"positive\",\"negative\",\"neutral\",\"positive\",\"neutral\",\"negative\",\"negative\",\"positive\",\"negative\",\"positive\",\"positive\",\"negative\",\"negative\",\"positive\",\"positive\",\"positive\",\"negative\",\"positive\",\"neutral\",\"positive\",\"neutral\",\"positive\",\"negative\",\"positive\",\"negative\",\"positive\",\"positive\",\"positive\",\"negative\",\"positive\",\"positive\",\"negative\",\"positive\",\"negative\",\"negative\",\"positive\",\"neutral\",\"neutral\",\"negative\",\"positive\",\"negative\",\"negative\",\"positive\",\"positive\",\"negative\",\"positive\",\"negative\",\"positive\",\"positive\",\"negative\",\"positive\",\"negative\",\"positive\",\"positive\",\"positive\",\"positive\",\"positive\",\"positive\",\"negative\",\"positive\",\"positive\",\"negative\",\"positive\",\"negative\",\"neutral\",\"neutral\",\"positive\",\"positive\",\"positive\",\"positive\",\"positive\",\"positive\",\"neutral\",\"positive\",\"negative\",\"negative\",\"negative\",\"negative\",\"negative\",\"negative\",\"positive\",\"positive\",\"positive\",\"negative\",\"positive\",\"negative\",\"positive\",\"positive\",\"negative\",\"negative\",\"negative\",\"negative\",\"neutral\",\"negative\",\"positive\",\"positive\",\"negative\",\"positive\",\"negative\",\"neutral\",\"negative\",\"negative\",\"negative\",\"positive\",\"positive\",\"positive\",\"positive\",\"positive\",\"positive\",\"positive\",\"positive\",\"negative\",\"positive\",\"positive\",\"negative\",\"positive\",\"neutral\",\"negative\",\"negative\",\"neutral\",\"negative\",\"positive\",\"positive\",\"positive\",\"positive\",\"positive\",\"positive\",\"positive\",\"neutral\",\"positive\",\"negative\",\"positive\",\"positive\",\"positive\",\"negative\",\"negative\",\"positive\",\"negative\",\"neutral\",\"negative\",\"positive\",\"positive\",\"negative\",\"negative\",\"neutral\",\"positive\",\"neutral\",\"negative\",\"positive\",\"positive\",\"negative\",\"negative\",\"positive\",\"positive\",\"positive\",\"positive\",\"positive\",\"negative\",\"negative\",\"negative\",\"positive\",\"neutral\",\"negative\",\"negative\",\"negative\",\"negative\",\"positive\",\"positive\",\"positive\",\"positive\",\"positive\",\"positive\",\"positive\",\"negative\",\"positive\",\"positive\",\"negative\",\"negative\",\"positive\",\"positive\",\"positive\",\"negative\",\"negative\",\"positive\",\"negative\",\"negative\",\"positive\",\"positive\",\"positive\",\"positive\",\"negative\",\"positive\",\"positive\",\"positive\",\"positive\",\"negative\",\"positive\",\"positive\",\"positive\",\"positive\",\"negative\",\"negative\",\"positive\",\"positive\",\"negative\",\"neutral\",\"negative\",\"positive\",\"negative\",\"negative\",\"positive\",\"negative\",\"negative\",\"negative\",\"positive\",\"positive\",\"positive\",\"positive\",\"positive\",\"positive\",\"negative\",\"positive\",\"positive\",\"positive\",\"positive\",\"negative\",\"positive\",\"positive\",\"positive\",\"positive\",\"positive\",\"positive\",\"positive\",\"positive\",\"negative\",\"negative\",\"negative\",\"positive\",\"positive\",\"negative\",\"positive\",\"negative\",\"negative\",\"negative\",\"positive\",\"negative\",\"negative\",\"negative\",\"positive\",\"positive\",\"negative\",\"neutral\",\"neutral\",\"negative\",\"positive\",\"positive\",\"positive\",\"positive\",\"positive\",\"positive\",\"positive\",\"positive\",\"negative\",\"negative\",\"negative\",\"positive\",\"positive\",\"positive\",\"positive\",\"positive\",\"negative\",\"negative\",\"negative\",\"neutral\",\"positive\",\"positive\",\"neutral\",\"positive\",\"positive\",\"negative\",\"negative\",\"positive\",\"negative\",\"positive\",\"positive\",\"neutral\",\"negative\",\"neutral\",\"positive\",\"positive\",\"negative\",\"positive\",\"positive\",\"negative\",\"negative\",\"positive\",\"neutral\",\"positive\",\"positive\",\"positive\",\"negative\",\"negative\",\"positive\",\"neutral\",\"positive\",\"positive\",\"positive\",\"negative\",\"neutral\",\"positive\",\"negative\",\"positive\",\"positive\",\"negative\",\"positive\",\"negative\",\"negative\",\"negative\",\"negative\",\"positive\",\"positive\",\"positive\",\"positive\",\"positive\",\"negative\",\"positive\",\"positive\",\"positive\",\"positive\",\"negative\",\"negative\",\"positive\",\"positive\",\"positive\",\"positive\",\"negative\",\"negative\",\"negative\",\"negative\",\"positive\",\"neutral\",\"positive\",\"negative\",\"negative\",\"positive\",\"negative\",\"negative\",\"positive\",\"negative\",\"negative\",\"positive\",\"negative\",\"positive\",\"positive\",\"positive\",\"positive\",\"positive\",\"positive\",\"negative\",\"positive\",\"positive\",\"positive\",\"negative\",\"negative\",\"positive\",\"positive\",\"negative\",\"negative\",\"negative\",\"positive\",\"negative\",\"positive\",\"positive\",\"positive\",\"positive\",\"positive\",\"negative\",\"positive\",\"negative\",\"positive\",\"negative\",\"positive\",\"positive\",\"positive\",\"neutral\",\"negative\",\"negative\",\"positive\",\"positive\",\"negative\",\"neutral\",\"positive\",\"negative\",\"negative\",\"positive\",\"positive\",\"positive\",\"negative\",\"positive\",\"negative\",\"positive\",\"negative\",\"neutral\",\"neutral\",\"positive\",\"positive\",\"positive\",\"positive\",\"negative\",\"negative\",\"positive\",\"positive\",\"neutral\",\"negative\",\"positive\",\"positive\",\"positive\",\"positive\",\"positive\",\"negative\",\"negative\",\"positive\",\"positive\",\"negative\",\"positive\",\"positive\",\"positive\",\"positive\",\"neutral\",\"negative\",\"negative\",\"positive\",\"negative\",\"negative\",\"neutral\",\"positive\",\"positive\",\"positive\",\"negative\",\"neutral\",\"positive\",\"positive\",\"positive\",\"positive\",\"negative\",\"negative\",\"neutral\",\"positive\",\"negative\",\"neutral\",\"positive\",\"positive\",\"negative\",\"positive\",\"negative\",\"positive\",\"negative\",\"positive\",\"neutral\",\"negative\",\"positive\",\"negative\",\"positive\",\"negative\",\"positive\",\"positive\",\"positive\",\"positive\",\"positive\",\"negative\",\"negative\",\"positive\",\"negative\",\"neutral\",\"positive\",\"negative\",\"positive\",\"positive\",\"positive\",\"positive\",\"negative\",\"positive\",\"positive\",\"positive\",\"negative\",\"negative\",\"positive\",\"positive\",\"negative\",\"neutral\",\"positive\",\"negative\",\"positive\",\"positive\",\"positive\",\"positive\",\"positive\",\"positive\",\"positive\",\"negative\",\"neutral\",\"positive\",\"positive\",\"positive\",\"negative\",\"positive\",\"positive\",\"negative\",\"negative\",\"positive\",\"negative\",\"positive\",\"positive\",\"negative\",\"positive\",\"positive\",\"positive\",\"negative\",\"negative\",\"negative\",\"negative\",\"positive\",\"positive\",\"positive\",\"positive\",\"negative\",\"negative\",\"positive\",\"positive\",\"positive\",\"negative\",\"positive\",\"negative\",\"positive\",\"negative\",\"positive\",\"positive\",\"positive\",\"positive\",\"positive\",\"neutral\",\"positive\",\"positive\",\"neutral\",\"negative\",\"positive\",\"positive\",\"neutral\",\"positive\",\"positive\",\"positive\",\"positive\",\"negative\",\"neutral\",\"negative\",\"negative\",\"positive\",\"neutral\",\"positive\",\"positive\",\"negative\",\"positive\",\"positive\",\"positive\",\"positive\",\"neutral\",\"positive\",\"positive\",\"negative\",\"negative\",\"negative\",\"positive\",\"positive\",\"positive\",\"negative\",\"positive\",\"positive\",\"negative\",\"positive\",\"negative\",\"negative\",\"negative\",\"positive\",\"neutral\",\"negative\",\"positive\",\"positive\",\"negative\",\"negative\",\"positive\",\"negative\",\"positive\",\"negative\",\"negative\",\"positive\",\"positive\",\"negative\",\"positive\",\"positive\",\"negative\",\"positive\",\"positive\",\"neutral\",\"positive\",\"negative\",\"neutral\",\"negative\",\"positive\",\"positive\",\"positive\",\"negative\",\"positive\",\"positive\",\"positive\",\"positive\",\"negative\",\"negative\",\"negative\",\"positive\",\"positive\",\"negative\",\"positive\",\"negative\",\"negative\",\"positive\",\"positive\",\"positive\",\"positive\",\"neutral\",\"positive\",\"positive\",\"positive\",\"neutral\",\"negative\",\"negative\",\"neutral\",\"positive\",\"negative\",\"negative\",\"positive\",\"negative\",\"neutral\",\"positive\",\"positive\",\"negative\",\"neutral\",\"negative\",\"positive\",\"positive\",\"negative\",\"negative\",\"positive\",\"positive\",\"positive\",\"positive\",\"negative\",\"neutral\",\"negative\",\"neutral\",\"negative\",\"negative\",\"negative\",\"neutral\",\"positive\",\"positive\",\"positive\",\"positive\",\"positive\",\"positive\",\"positive\",\"positive\",\"positive\",\"negative\",\"positive\",\"positive\",\"positive\",\"positive\",\"negative\",\"positive\",\"negative\",\"positive\",\"negative\",\"positive\",\"negative\",\"positive\",\"negative\",\"positive\",\"negative\",\"positive\",\"negative\",\"positive\",\"negative\",\"positive\",\"positive\",\"positive\",\"neutral\",\"positive\",\"negative\",\"positive\",\"positive\",\"negative\",\"negative\",\"positive\",\"negative\",\"positive\",\"negative\",\"positive\",\"positive\",\"neutral\",\"negative\",\"negative\",\"negative\",\"negative\",\"positive\",\"negative\",\"negative\",\"negative\",\"positive\",\"neutral\",\"positive\",\"positive\",\"positive\",\"positive\",\"negative\",\"positive\",\"negative\",\"positive\",\"positive\",\"positive\",\"positive\",\"neutral\",\"positive\",\"positive\",\"positive\",\"negative\",\"positive\",\"neutral\",\"positive\",\"positive\",\"positive\",\"neutral\",\"negative\",\"positive\",\"positive\",\"positive\",\"positive\",\"positive\",\"negative\",\"positive\",\"positive\",\"positive\",\"negative\",\"neutral\",\"positive\",\"positive\",\"positive\",\"positive\",\"positive\",\"positive\",\"positive\",\"positive\",\"positive\",\"negative\",\"negative\",\"positive\",\"negative\",\"negative\",\"negative\",\"negative\",\"positive\",\"positive\",\"positive\",\"negative\",\"positive\",\"negative\",\"negative\",\"neutral\",\"positive\",\"negative\",\"neutral\",\"positive\",\"positive\",\"positive\",\"neutral\",\"positive\",\"positive\",\"positive\",\"positive\",\"positive\",\"positive\",\"positive\",\"positive\",\"positive\",\"positive\",\"positive\",\"negative\",\"neutral\",\"negative\",\"positive\",\"negative\",\"negative\",\"negative\",\"positive\",\"positive\",\"positive\",\"positive\",\"positive\",\"neutral\",\"positive\",\"positive\",\"positive\",\"negative\",\"positive\",\"positive\",\"positive\",\"negative\",\"negative\",\"positive\",\"positive\",\"positive\",\"positive\",\"positive\",\"positive\",\"positive\",\"positive\",\"positive\",\"positive\",\"positive\",\"positive\",\"negative\",\"positive\",\"positive\",\"positive\",\"positive\",\"positive\",\"positive\",\"positive\",\"neutral\",\"positive\",\"positive\",\"positive\",\"negative\",\"positive\",\"positive\",\"positive\",\"neutral\",\"positive\",\"positive\",\"positive\",\"positive\",\"positive\",\"positive\",\"positive\",\"positive\",\"negative\",\"positive\",\"positive\",\"positive\",\"positive\",\"negative\",\"positive\",\"positive\",\"positive\",\"negative\",\"positive\",\"neutral\",\"positive\",\"positive\",\"negative\",\"negative\",\"positive\",\"positive\",\"neutral\",\"positive\",\"positive\",\"negative\",\"negative\",\"positive\",\"negative\",\"neutral\",\"negative\",\"negative\",\"negative\",\"neutral\",\"positive\",\"positive\",\"positive\",\"positive\",\"positive\",\"negative\",\"positive\",\"neutral\",\"negative\",\"neutral\",\"negative\",\"positive\",\"negative\",\"neutral\",\"neutral\",\"positive\",\"negative\",\"positive\",\"negative\",\"positive\",\"negative\",\"positive\",\"positive\",\"positive\",\"positive\",\"negative\",\"negative\",\"negative\",\"positive\",\"positive\",\"negative\",\"positive\",\"positive\",\"positive\",\"positive\",\"negative\",\"positive\",\"negative\",\"positive\",\"positive\",\"negative\",\"positive\",\"positive\",\"neutral\",\"negative\",\"positive\",\"negative\",\"neutral\",\"positive\",\"positive\",\"neutral\",\"negative\",\"neutral\",\"positive\",\"neutral\",\"positive\",\"neutral\",\"positive\",\"positive\",\"positive\",\"positive\",\"positive\",\"neutral\",\"neutral\",\"positive\",\"negative\",\"positive\",\"negative\",\"positive\",\"positive\",\"positive\",\"positive\",\"positive\",\"positive\",\"negative\",\"neutral\",\"positive\",\"positive\",\"positive\",\"positive\",\"positive\",\"negative\",\"negative\",\"negative\",\"neutral\",\"positive\",\"positive\",\"negative\",\"positive\",\"positive\",\"negative\",\"positive\",\"negative\",\"negative\",\"positive\",\"positive\",\"positive\",\"positive\",\"positive\",\"positive\",\"positive\",\"neutral\",\"neutral\",\"positive\",\"positive\",\"positive\",\"negative\",\"negative\",\"positive\",\"neutral\",\"positive\",\"positive\",\"negative\",\"negative\",\"positive\",\"negative\",\"positive\",\"positive\",\"negative\",\"negative\",\"neutral\",\"negative\",\"positive\",\"positive\",\"neutral\",\"positive\",\"positive\",\"positive\",\"neutral\",\"positive\",\"positive\",\"neutral\",\"negative\",\"negative\",\"negative\",\"positive\",\"negative\",\"positive\",\"positive\",\"positive\",\"negative\",\"negative\",\"positive\",\"negative\",\"positive\",\"positive\",\"negative\",\"positive\",\"positive\",\"positive\",\"positive\",\"positive\",\"neutral\",\"neutral\",\"positive\",\"positive\",\"negative\",\"positive\",\"negative\",\"positive\",\"positive\",\"positive\",\"positive\",\"neutral\",\"positive\",\"negative\",\"positive\",\"positive\",\"negative\",\"positive\",\"positive\",\"positive\",\"neutral\",\"neutral\",\"negative\",\"negative\",\"positive\",\"negative\",\"negative\",\"positive\",\"positive\",\"positive\",\"neutral\",\"positive\",\"positive\",\"negative\",\"positive\",\"positive\",\"negative\",\"negative\",\"positive\",\"negative\",\"negative\",\"positive\",\"negative\",\"positive\",\"neutral\",\"positive\",\"positive\",\"positive\",\"negative\",\"positive\",\"positive\",\"positive\",\"positive\",\"neutral\",\"negative\",\"positive\",\"neutral\",\"neutral\",\"positive\",\"positive\",\"positive\",\"negative\",\"positive\",\"neutral\",\"positive\",\"positive\",\"positive\",\"positive\",\"negative\",\"negative\",\"negative\",\"positive\",\"positive\",\"neutral\",\"positive\",\"positive\",\"negative\",\"negative\",\"positive\",\"positive\",\"neutral\",\"negative\",\"positive\",\"neutral\",\"negative\",\"negative\",\"positive\",\"positive\",\"positive\",\"positive\",\"negative\",\"positive\",\"positive\",\"negative\",\"neutral\",\"positive\",\"positive\",\"positive\",\"positive\",\"neutral\",\"positive\",\"positive\",\"negative\",\"negative\",\"positive\",\"positive\",\"positive\",\"negative\",\"positive\",\"positive\",\"positive\",\"neutral\",\"positive\",\"neutral\",\"negative\",\"neutral\",\"positive\",\"positive\",\"negative\",\"positive\",\"positive\",\"positive\",\"negative\",\"positive\",\"negative\",\"neutral\",\"positive\",\"positive\",\"negative\",\"positive\",\"negative\",\"negative\",\"neutral\",\"positive\",\"positive\",\"negative\",\"positive\",\"neutral\",\"positive\",\"negative\",\"neutral\",\"positive\",\"negative\",\"neutral\",\"positive\",\"positive\",\"positive\",\"negative\",\"positive\",\"positive\",\"positive\",\"negative\",\"neutral\",\"negative\",\"negative\",\"positive\",\"positive\",\"positive\",\"negative\",\"positive\",\"positive\",\"positive\",\"positive\",\"negative\",\"negative\",\"positive\",\"positive\",\"positive\",\"negative\",\"negative\",\"positive\",\"negative\",\"neutral\",\"positive\",\"positive\",\"positive\",\"positive\",\"negative\",\"positive\",\"neutral\",\"negative\",\"negative\",\"positive\",\"negative\",\"negative\",\"neutral\",\"positive\",\"positive\",\"negative\",\"positive\",\"neutral\",\"neutral\",\"negative\",\"negative\",\"negative\",\"negative\",\"negative\",\"negative\",\"negative\",\"positive\",\"negative\",\"positive\",\"positive\",\"neutral\",\"positive\",\"positive\",\"negative\",\"positive\",\"neutral\",\"positive\",\"negative\",\"positive\",\"negative\",\"negative\",\"negative\",\"neutral\",\"negative\",\"positive\",\"positive\",\"negative\",\"neutral\",\"positive\",\"positive\",\"positive\",\"negative\",\"positive\",\"negative\",\"positive\",\"positive\",\"negative\",\"positive\",\"neutral\",\"positive\",\"positive\",\"negative\",\"negative\",\"positive\",\"negative\",\"negative\",\"neutral\",\"positive\",\"neutral\",\"negative\",\"positive\",\"positive\",\"positive\",\"positive\",\"positive\",\"neutral\",\"negative\",\"negative\",\"negative\",\"positive\",\"neutral\",\"negative\",\"positive\",\"positive\",\"positive\",\"negative\",\"positive\",\"negative\",\"negative\",\"positive\",\"negative\",\"positive\",\"negative\",\"positive\",\"negative\",\"positive\",\"negative\",\"positive\",\"positive\",\"negative\",\"positive\",\"positive\",\"positive\",\"negative\",\"negative\",\"positive\",\"positive\",\"neutral\",\"positive\",\"neutral\",\"neutral\",\"positive\",\"negative\",\"positive\",\"negative\",\"neutral\",\"negative\",\"negative\",\"positive\",\"positive\",\"positive\",\"negative\",\"positive\",\"negative\",\"neutral\",\"positive\",\"negative\",\"negative\",\"positive\",\"positive\",\"positive\",\"positive\",\"negative\",\"positive\",\"neutral\",\"positive\",\"positive\",\"positive\",\"neutral\",\"positive\",\"positive\",\"positive\",\"negative\",\"negative\",\"negative\",\"negative\",\"negative\",\"neutral\",\"neutral\",\"positive\",\"negative\",\"neutral\",\"positive\",\"neutral\",\"positive\",\"positive\",\"negative\",\"positive\",\"positive\",\"positive\",\"negative\",\"positive\",\"negative\",\"positive\",\"positive\",\"positive\",\"positive\",\"positive\",\"positive\",\"negative\",\"positive\",\"positive\",\"positive\",\"negative\",\"positive\",\"neutral\",\"positive\",\"negative\",\"positive\",\"positive\",\"neutral\",\"positive\",\"positive\",\"positive\",\"positive\",\"positive\",\"negative\",\"positive\",\"positive\",\"positive\",\"negative\",\"positive\",\"positive\",\"positive\",\"negative\",\"positive\",\"neutral\",\"positive\",\"negative\",\"negative\",\"positive\",\"negative\",\"neutral\",\"negative\",\"positive\",\"positive\",\"positive\",\"positive\",\"positive\",\"positive\",\"positive\",\"negative\",\"negative\",\"positive\",\"positive\",\"positive\",\"negative\",\"negative\",\"neutral\",\"negative\",\"neutral\",\"negative\",\"negative\",\"neutral\",\"positive\",\"negative\",\"neutral\",\"neutral\",\"positive\",\"positive\",\"positive\",\"positive\",\"negative\",\"positive\",\"positive\",\"positive\",\"negative\",\"negative\",\"positive\",\"positive\",\"positive\",\"positive\",\"negative\",\"positive\",\"neutral\",\"neutral\",\"positive\",\"positive\",\"negative\",\"negative\",\"neutral\",\"neutral\",\"positive\",\"positive\",\"negative\",\"positive\",\"negative\",\"negative\",\"neutral\",\"negative\",\"positive\",\"negative\",\"positive\",\"neutral\",\"positive\",\"positive\",\"positive\",\"positive\",\"negative\",\"positive\",\"positive\",\"neutral\",\"positive\",\"positive\",\"positive\",\"positive\",\"negative\",\"positive\",\"positive\",\"positive\",\"negative\",\"positive\",\"negative\",\"negative\",\"negative\",\"negative\",\"positive\",\"negative\",\"positive\",\"negative\",\"negative\",\"positive\",\"positive\",\"negative\",\"positive\",\"positive\",\"positive\",\"positive\",\"positive\",\"neutral\",\"positive\",\"negative\",\"positive\",\"positive\",\"positive\",\"positive\",\"positive\",\"positive\",\"positive\",\"negative\",\"positive\",\"negative\",\"negative\",\"positive\",\"negative\",\"negative\",\"negative\",\"positive\",\"negative\",\"positive\",\"negative\",\"positive\",\"positive\",\"neutral\",\"positive\",\"positive\",\"positive\",\"positive\",\"positive\",\"positive\",\"negative\",\"positive\",\"negative\",\"positive\",\"positive\",\"positive\",\"positive\",\"positive\",\"positive\",\"positive\",\"positive\",\"positive\",\"positive\",\"negative\",\"positive\",\"negative\",\"negative\",\"positive\",\"positive\",\"positive\",\"neutral\",\"positive\",\"neutral\",\"positive\",\"positive\",\"positive\",\"positive\",\"negative\",\"positive\",\"positive\",\"positive\",\"negative\",\"positive\",\"positive\",\"positive\",\"positive\",\"positive\",\"positive\",\"neutral\",\"neutral\",\"positive\",\"positive\",\"positive\",\"positive\",\"negative\",\"positive\",\"positive\",\"positive\",\"positive\",\"negative\",\"negative\",\"positive\",\"negative\",\"positive\",\"positive\",\"positive\",\"positive\",\"positive\",\"positive\",\"negative\",\"positive\",\"negative\",\"negative\",\"neutral\",\"positive\",\"negative\",\"negative\",\"positive\",\"positive\",\"positive\",\"positive\",\"negative\",\"positive\",\"positive\",\"negative\",\"negative\",\"positive\",\"positive\",\"positive\",\"positive\",\"neutral\",\"negative\",\"neutral\",\"neutral\",\"negative\",\"positive\",\"positive\",\"neutral\",\"negative\",\"negative\",\"negative\",\"positive\",\"positive\",\"negative\",\"negative\",\"neutral\",\"negative\",\"negative\",\"positive\",\"positive\",\"positive\",\"positive\",\"neutral\",\"positive\",\"negative\",\"positive\",\"neutral\",\"positive\",\"positive\",\"neutral\",\"positive\",\"positive\",\"negative\",\"positive\",\"positive\",\"positive\",\"negative\",\"positive\",\"positive\",\"positive\",\"positive\",\"positive\",\"positive\",\"neutral\",\"negative\",\"positive\",\"positive\",\"positive\",\"positive\",\"negative\",\"positive\",\"positive\",\"positive\",\"negative\",\"negative\",\"neutral\",\"positive\",\"positive\",\"negative\",\"negative\",\"positive\",\"positive\",\"positive\",\"positive\",\"positive\",\"negative\",\"neutral\",\"positive\",\"negative\",\"positive\",\"positive\",\"positive\",\"negative\",\"positive\",\"positive\",\"positive\",\"negative\",\"positive\",\"negative\",\"negative\",\"positive\",\"positive\",\"negative\",\"negative\",\"negative\",\"positive\",\"positive\",\"negative\",\"positive\",\"positive\",\"positive\",\"neutral\",\"negative\",\"negative\",\"negative\",\"positive\",\"negative\",\"negative\",\"positive\",\"positive\",\"positive\",\"positive\",\"positive\",\"positive\",\"neutral\",\"neutral\",\"neutral\",\"positive\",\"negative\",\"negative\",\"positive\",\"negative\",\"positive\",\"negative\",\"positive\",\"negative\",\"negative\",\"positive\",\"neutral\",\"positive\",\"negative\",\"negative\",\"positive\",\"negative\",\"negative\",\"negative\",\"positive\",\"negative\",\"neutral\",\"positive\",\"positive\",\"positive\",\"negative\",\"positive\",\"negative\",\"negative\",\"positive\",\"neutral\",\"positive\",\"negative\",\"positive\",\"positive\",\"positive\",\"neutral\",\"negative\",\"negative\",\"negative\",\"positive\",\"positive\",\"positive\",\"negative\",\"negative\",\"negative\",\"positive\",\"positive\",\"positive\",\"negative\",\"neutral\",\"negative\",\"positive\",\"positive\",\"positive\",\"positive\",\"positive\",\"positive\",\"negative\",\"positive\",\"positive\",\"positive\",\"positive\",\"positive\",\"negative\",\"negative\",\"negative\",\"positive\",\"negative\",\"negative\",\"neutral\",\"positive\",\"positive\",\"negative\",\"positive\",\"positive\",\"positive\",\"neutral\",\"negative\",\"neutral\",\"negative\",\"positive\",\"negative\",\"negative\",\"negative\",\"positive\",\"negative\",\"neutral\",\"positive\",\"negative\",\"positive\",\"negative\",\"positive\",\"neutral\",\"positive\",\"positive\",\"negative\",\"positive\",\"positive\",\"neutral\",\"positive\",\"neutral\",\"negative\",\"positive\",\"negative\",\"negative\",\"positive\",\"neutral\",\"negative\",\"neutral\",\"positive\",\"positive\",\"positive\",\"negative\",\"neutral\",\"negative\",\"positive\",\"negative\",\"positive\",\"neutral\",\"positive\",\"positive\",\"positive\",\"negative\",\"neutral\",\"neutral\",\"positive\",\"negative\",\"positive\",\"positive\",\"positive\",\"positive\",\"positive\",\"positive\",\"negative\",\"neutral\",\"negative\",\"negative\",\"positive\",\"negative\",\"negative\",\"negative\",\"neutral\",\"positive\",\"positive\",\"positive\",\"negative\",\"positive\",\"positive\",\"negative\",\"positive\",\"positive\",\"negative\",\"negative\",\"negative\",\"negative\",\"negative\",\"negative\",\"neutral\",\"positive\",\"positive\",\"negative\",\"negative\",\"positive\",\"positive\",\"positive\",\"positive\",\"positive\",\"positive\",\"negative\",\"positive\",\"negative\",\"positive\",\"positive\",\"negative\",\"neutral\",\"positive\",\"positive\",\"positive\",\"positive\",\"positive\",\"positive\",\"positive\",\"positive\",\"positive\",\"negative\",\"positive\",\"negative\",\"positive\",\"positive\",\"neutral\",\"positive\",\"positive\",\"negative\",\"positive\",\"positive\",\"negative\",\"positive\",\"neutral\",\"positive\",\"neutral\",\"negative\",\"positive\",\"negative\",\"negative\",\"positive\",\"positive\",\"positive\",\"positive\",\"positive\",\"neutral\",\"negative\",\"positive\",\"positive\",\"positive\",\"positive\",\"positive\",\"positive\",\"positive\",\"positive\",\"positive\",\"positive\",\"positive\",\"negative\",\"positive\",\"positive\",\"neutral\",\"positive\",\"negative\",\"neutral\",\"negative\",\"positive\",\"positive\",\"positive\",\"negative\",\"positive\",\"positive\",\"neutral\",\"positive\",\"negative\",\"positive\",\"negative\",\"positive\",\"neutral\",\"positive\",\"positive\",\"neutral\",\"positive\",\"neutral\",\"negative\",\"positive\",\"positive\",\"positive\",\"negative\",\"positive\",\"negative\",\"positive\",\"negative\",\"positive\",\"negative\",\"negative\",\"positive\",\"positive\",\"positive\",\"neutral\",\"negative\",\"negative\",\"positive\",\"positive\",\"negative\",\"positive\",\"negative\",\"negative\",\"positive\",\"positive\",\"negative\",\"positive\",\"positive\",\"negative\",\"positive\",\"positive\",\"negative\",\"positive\",\"positive\",\"positive\",\"negative\",\"neutral\",\"positive\",\"positive\",\"positive\",\"positive\",\"negative\",\"neutral\",\"negative\",\"negative\",\"negative\",\"negative\",\"negative\",\"positive\",\"negative\",\"positive\",\"negative\",\"negative\",\"positive\",\"negative\",\"positive\",\"positive\",\"negative\",\"negative\",\"positive\",\"positive\",\"positive\",\"neutral\",\"negative\",\"neutral\",\"positive\",\"positive\",\"neutral\",\"positive\",\"positive\",\"positive\",\"neutral\",\"positive\",\"positive\",\"negative\",\"negative\",\"positive\",\"positive\",\"positive\",\"positive\",\"negative\",\"positive\",\"neutral\",\"positive\",\"negative\",\"negative\",\"negative\",\"positive\",\"positive\",\"negative\",\"negative\",\"positive\",\"positive\",\"positive\",\"positive\",\"negative\",\"negative\",\"neutral\",\"positive\",\"positive\",\"positive\",\"positive\",\"positive\",\"positive\",\"positive\",\"neutral\",\"positive\",\"positive\",\"negative\",\"positive\",\"neutral\",\"positive\",\"negative\",\"positive\",\"positive\",\"negative\",\"negative\",\"positive\",\"negative\",\"negative\",\"positive\",\"negative\",\"neutral\",\"positive\",\"negative\",\"negative\",\"negative\",\"positive\",\"neutral\",\"positive\",\"negative\",\"positive\",\"neutral\",\"negative\",\"negative\",\"negative\",\"positive\",\"negative\",\"positive\",\"negative\",\"positive\",\"negative\",\"negative\",\"positive\",\"positive\",\"positive\",\"positive\",\"negative\",\"positive\",\"negative\",\"negative\",\"positive\",\"negative\",\"negative\",\"positive\",\"negative\",\"positive\",\"negative\",\"neutral\",\"negative\",\"negative\",\"positive\",\"positive\",\"positive\",\"positive\",\"positive\",\"positive\",\"positive\",\"negative\",\"positive\",\"negative\",\"positive\",\"positive\",\"positive\",\"positive\",\"negative\",\"neutral\",\"positive\",\"negative\",\"neutral\",\"positive\",\"positive\",\"positive\",\"negative\",\"positive\",\"negative\",\"positive\",\"positive\",\"positive\",\"negative\",\"positive\",\"negative\",\"positive\",\"neutral\",\"positive\",\"neutral\",\"positive\",\"neutral\",\"positive\",\"positive\",\"neutral\",\"negative\",\"negative\",\"positive\",\"negative\",\"positive\",\"positive\",\"negative\",\"positive\",\"negative\",\"positive\",\"negative\",\"positive\",\"neutral\",\"negative\",\"positive\",\"positive\",\"neutral\",\"positive\",\"negative\",\"positive\",\"positive\",\"positive\",\"negative\",\"positive\",\"positive\",\"negative\",\"neutral\",\"negative\",\"positive\",\"negative\",\"positive\",\"negative\",\"positive\",\"positive\",\"positive\",\"negative\",\"negative\",\"negative\",\"negative\",\"positive\",\"positive\",\"negative\",\"positive\",\"positive\",\"positive\",\"neutral\",\"negative\",\"negative\",\"negative\",\"negative\",\"negative\",\"neutral\",\"positive\",\"positive\",\"positive\",\"positive\",\"positive\",\"positive\",\"positive\",\"negative\",\"positive\",\"neutral\",\"positive\",\"positive\",\"negative\",\"positive\",\"positive\",\"negative\",\"negative\",\"neutral\",\"negative\",\"negative\",\"positive\",\"positive\",\"negative\",\"positive\",\"positive\",\"negative\",\"positive\",\"positive\",\"positive\",\"positive\",\"positive\",\"negative\",\"positive\",\"negative\",\"positive\",\"positive\",\"positive\",\"negative\",\"negative\",\"positive\",\"negative\",\"neutral\",\"positive\",\"positive\",\"positive\",\"neutral\",\"positive\",\"positive\",\"negative\",\"positive\",\"positive\",\"negative\",\"neutral\",\"positive\",\"positive\",\"positive\",\"positive\",\"neutral\",\"positive\",\"negative\",\"neutral\",\"positive\",\"positive\",\"negative\",\"neutral\",\"positive\",\"positive\",\"positive\",\"negative\",\"positive\",\"negative\",\"negative\",\"neutral\",\"negative\",\"negative\",\"negative\",\"negative\",\"negative\",\"positive\",\"negative\",\"positive\",\"positive\",\"positive\",\"positive\",\"positive\",\"positive\",\"positive\",\"negative\",\"neutral\",\"negative\",\"neutral\",\"negative\",\"positive\",\"positive\",\"positive\",\"negative\",\"positive\",\"positive\",\"positive\",\"negative\",\"positive\",\"neutral\",\"positive\",\"positive\",\"positive\",\"negative\",\"negative\",\"positive\",\"neutral\",\"positive\",\"negative\",\"positive\",\"positive\",\"positive\",\"positive\",\"negative\",\"positive\",\"negative\",\"positive\",\"negative\",\"positive\",\"positive\",\"positive\",\"negative\",\"negative\",\"positive\",\"positive\",\"negative\",\"negative\",\"positive\",\"positive\",\"positive\",\"positive\",\"neutral\",\"positive\",\"negative\",\"positive\",\"negative\",\"negative\",\"positive\",\"negative\",\"positive\",\"negative\",\"negative\",\"positive\",\"positive\",\"positive\",\"positive\",\"positive\",\"positive\",\"positive\",\"positive\",\"positive\",\"negative\",\"positive\",\"negative\",\"positive\",\"positive\",\"positive\",\"positive\",\"positive\",\"negative\",\"positive\",\"positive\",\"positive\",\"positive\",\"neutral\",\"positive\",\"positive\",\"positive\",\"negative\",\"negative\",\"neutral\",\"positive\",\"negative\",\"negative\",\"positive\",\"positive\",\"positive\",\"positive\",\"negative\",\"positive\",\"positive\",\"negative\",\"negative\",\"positive\",\"positive\",\"negative\",\"negative\",\"negative\",\"negative\",\"positive\",\"negative\",\"neutral\",\"negative\",\"positive\",\"negative\",\"positive\",\"positive\",\"neutral\",\"positive\",\"positive\",\"negative\",\"negative\",\"positive\",\"negative\",\"negative\",\"negative\",\"negative\",\"positive\",\"positive\",\"positive\",\"negative\",\"positive\",\"negative\",\"neutral\",\"positive\",\"positive\",\"negative\",\"positive\",\"positive\",\"positive\",\"negative\",\"negative\",\"negative\",\"negative\",\"negative\",\"negative\",\"neutral\",\"neutral\",\"positive\",\"negative\",\"positive\",\"positive\",\"negative\",\"positive\",\"positive\",\"neutral\",\"negative\",\"negative\",\"positive\",\"positive\",\"positive\",\"negative\",\"positive\",\"positive\",\"positive\",\"positive\",\"neutral\",\"positive\",\"positive\",\"positive\",\"positive\",\"positive\",\"positive\",\"neutral\",\"positive\",\"negative\",\"negative\",\"negative\",\"positive\",\"positive\",\"positive\",\"positive\",\"positive\",\"positive\",\"positive\",\"negative\",\"positive\",\"neutral\",\"positive\",\"positive\",\"positive\",\"negative\",\"neutral\",\"positive\",\"positive\",\"negative\",\"positive\",\"positive\",\"negative\",\"positive\",\"negative\",\"positive\",\"positive\",\"positive\",\"neutral\",\"positive\",\"positive\",\"positive\",\"neutral\",\"positive\",\"negative\",\"positive\",\"positive\",\"positive\",\"positive\",\"positive\",\"positive\",\"positive\",\"positive\",\"negative\",\"negative\",\"positive\",\"positive\",\"negative\",\"negative\",\"neutral\",\"negative\",\"negative\",\"positive\",\"negative\",\"positive\",\"positive\",\"negative\",\"negative\",\"positive\",\"positive\",\"positive\",\"neutral\",\"positive\",\"negative\",\"negative\",\"positive\",\"positive\",\"negative\",\"positive\",\"positive\",\"negative\",\"positive\",\"positive\",\"negative\",\"positive\",\"positive\",\"neutral\",\"negative\",\"positive\",\"positive\",\"positive\",\"negative\",\"positive\",\"negative\",\"positive\",\"positive\",\"negative\",\"positive\",\"neutral\",\"positive\",\"negative\",\"negative\",\"negative\",\"positive\",\"negative\",\"positive\",\"positive\",\"negative\",\"positive\",\"positive\",\"negative\",\"negative\",\"positive\",\"positive\",\"negative\",\"positive\",\"positive\",\"positive\",\"positive\",\"positive\",\"negative\",\"negative\",\"negative\",\"positive\",\"positive\",\"neutral\",\"positive\",\"positive\",\"positive\",\"positive\",\"negative\",\"negative\",\"positive\",\"positive\",\"positive\",\"positive\",\"positive\",\"positive\",\"positive\",\"negative\",\"positive\",\"positive\",\"positive\",\"positive\",\"positive\",\"positive\",\"positive\",\"negative\",\"positive\",\"neutral\",\"negative\",\"positive\",\"positive\",\"negative\",\"positive\",\"positive\",\"positive\",\"positive\",\"neutral\",\"positive\",\"positive\",\"negative\",\"neutral\",\"positive\",\"negative\",\"positive\",\"positive\",\"negative\",\"negative\",\"negative\",\"positive\",\"neutral\",\"positive\",\"positive\",\"positive\",\"positive\",\"positive\",\"negative\",\"negative\",\"negative\",\"negative\",\"negative\",\"positive\",\"negative\",\"neutral\",\"positive\",\"negative\",\"positive\",\"negative\",\"negative\",\"positive\",\"positive\",\"positive\",\"positive\",\"positive\",\"positive\",\"positive\",\"positive\",\"positive\",\"negative\",\"neutral\",\"neutral\",\"neutral\",\"negative\",\"positive\",\"positive\",\"negative\",\"neutral\",\"positive\",\"positive\",\"neutral\",\"positive\",\"positive\",\"positive\",\"positive\",\"positive\",\"positive\",\"negative\",\"positive\",\"positive\",\"negative\",\"positive\",\"positive\",\"negative\",\"positive\",\"positive\",\"negative\",\"positive\",\"negative\",\"positive\",\"positive\",\"positive\",\"neutral\",\"negative\",\"negative\",\"negative\",\"negative\",\"neutral\",\"negative\",\"positive\",\"positive\",\"positive\",\"positive\",\"negative\",\"negative\",\"positive\",\"negative\",\"negative\",\"positive\",\"neutral\",\"positive\",\"negative\",\"positive\",\"positive\",\"positive\",\"positive\",\"negative\",\"neutral\",\"positive\",\"positive\",\"neutral\",\"negative\",\"negative\",\"positive\",\"positive\",\"positive\",\"positive\",\"negative\",\"neutral\",\"positive\",\"positive\",\"positive\",\"positive\",\"negative\",\"negative\",\"positive\",\"positive\",\"negative\",\"positive\",\"positive\",\"negative\",\"positive\",\"negative\",\"positive\",\"positive\",\"positive\",\"positive\",\"positive\",\"positive\",\"positive\",\"positive\",\"positive\",\"negative\",\"negative\",\"positive\",\"negative\",\"positive\",\"positive\",\"positive\",\"positive\",\"negative\",\"positive\",\"negative\",\"positive\",\"positive\",\"positive\",\"positive\",\"negative\",\"negative\",\"positive\",\"neutral\",\"positive\",\"positive\",\"negative\",\"positive\",\"positive\",\"neutral\",\"negative\",\"positive\",\"neutral\",\"positive\",\"negative\",\"positive\",\"negative\",\"positive\",\"neutral\",\"positive\",\"neutral\",\"positive\",\"positive\",\"positive\",\"neutral\",\"negative\",\"positive\",\"neutral\",\"negative\",\"positive\",\"negative\",\"positive\",\"negative\",\"negative\",\"negative\",\"negative\",\"negative\",\"positive\",\"positive\",\"positive\",\"positive\",\"negative\",\"negative\",\"positive\",\"negative\",\"positive\",\"negative\",\"positive\",\"positive\",\"negative\",\"negative\",\"neutral\",\"negative\",\"positive\",\"positive\",\"positive\",\"neutral\",\"positive\",\"neutral\",\"negative\",\"positive\",\"positive\",\"positive\",\"positive\",\"negative\",\"positive\",\"positive\",\"positive\",\"negative\",\"positive\",\"positive\",\"negative\",\"positive\",\"negative\",\"negative\",\"positive\",\"negative\",\"positive\",\"positive\",\"negative\",\"negative\",\"positive\",\"positive\",\"neutral\",\"negative\",\"positive\",\"neutral\",\"negative\",\"negative\",\"negative\",\"positive\",\"positive\",\"positive\",\"positive\",\"neutral\",\"positive\",\"positive\",\"positive\",\"negative\",\"positive\",\"negative\",\"negative\",\"positive\",\"neutral\",\"positive\",\"positive\",\"negative\",\"negative\",\"negative\",\"neutral\",\"positive\",\"positive\",\"negative\",\"positive\",\"positive\",\"positive\",\"negative\",\"neutral\",\"neutral\",\"negative\",\"positive\",\"positive\",\"positive\",\"negative\",\"positive\",\"positive\",\"negative\",\"negative\",\"neutral\",\"neutral\",\"positive\",\"neutral\",\"positive\",\"neutral\",\"negative\",\"negative\",\"negative\",\"positive\",\"positive\",\"positive\",\"positive\",\"positive\",\"positive\",\"negative\",\"negative\",\"positive\",\"negative\",\"positive\",\"negative\",\"positive\",\"positive\",\"positive\",\"positive\",\"positive\",\"positive\",\"positive\",\"negative\",\"positive\",\"positive\",\"negative\",\"negative\",\"positive\",\"positive\",\"positive\",\"positive\",\"neutral\",\"positive\",\"positive\",\"negative\",\"negative\",\"positive\",\"positive\",\"neutral\",\"positive\",\"positive\",\"positive\",\"negative\",\"positive\",\"negative\",\"positive\",\"negative\",\"negative\",\"positive\",\"positive\",\"positive\",\"positive\",\"positive\",\"negative\",\"negative\",\"positive\",\"negative\",\"negative\",\"positive\",\"neutral\",\"positive\",\"negative\",\"positive\",\"negative\",\"positive\",\"positive\",\"positive\",\"positive\",\"negative\",\"negative\",\"negative\",\"negative\",\"negative\",\"positive\",\"neutral\",\"negative\",\"positive\",\"negative\",\"negative\",\"positive\",\"negative\",\"positive\",\"negative\",\"positive\",\"negative\",\"neutral\",\"positive\",\"positive\",\"positive\",\"negative\",\"positive\",\"neutral\",\"positive\",\"positive\",\"positive\",\"negative\",\"positive\",\"negative\",\"positive\",\"positive\",\"negative\",\"positive\",\"positive\",\"positive\",\"negative\",\"negative\",\"positive\",\"positive\",\"positive\",\"positive\",\"positive\",\"negative\",\"negative\",\"positive\",\"negative\",\"negative\",\"positive\",\"negative\",\"positive\",\"neutral\",\"neutral\",\"positive\",\"neutral\",\"positive\",\"neutral\",\"neutral\",\"positive\",\"positive\",\"positive\",\"positive\",\"neutral\",\"positive\",\"positive\",\"negative\",\"positive\",\"positive\",\"negative\",\"positive\",\"positive\",\"positive\",\"negative\",\"negative\",\"negative\",\"positive\",\"positive\",\"negative\",\"positive\",\"positive\",\"positive\",\"positive\",\"positive\",\"positive\",\"positive\",\"negative\",\"neutral\",\"positive\",\"positive\",\"negative\",\"negative\",\"positive\",\"positive\",\"neutral\",\"positive\",\"positive\",\"positive\",\"neutral\",\"positive\",\"negative\",\"neutral\",\"positive\",\"positive\",\"positive\",\"positive\",\"negative\",\"negative\",\"positive\",\"negative\",\"positive\",\"positive\",\"positive\",\"positive\",\"negative\",\"positive\",\"positive\",\"positive\",\"negative\",\"neutral\",\"positive\",\"positive\",\"positive\",\"positive\",\"positive\",\"positive\",\"negative\",\"positive\",\"positive\",\"positive\",\"negative\",\"negative\",\"positive\",\"positive\",\"positive\",\"positive\",\"positive\",\"neutral\",\"negative\",\"positive\",\"positive\",\"neutral\",\"negative\",\"neutral\",\"negative\",\"positive\",\"negative\",\"negative\",\"positive\",\"positive\",\"positive\",\"positive\",\"positive\",\"positive\",\"positive\",\"positive\",\"negative\",\"neutral\",\"positive\",\"positive\",\"positive\",\"positive\",\"neutral\",\"negative\",\"neutral\",\"positive\",\"positive\",\"neutral\",\"positive\",\"positive\",\"negative\",\"positive\",\"positive\",\"positive\",\"neutral\",\"positive\",\"positive\",\"positive\",\"positive\",\"negative\",\"positive\",\"positive\",\"positive\",\"negative\",\"positive\",\"positive\",\"positive\",\"positive\",\"positive\",\"positive\",\"negative\",\"positive\",\"positive\",\"negative\",\"neutral\",\"neutral\",\"positive\",\"negative\",\"positive\",\"negative\",\"negative\",\"positive\",\"neutral\",\"negative\",\"negative\",\"neutral\",\"positive\",\"positive\",\"positive\",\"positive\",\"negative\",\"negative\",\"positive\",\"negative\",\"neutral\",\"negative\",\"negative\",\"positive\",\"positive\",\"positive\",\"positive\",\"negative\",\"positive\",\"negative\",\"positive\",\"neutral\",\"positive\",\"positive\",\"positive\",\"neutral\",\"positive\",\"positive\",\"positive\",\"positive\",\"negative\",\"negative\",\"neutral\",\"negative\",\"positive\",\"positive\",\"positive\",\"negative\",\"positive\",\"neutral\",\"positive\",\"positive\",\"negative\",\"positive\",\"positive\",\"positive\",\"positive\",\"neutral\",\"negative\",\"positive\",\"negative\",\"negative\",\"negative\",\"negative\",\"positive\",\"negative\",\"positive\",\"negative\",\"negative\",\"positive\",\"positive\",\"positive\",\"negative\",\"neutral\",\"positive\",\"positive\",\"negative\",\"negative\",\"positive\",\"negative\",\"positive\",\"positive\",\"positive\",\"positive\",\"negative\",\"positive\",\"negative\",\"positive\",\"neutral\",\"positive\",\"positive\",\"negative\",\"positive\",\"positive\",\"negative\",\"positive\",\"positive\",\"positive\",\"positive\",\"positive\",\"positive\",\"positive\",\"positive\",\"negative\",\"positive\",\"positive\",\"negative\",\"negative\",\"positive\",\"positive\",\"positive\",\"neutral\",\"negative\",\"positive\",\"neutral\",\"positive\",\"positive\",\"positive\",\"positive\",\"negative\",\"positive\",\"positive\",\"positive\",\"positive\",\"negative\",\"negative\",\"positive\",\"negative\",\"positive\",\"positive\",\"positive\",\"positive\",\"positive\",\"positive\",\"positive\",\"positive\",\"negative\",\"negative\",\"negative\",\"negative\",\"positive\",\"negative\",\"positive\",\"positive\",\"positive\",\"negative\",\"negative\",\"neutral\",\"negative\",\"neutral\",\"positive\",\"positive\",\"negative\",\"positive\",\"positive\",\"positive\",\"negative\",\"neutral\",\"positive\",\"negative\",\"positive\",\"positive\",\"positive\",\"positive\",\"positive\",\"positive\",\"negative\",\"negative\",\"positive\",\"positive\",\"negative\",\"negative\",\"positive\",\"negative\",\"positive\",\"negative\",\"positive\",\"positive\",\"negative\",\"positive\",\"positive\",\"positive\",\"positive\",\"negative\",\"negative\",\"positive\",\"negative\",\"positive\",\"neutral\",\"negative\",\"positive\",\"negative\",\"positive\",\"positive\",\"negative\",\"positive\",\"neutral\",\"neutral\",\"positive\",\"negative\",\"positive\",\"positive\",\"positive\",\"positive\",\"negative\",\"negative\",\"positive\",\"positive\",\"neutral\",\"neutral\",\"neutral\",\"negative\",\"positive\",\"positive\",\"positive\",\"positive\",\"negative\",\"positive\",\"negative\",\"negative\",\"positive\",\"positive\",\"negative\",\"negative\",\"positive\",\"negative\",\"positive\",\"positive\",\"positive\",\"negative\",\"positive\",\"negative\",\"negative\",\"positive\",\"positive\",\"positive\",\"positive\",\"negative\",\"negative\",\"positive\",\"positive\",\"negative\",\"positive\",\"positive\",\"positive\",\"positive\",\"negative\",\"negative\",\"positive\",\"negative\",\"positive\",\"positive\",\"negative\",\"positive\",\"positive\",\"negative\",\"positive\",\"neutral\",\"negative\",\"positive\",\"positive\",\"positive\",\"positive\",\"negative\",\"positive\",\"neutral\",\"positive\",\"positive\",\"positive\",\"neutral\",\"positive\",\"positive\",\"positive\",\"positive\",\"positive\",\"negative\",\"positive\",\"negative\",\"positive\",\"positive\",\"neutral\",\"positive\",\"neutral\",\"positive\",\"positive\",\"positive\",\"positive\",\"positive\",\"positive\",\"positive\",\"positive\",\"positive\",\"positive\",\"positive\",\"positive\",\"positive\",\"positive\",\"positive\",\"positive\",\"negative\",\"negative\",\"positive\",\"positive\",\"negative\",\"positive\",\"negative\",\"negative\",\"negative\",\"positive\",\"negative\",\"positive\",\"positive\",\"negative\",\"negative\",\"positive\",\"positive\",\"negative\",\"positive\",\"positive\",\"negative\",\"negative\",\"negative\",\"negative\",\"negative\",\"positive\",\"negative\",\"positive\",\"positive\",\"positive\",\"positive\",\"negative\",\"positive\",\"positive\",\"positive\",\"negative\",\"positive\",\"positive\",\"negative\",\"negative\",\"positive\",\"positive\",\"positive\",\"positive\",\"positive\",\"positive\",\"positive\",\"positive\",\"negative\",\"positive\",\"neutral\",\"negative\",\"positive\",\"negative\",\"positive\",\"positive\",\"negative\",\"negative\",\"negative\",\"positive\",\"positive\",\"negative\",\"negative\",\"positive\",\"positive\",\"positive\",\"positive\",\"neutral\",\"positive\",\"negative\",\"negative\",\"positive\",\"positive\",\"positive\",\"positive\",\"positive\",\"positive\",\"neutral\",\"negative\",\"negative\",\"positive\",\"negative\",\"positive\",\"positive\",\"positive\",\"negative\",\"neutral\",\"negative\",\"negative\",\"positive\",\"positive\",\"positive\",\"negative\",\"negative\",\"negative\",\"negative\",\"negative\",\"positive\",\"positive\",\"positive\",\"negative\",\"positive\",\"positive\",\"negative\",\"negative\",\"positive\",\"negative\",\"positive\",\"positive\",\"positive\",\"positive\",\"positive\",\"negative\",\"positive\",\"positive\",\"positive\",\"positive\",\"neutral\",\"negative\",\"negative\",\"neutral\",\"negative\",\"neutral\",\"positive\",\"negative\",\"positive\",\"positive\",\"negative\",\"positive\",\"negative\",\"positive\",\"positive\",\"negative\",\"positive\",\"negative\",\"positive\",\"positive\",\"positive\",\"neutral\",\"negative\",\"positive\",\"positive\",\"negative\",\"positive\",\"negative\",\"negative\",\"negative\",\"positive\",\"positive\",\"positive\",\"positive\",\"positive\",\"positive\",\"negative\",\"neutral\",\"positive\",\"negative\",\"positive\",\"negative\",\"positive\",\"positive\",\"positive\",\"neutral\",\"neutral\",\"positive\",\"neutral\",\"positive\",\"positive\",\"negative\",\"positive\",\"negative\",\"positive\",\"positive\",\"negative\",\"positive\",\"positive\",\"positive\",\"positive\",\"positive\",\"negative\",\"negative\",\"negative\",\"negative\",\"positive\",\"positive\",\"negative\",\"positive\",\"positive\",\"negative\",\"negative\",\"positive\",\"positive\",\"negative\",\"positive\",\"negative\",\"neutral\",\"positive\",\"positive\",\"positive\",\"negative\",\"positive\",\"positive\",\"neutral\",\"positive\",\"positive\",\"neutral\",\"positive\",\"neutral\",\"positive\",\"negative\",\"positive\",\"positive\",\"negative\",\"positive\",\"positive\",\"negative\",\"positive\",\"negative\",\"negative\",\"positive\",\"negative\",\"negative\",\"positive\",\"negative\",\"positive\",\"positive\",\"positive\",\"negative\",\"negative\",\"neutral\",\"negative\",\"positive\",\"negative\",\"negative\",\"positive\",\"positive\",\"positive\",\"positive\",\"positive\",\"positive\",\"positive\",\"positive\",\"neutral\",\"neutral\",\"positive\",\"positive\",\"positive\",\"positive\",\"positive\",\"positive\",\"positive\",\"negative\",\"positive\",\"neutral\",\"positive\",\"positive\",\"negative\",\"negative\",\"negative\",\"negative\",\"negative\",\"neutral\",\"negative\",\"positive\",\"negative\",\"positive\",\"negative\",\"positive\",\"negative\",\"positive\",\"positive\",\"negative\",\"negative\",\"positive\",\"negative\",\"positive\",\"negative\",\"positive\",\"positive\",\"negative\",\"positive\",\"positive\",\"negative\",\"positive\",\"positive\",\"positive\",\"negative\",\"positive\",\"negative\",\"positive\",\"positive\",\"positive\",\"positive\",\"neutral\",\"neutral\",\"negative\",\"positive\",\"negative\",\"positive\",\"positive\",\"positive\",\"negative\",\"negative\",\"negative\",\"negative\",\"positive\",\"negative\",\"positive\",\"positive\",\"negative\",\"positive\",\"positive\",\"positive\",\"neutral\",\"positive\",\"negative\",\"positive\",\"negative\",\"negative\",\"negative\",\"positive\",\"positive\",\"neutral\",\"positive\",\"negative\",\"negative\",\"neutral\",\"negative\",\"positive\",\"positive\",\"neutral\",\"positive\",\"positive\",\"positive\",\"positive\",\"positive\",\"negative\",\"positive\",\"positive\",\"positive\",\"neutral\",\"negative\",\"negative\",\"positive\",\"positive\",\"positive\",\"positive\",\"positive\",\"negative\",\"positive\",\"positive\",\"positive\",\"positive\",\"positive\",\"negative\",\"positive\",\"negative\",\"positive\",\"neutral\",\"neutral\",\"negative\",\"positive\",\"positive\",\"negative\",\"negative\",\"negative\",\"negative\",\"positive\",\"positive\",\"positive\",\"positive\",\"negative\",\"negative\",\"positive\",\"positive\",\"positive\",\"positive\",\"positive\",\"positive\",\"neutral\",\"positive\",\"negative\",\"negative\",\"positive\",\"positive\",\"positive\",\"positive\",\"neutral\",\"negative\",\"positive\",\"negative\",\"positive\",\"negative\",\"neutral\",\"negative\",\"negative\",\"positive\",\"positive\",\"negative\",\"positive\",\"neutral\",\"negative\",\"positive\",\"negative\",\"positive\",\"neutral\",\"neutral\",\"negative\",\"positive\",\"negative\",\"negative\",\"positive\",\"negative\",\"negative\",\"positive\",\"neutral\",\"positive\",\"neutral\",\"positive\",\"negative\",\"positive\",\"negative\",\"negative\",\"negative\",\"positive\",\"positive\",\"positive\",\"negative\",\"positive\",\"negative\",\"positive\",\"positive\",\"neutral\",\"positive\",\"positive\",\"negative\",\"negative\",\"negative\",\"positive\",\"negative\",\"negative\",\"negative\",\"positive\",\"positive\",\"positive\",\"positive\",\"negative\",\"positive\",\"positive\",\"positive\",\"positive\",\"positive\",\"negative\",\"positive\",\"negative\",\"negative\",\"positive\",\"positive\",\"positive\",\"negative\",\"positive\",\"positive\",\"positive\",\"positive\",\"positive\",\"positive\",\"positive\",\"positive\",\"positive\",\"negative\",\"positive\",\"positive\",\"positive\",\"negative\",\"negative\",\"positive\",\"neutral\",\"positive\",\"negative\",\"positive\",\"positive\",\"positive\",\"negative\",\"positive\",\"positive\",\"negative\",\"negative\",\"positive\",\"positive\",\"positive\",\"negative\",\"positive\",\"negative\",\"negative\",\"positive\",\"positive\",\"positive\",\"negative\",\"positive\",\"positive\",\"negative\",\"negative\",\"negative\",\"negative\",\"positive\",\"negative\",\"negative\",\"positive\",\"positive\",\"positive\",\"negative\",\"positive\",\"negative\",\"negative\",\"positive\",\"positive\",\"negative\",\"negative\",\"neutral\",\"positive\",\"neutral\",\"positive\",\"negative\",\"positive\",\"positive\",\"positive\",\"positive\",\"positive\",\"negative\",\"negative\",\"positive\",\"positive\",\"positive\",\"negative\",\"positive\",\"positive\",\"negative\",\"positive\",\"positive\",\"positive\",\"negative\",\"positive\",\"negative\",\"positive\",\"neutral\",\"positive\",\"positive\",\"positive\",\"neutral\",\"negative\",\"positive\"],\"legendgroup\":\"\",\"name\":\"\",\"showlegend\":true,\"type\":\"pie\"}],                        {\"template\":{\"data\":{\"bar\":[{\"error_x\":{\"color\":\"#2a3f5f\"},\"error_y\":{\"color\":\"#2a3f5f\"},\"marker\":{\"line\":{\"color\":\"#E5ECF6\",\"width\":0.5},\"pattern\":{\"fillmode\":\"overlay\",\"size\":10,\"solidity\":0.2}},\"type\":\"bar\"}],\"barpolar\":[{\"marker\":{\"line\":{\"color\":\"#E5ECF6\",\"width\":0.5},\"pattern\":{\"fillmode\":\"overlay\",\"size\":10,\"solidity\":0.2}},\"type\":\"barpolar\"}],\"carpet\":[{\"aaxis\":{\"endlinecolor\":\"#2a3f5f\",\"gridcolor\":\"white\",\"linecolor\":\"white\",\"minorgridcolor\":\"white\",\"startlinecolor\":\"#2a3f5f\"},\"baxis\":{\"endlinecolor\":\"#2a3f5f\",\"gridcolor\":\"white\",\"linecolor\":\"white\",\"minorgridcolor\":\"white\",\"startlinecolor\":\"#2a3f5f\"},\"type\":\"carpet\"}],\"choropleth\":[{\"colorbar\":{\"outlinewidth\":0,\"ticks\":\"\"},\"type\":\"choropleth\"}],\"contour\":[{\"colorbar\":{\"outlinewidth\":0,\"ticks\":\"\"},\"colorscale\":[[0.0,\"#0d0887\"],[0.1111111111111111,\"#46039f\"],[0.2222222222222222,\"#7201a8\"],[0.3333333333333333,\"#9c179e\"],[0.4444444444444444,\"#bd3786\"],[0.5555555555555556,\"#d8576b\"],[0.6666666666666666,\"#ed7953\"],[0.7777777777777778,\"#fb9f3a\"],[0.8888888888888888,\"#fdca26\"],[1.0,\"#f0f921\"]],\"type\":\"contour\"}],\"contourcarpet\":[{\"colorbar\":{\"outlinewidth\":0,\"ticks\":\"\"},\"type\":\"contourcarpet\"}],\"heatmap\":[{\"colorbar\":{\"outlinewidth\":0,\"ticks\":\"\"},\"colorscale\":[[0.0,\"#0d0887\"],[0.1111111111111111,\"#46039f\"],[0.2222222222222222,\"#7201a8\"],[0.3333333333333333,\"#9c179e\"],[0.4444444444444444,\"#bd3786\"],[0.5555555555555556,\"#d8576b\"],[0.6666666666666666,\"#ed7953\"],[0.7777777777777778,\"#fb9f3a\"],[0.8888888888888888,\"#fdca26\"],[1.0,\"#f0f921\"]],\"type\":\"heatmap\"}],\"heatmapgl\":[{\"colorbar\":{\"outlinewidth\":0,\"ticks\":\"\"},\"colorscale\":[[0.0,\"#0d0887\"],[0.1111111111111111,\"#46039f\"],[0.2222222222222222,\"#7201a8\"],[0.3333333333333333,\"#9c179e\"],[0.4444444444444444,\"#bd3786\"],[0.5555555555555556,\"#d8576b\"],[0.6666666666666666,\"#ed7953\"],[0.7777777777777778,\"#fb9f3a\"],[0.8888888888888888,\"#fdca26\"],[1.0,\"#f0f921\"]],\"type\":\"heatmapgl\"}],\"histogram\":[{\"marker\":{\"pattern\":{\"fillmode\":\"overlay\",\"size\":10,\"solidity\":0.2}},\"type\":\"histogram\"}],\"histogram2d\":[{\"colorbar\":{\"outlinewidth\":0,\"ticks\":\"\"},\"colorscale\":[[0.0,\"#0d0887\"],[0.1111111111111111,\"#46039f\"],[0.2222222222222222,\"#7201a8\"],[0.3333333333333333,\"#9c179e\"],[0.4444444444444444,\"#bd3786\"],[0.5555555555555556,\"#d8576b\"],[0.6666666666666666,\"#ed7953\"],[0.7777777777777778,\"#fb9f3a\"],[0.8888888888888888,\"#fdca26\"],[1.0,\"#f0f921\"]],\"type\":\"histogram2d\"}],\"histogram2dcontour\":[{\"colorbar\":{\"outlinewidth\":0,\"ticks\":\"\"},\"colorscale\":[[0.0,\"#0d0887\"],[0.1111111111111111,\"#46039f\"],[0.2222222222222222,\"#7201a8\"],[0.3333333333333333,\"#9c179e\"],[0.4444444444444444,\"#bd3786\"],[0.5555555555555556,\"#d8576b\"],[0.6666666666666666,\"#ed7953\"],[0.7777777777777778,\"#fb9f3a\"],[0.8888888888888888,\"#fdca26\"],[1.0,\"#f0f921\"]],\"type\":\"histogram2dcontour\"}],\"mesh3d\":[{\"colorbar\":{\"outlinewidth\":0,\"ticks\":\"\"},\"type\":\"mesh3d\"}],\"parcoords\":[{\"line\":{\"colorbar\":{\"outlinewidth\":0,\"ticks\":\"\"}},\"type\":\"parcoords\"}],\"pie\":[{\"automargin\":true,\"type\":\"pie\"}],\"scatter\":[{\"marker\":{\"colorbar\":{\"outlinewidth\":0,\"ticks\":\"\"}},\"type\":\"scatter\"}],\"scatter3d\":[{\"line\":{\"colorbar\":{\"outlinewidth\":0,\"ticks\":\"\"}},\"marker\":{\"colorbar\":{\"outlinewidth\":0,\"ticks\":\"\"}},\"type\":\"scatter3d\"}],\"scattercarpet\":[{\"marker\":{\"colorbar\":{\"outlinewidth\":0,\"ticks\":\"\"}},\"type\":\"scattercarpet\"}],\"scattergeo\":[{\"marker\":{\"colorbar\":{\"outlinewidth\":0,\"ticks\":\"\"}},\"type\":\"scattergeo\"}],\"scattergl\":[{\"marker\":{\"colorbar\":{\"outlinewidth\":0,\"ticks\":\"\"}},\"type\":\"scattergl\"}],\"scattermapbox\":[{\"marker\":{\"colorbar\":{\"outlinewidth\":0,\"ticks\":\"\"}},\"type\":\"scattermapbox\"}],\"scatterpolar\":[{\"marker\":{\"colorbar\":{\"outlinewidth\":0,\"ticks\":\"\"}},\"type\":\"scatterpolar\"}],\"scatterpolargl\":[{\"marker\":{\"colorbar\":{\"outlinewidth\":0,\"ticks\":\"\"}},\"type\":\"scatterpolargl\"}],\"scatterternary\":[{\"marker\":{\"colorbar\":{\"outlinewidth\":0,\"ticks\":\"\"}},\"type\":\"scatterternary\"}],\"surface\":[{\"colorbar\":{\"outlinewidth\":0,\"ticks\":\"\"},\"colorscale\":[[0.0,\"#0d0887\"],[0.1111111111111111,\"#46039f\"],[0.2222222222222222,\"#7201a8\"],[0.3333333333333333,\"#9c179e\"],[0.4444444444444444,\"#bd3786\"],[0.5555555555555556,\"#d8576b\"],[0.6666666666666666,\"#ed7953\"],[0.7777777777777778,\"#fb9f3a\"],[0.8888888888888888,\"#fdca26\"],[1.0,\"#f0f921\"]],\"type\":\"surface\"}],\"table\":[{\"cells\":{\"fill\":{\"color\":\"#EBF0F8\"},\"line\":{\"color\":\"white\"}},\"header\":{\"fill\":{\"color\":\"#C8D4E3\"},\"line\":{\"color\":\"white\"}},\"type\":\"table\"}]},\"layout\":{\"annotationdefaults\":{\"arrowcolor\":\"#2a3f5f\",\"arrowhead\":0,\"arrowwidth\":1},\"autotypenumbers\":\"strict\",\"coloraxis\":{\"colorbar\":{\"outlinewidth\":0,\"ticks\":\"\"}},\"colorscale\":{\"diverging\":[[0,\"#8e0152\"],[0.1,\"#c51b7d\"],[0.2,\"#de77ae\"],[0.3,\"#f1b6da\"],[0.4,\"#fde0ef\"],[0.5,\"#f7f7f7\"],[0.6,\"#e6f5d0\"],[0.7,\"#b8e186\"],[0.8,\"#7fbc41\"],[0.9,\"#4d9221\"],[1,\"#276419\"]],\"sequential\":[[0.0,\"#0d0887\"],[0.1111111111111111,\"#46039f\"],[0.2222222222222222,\"#7201a8\"],[0.3333333333333333,\"#9c179e\"],[0.4444444444444444,\"#bd3786\"],[0.5555555555555556,\"#d8576b\"],[0.6666666666666666,\"#ed7953\"],[0.7777777777777778,\"#fb9f3a\"],[0.8888888888888888,\"#fdca26\"],[1.0,\"#f0f921\"]],\"sequentialminus\":[[0.0,\"#0d0887\"],[0.1111111111111111,\"#46039f\"],[0.2222222222222222,\"#7201a8\"],[0.3333333333333333,\"#9c179e\"],[0.4444444444444444,\"#bd3786\"],[0.5555555555555556,\"#d8576b\"],[0.6666666666666666,\"#ed7953\"],[0.7777777777777778,\"#fb9f3a\"],[0.8888888888888888,\"#fdca26\"],[1.0,\"#f0f921\"]]},\"colorway\":[\"#636efa\",\"#EF553B\",\"#00cc96\",\"#ab63fa\",\"#FFA15A\",\"#19d3f3\",\"#FF6692\",\"#B6E880\",\"#FF97FF\",\"#FECB52\"],\"font\":{\"color\":\"#2a3f5f\"},\"geo\":{\"bgcolor\":\"white\",\"lakecolor\":\"white\",\"landcolor\":\"#E5ECF6\",\"showlakes\":true,\"showland\":true,\"subunitcolor\":\"white\"},\"hoverlabel\":{\"align\":\"left\"},\"hovermode\":\"closest\",\"mapbox\":{\"style\":\"light\"},\"paper_bgcolor\":\"white\",\"plot_bgcolor\":\"#E5ECF6\",\"polar\":{\"angularaxis\":{\"gridcolor\":\"white\",\"linecolor\":\"white\",\"ticks\":\"\"},\"bgcolor\":\"#E5ECF6\",\"radialaxis\":{\"gridcolor\":\"white\",\"linecolor\":\"white\",\"ticks\":\"\"}},\"scene\":{\"xaxis\":{\"backgroundcolor\":\"#E5ECF6\",\"gridcolor\":\"white\",\"gridwidth\":2,\"linecolor\":\"white\",\"showbackground\":true,\"ticks\":\"\",\"zerolinecolor\":\"white\"},\"yaxis\":{\"backgroundcolor\":\"#E5ECF6\",\"gridcolor\":\"white\",\"gridwidth\":2,\"linecolor\":\"white\",\"showbackground\":true,\"ticks\":\"\",\"zerolinecolor\":\"white\"},\"zaxis\":{\"backgroundcolor\":\"#E5ECF6\",\"gridcolor\":\"white\",\"gridwidth\":2,\"linecolor\":\"white\",\"showbackground\":true,\"ticks\":\"\",\"zerolinecolor\":\"white\"}},\"shapedefaults\":{\"line\":{\"color\":\"#2a3f5f\"}},\"ternary\":{\"aaxis\":{\"gridcolor\":\"white\",\"linecolor\":\"white\",\"ticks\":\"\"},\"baxis\":{\"gridcolor\":\"white\",\"linecolor\":\"white\",\"ticks\":\"\"},\"bgcolor\":\"#E5ECF6\",\"caxis\":{\"gridcolor\":\"white\",\"linecolor\":\"white\",\"ticks\":\"\"}},\"title\":{\"x\":0.05},\"xaxis\":{\"automargin\":true,\"gridcolor\":\"white\",\"linecolor\":\"white\",\"ticks\":\"\",\"title\":{\"standoff\":15},\"zerolinecolor\":\"white\",\"zerolinewidth\":2},\"yaxis\":{\"automargin\":true,\"gridcolor\":\"white\",\"linecolor\":\"white\",\"ticks\":\"\",\"title\":{\"standoff\":15},\"zerolinecolor\":\"white\",\"zerolinewidth\":2}}},\"legend\":{\"tracegroupgap\":0},\"title\":{\"text\":\"Pie chart of different sentiments\"}},                        {\"responsive\": true}                    ).then(function(){\n",
              "                            \n",
              "var gd = document.getElementById('33977aac-3df1-4a21-9adb-0942d7243c88');\n",
              "var x = new MutationObserver(function (mutations, observer) {{\n",
              "        var display = window.getComputedStyle(gd).display;\n",
              "        if (!display || display === 'none') {{\n",
              "            console.log([gd, 'removed!']);\n",
              "            Plotly.purge(gd);\n",
              "            observer.disconnect();\n",
              "        }}\n",
              "}});\n",
              "\n",
              "// Listen for the removal of the full notebook cells\n",
              "var notebookContainer = gd.closest('#notebook-container');\n",
              "if (notebookContainer) {{\n",
              "    x.observe(notebookContainer, {childList: true});\n",
              "}}\n",
              "\n",
              "// Listen for the clearing of the current output cell\n",
              "var outputEl = gd.closest('.output');\n",
              "if (outputEl) {{\n",
              "    x.observe(outputEl, {childList: true});\n",
              "}}\n",
              "\n",
              "                        })                };                            </script>        </div>\n",
              "</body>\n",
              "</html>"
            ]
          },
          "metadata": {}
        }
      ]
    },
    {
      "cell_type": "markdown",
      "source": [
        "Kita cek isi datasetnya dan di dalamnya terdapat 11000 data. Terdiri dari:\n",
        "\n",
        "\n",
        "*   Positive: 6416\n",
        "*   Neutral: 1148\n",
        "*   Negative: 3436\n",
        "\n"
      ],
      "metadata": {
        "id": "gxDAmIdSQ5nm"
      }
    },
    {
      "cell_type": "code",
      "source": [
        "df.label.value_counts()"
      ],
      "metadata": {
        "colab": {
          "base_uri": "https://localhost:8080/"
        },
        "id": "_By_KBwtRPrv",
        "outputId": "cad28d09-dd75-45a5-b9b6-d4fc1d3737cc"
      },
      "execution_count": 7,
      "outputs": [
        {
          "output_type": "execute_result",
          "data": {
            "text/plain": [
              "positive    6416\n",
              "negative    3436\n",
              "neutral     1148\n",
              "Name: label, dtype: int64"
            ]
          },
          "metadata": {},
          "execution_count": 7
        }
      ]
    },
    {
      "cell_type": "markdown",
      "source": [
        "#Dataset Under Sampling"
      ],
      "metadata": {
        "id": "9vR9JovS1-HC"
      }
    },
    {
      "cell_type": "code",
      "source": [
        "df_positive = df[df['label']=='positive']\n",
        "df_negative = df[df['label']=='negative']\n",
        "df_neutral = df[df['label']=='neutral']"
      ],
      "metadata": {
        "id": "D0HWAJAj191c"
      },
      "execution_count": 8,
      "outputs": []
    },
    {
      "cell_type": "code",
      "source": [
        "df_positive.head()"
      ],
      "metadata": {
        "colab": {
          "base_uri": "https://localhost:8080/",
          "height": 206
        },
        "id": "u8FHZKqK2Xdd",
        "outputId": "eb137323-c373-4741-a713-20d83a16b604"
      },
      "execution_count": 9,
      "outputs": [
        {
          "output_type": "execute_result",
          "data": {
            "text/plain": [
              "                                                text     label\n",
              "0  warung ini dimiliki oleh pengusaha pabrik tahu...  positive\n",
              "2  lokasi strategis di jalan sumatera bandung . t...  positive\n",
              "3  betapa bahagia nya diri ini saat unboxing pake...  positive\n",
              "5  makanan beragam , harga makanan di food stall ...  positive\n",
              "7  tempat unik , bagus buat foto , makanan enak ,...  positive"
            ],
            "text/html": [
              "\n",
              "  <div id=\"df-6c7c678f-304c-43e3-905b-1fbcb70aae5c\">\n",
              "    <div class=\"colab-df-container\">\n",
              "      <div>\n",
              "<style scoped>\n",
              "    .dataframe tbody tr th:only-of-type {\n",
              "        vertical-align: middle;\n",
              "    }\n",
              "\n",
              "    .dataframe tbody tr th {\n",
              "        vertical-align: top;\n",
              "    }\n",
              "\n",
              "    .dataframe thead th {\n",
              "        text-align: right;\n",
              "    }\n",
              "</style>\n",
              "<table border=\"1\" class=\"dataframe\">\n",
              "  <thead>\n",
              "    <tr style=\"text-align: right;\">\n",
              "      <th></th>\n",
              "      <th>text</th>\n",
              "      <th>label</th>\n",
              "    </tr>\n",
              "  </thead>\n",
              "  <tbody>\n",
              "    <tr>\n",
              "      <th>0</th>\n",
              "      <td>warung ini dimiliki oleh pengusaha pabrik tahu...</td>\n",
              "      <td>positive</td>\n",
              "    </tr>\n",
              "    <tr>\n",
              "      <th>2</th>\n",
              "      <td>lokasi strategis di jalan sumatera bandung . t...</td>\n",
              "      <td>positive</td>\n",
              "    </tr>\n",
              "    <tr>\n",
              "      <th>3</th>\n",
              "      <td>betapa bahagia nya diri ini saat unboxing pake...</td>\n",
              "      <td>positive</td>\n",
              "    </tr>\n",
              "    <tr>\n",
              "      <th>5</th>\n",
              "      <td>makanan beragam , harga makanan di food stall ...</td>\n",
              "      <td>positive</td>\n",
              "    </tr>\n",
              "    <tr>\n",
              "      <th>7</th>\n",
              "      <td>tempat unik , bagus buat foto , makanan enak ,...</td>\n",
              "      <td>positive</td>\n",
              "    </tr>\n",
              "  </tbody>\n",
              "</table>\n",
              "</div>\n",
              "      <button class=\"colab-df-convert\" onclick=\"convertToInteractive('df-6c7c678f-304c-43e3-905b-1fbcb70aae5c')\"\n",
              "              title=\"Convert this dataframe to an interactive table.\"\n",
              "              style=\"display:none;\">\n",
              "        \n",
              "  <svg xmlns=\"http://www.w3.org/2000/svg\" height=\"24px\"viewBox=\"0 0 24 24\"\n",
              "       width=\"24px\">\n",
              "    <path d=\"M0 0h24v24H0V0z\" fill=\"none\"/>\n",
              "    <path d=\"M18.56 5.44l.94 2.06.94-2.06 2.06-.94-2.06-.94-.94-2.06-.94 2.06-2.06.94zm-11 1L8.5 8.5l.94-2.06 2.06-.94-2.06-.94L8.5 2.5l-.94 2.06-2.06.94zm10 10l.94 2.06.94-2.06 2.06-.94-2.06-.94-.94-2.06-.94 2.06-2.06.94z\"/><path d=\"M17.41 7.96l-1.37-1.37c-.4-.4-.92-.59-1.43-.59-.52 0-1.04.2-1.43.59L10.3 9.45l-7.72 7.72c-.78.78-.78 2.05 0 2.83L4 21.41c.39.39.9.59 1.41.59.51 0 1.02-.2 1.41-.59l7.78-7.78 2.81-2.81c.8-.78.8-2.07 0-2.86zM5.41 20L4 18.59l7.72-7.72 1.47 1.35L5.41 20z\"/>\n",
              "  </svg>\n",
              "      </button>\n",
              "      \n",
              "  <style>\n",
              "    .colab-df-container {\n",
              "      display:flex;\n",
              "      flex-wrap:wrap;\n",
              "      gap: 12px;\n",
              "    }\n",
              "\n",
              "    .colab-df-convert {\n",
              "      background-color: #E8F0FE;\n",
              "      border: none;\n",
              "      border-radius: 50%;\n",
              "      cursor: pointer;\n",
              "      display: none;\n",
              "      fill: #1967D2;\n",
              "      height: 32px;\n",
              "      padding: 0 0 0 0;\n",
              "      width: 32px;\n",
              "    }\n",
              "\n",
              "    .colab-df-convert:hover {\n",
              "      background-color: #E2EBFA;\n",
              "      box-shadow: 0px 1px 2px rgba(60, 64, 67, 0.3), 0px 1px 3px 1px rgba(60, 64, 67, 0.15);\n",
              "      fill: #174EA6;\n",
              "    }\n",
              "\n",
              "    [theme=dark] .colab-df-convert {\n",
              "      background-color: #3B4455;\n",
              "      fill: #D2E3FC;\n",
              "    }\n",
              "\n",
              "    [theme=dark] .colab-df-convert:hover {\n",
              "      background-color: #434B5C;\n",
              "      box-shadow: 0px 1px 3px 1px rgba(0, 0, 0, 0.15);\n",
              "      filter: drop-shadow(0px 1px 2px rgba(0, 0, 0, 0.3));\n",
              "      fill: #FFFFFF;\n",
              "    }\n",
              "  </style>\n",
              "\n",
              "      <script>\n",
              "        const buttonEl =\n",
              "          document.querySelector('#df-6c7c678f-304c-43e3-905b-1fbcb70aae5c button.colab-df-convert');\n",
              "        buttonEl.style.display =\n",
              "          google.colab.kernel.accessAllowed ? 'block' : 'none';\n",
              "\n",
              "        async function convertToInteractive(key) {\n",
              "          const element = document.querySelector('#df-6c7c678f-304c-43e3-905b-1fbcb70aae5c');\n",
              "          const dataTable =\n",
              "            await google.colab.kernel.invokeFunction('convertToInteractive',\n",
              "                                                     [key], {});\n",
              "          if (!dataTable) return;\n",
              "\n",
              "          const docLinkHtml = 'Like what you see? Visit the ' +\n",
              "            '<a target=\"_blank\" href=https://colab.research.google.com/notebooks/data_table.ipynb>data table notebook</a>'\n",
              "            + ' to learn more about interactive tables.';\n",
              "          element.innerHTML = '';\n",
              "          dataTable['output_type'] = 'display_data';\n",
              "          await google.colab.output.renderOutput(dataTable, element);\n",
              "          const docLink = document.createElement('div');\n",
              "          docLink.innerHTML = docLinkHtml;\n",
              "          element.appendChild(docLink);\n",
              "        }\n",
              "      </script>\n",
              "    </div>\n",
              "  </div>\n",
              "  "
            ]
          },
          "metadata": {},
          "execution_count": 9
        }
      ]
    },
    {
      "cell_type": "code",
      "source": [
        "df_negative.head()"
      ],
      "metadata": {
        "colab": {
          "base_uri": "https://localhost:8080/",
          "height": 206
        },
        "id": "DMk09OSf237p",
        "outputId": "806be867-d087-4845-a3aa-471c61311a8d"
      },
      "execution_count": 12,
      "outputs": [
        {
          "output_type": "execute_result",
          "data": {
            "text/plain": [
              "                                                 text     label\n",
              "4   duh . jadi mahasiswa jangan sombong dong . kas...  negative\n",
              "6   pakai kartu kredit bca tidak untung malah rugi...  negative\n",
              "10  simcard indosat inaktiv gara-gara lupa isi pul...  negative\n",
              "11  sifat iri sering muncul pada orang orang yang ...  negative\n",
              "13  pengalaman bersama indosat hari ini , semoga t...  negative"
            ],
            "text/html": [
              "\n",
              "  <div id=\"df-a8e1cbd3-9699-4bbd-8d60-410f202ac13f\">\n",
              "    <div class=\"colab-df-container\">\n",
              "      <div>\n",
              "<style scoped>\n",
              "    .dataframe tbody tr th:only-of-type {\n",
              "        vertical-align: middle;\n",
              "    }\n",
              "\n",
              "    .dataframe tbody tr th {\n",
              "        vertical-align: top;\n",
              "    }\n",
              "\n",
              "    .dataframe thead th {\n",
              "        text-align: right;\n",
              "    }\n",
              "</style>\n",
              "<table border=\"1\" class=\"dataframe\">\n",
              "  <thead>\n",
              "    <tr style=\"text-align: right;\">\n",
              "      <th></th>\n",
              "      <th>text</th>\n",
              "      <th>label</th>\n",
              "    </tr>\n",
              "  </thead>\n",
              "  <tbody>\n",
              "    <tr>\n",
              "      <th>4</th>\n",
              "      <td>duh . jadi mahasiswa jangan sombong dong . kas...</td>\n",
              "      <td>negative</td>\n",
              "    </tr>\n",
              "    <tr>\n",
              "      <th>6</th>\n",
              "      <td>pakai kartu kredit bca tidak untung malah rugi...</td>\n",
              "      <td>negative</td>\n",
              "    </tr>\n",
              "    <tr>\n",
              "      <th>10</th>\n",
              "      <td>simcard indosat inaktiv gara-gara lupa isi pul...</td>\n",
              "      <td>negative</td>\n",
              "    </tr>\n",
              "    <tr>\n",
              "      <th>11</th>\n",
              "      <td>sifat iri sering muncul pada orang orang yang ...</td>\n",
              "      <td>negative</td>\n",
              "    </tr>\n",
              "    <tr>\n",
              "      <th>13</th>\n",
              "      <td>pengalaman bersama indosat hari ini , semoga t...</td>\n",
              "      <td>negative</td>\n",
              "    </tr>\n",
              "  </tbody>\n",
              "</table>\n",
              "</div>\n",
              "      <button class=\"colab-df-convert\" onclick=\"convertToInteractive('df-a8e1cbd3-9699-4bbd-8d60-410f202ac13f')\"\n",
              "              title=\"Convert this dataframe to an interactive table.\"\n",
              "              style=\"display:none;\">\n",
              "        \n",
              "  <svg xmlns=\"http://www.w3.org/2000/svg\" height=\"24px\"viewBox=\"0 0 24 24\"\n",
              "       width=\"24px\">\n",
              "    <path d=\"M0 0h24v24H0V0z\" fill=\"none\"/>\n",
              "    <path d=\"M18.56 5.44l.94 2.06.94-2.06 2.06-.94-2.06-.94-.94-2.06-.94 2.06-2.06.94zm-11 1L8.5 8.5l.94-2.06 2.06-.94-2.06-.94L8.5 2.5l-.94 2.06-2.06.94zm10 10l.94 2.06.94-2.06 2.06-.94-2.06-.94-.94-2.06-.94 2.06-2.06.94z\"/><path d=\"M17.41 7.96l-1.37-1.37c-.4-.4-.92-.59-1.43-.59-.52 0-1.04.2-1.43.59L10.3 9.45l-7.72 7.72c-.78.78-.78 2.05 0 2.83L4 21.41c.39.39.9.59 1.41.59.51 0 1.02-.2 1.41-.59l7.78-7.78 2.81-2.81c.8-.78.8-2.07 0-2.86zM5.41 20L4 18.59l7.72-7.72 1.47 1.35L5.41 20z\"/>\n",
              "  </svg>\n",
              "      </button>\n",
              "      \n",
              "  <style>\n",
              "    .colab-df-container {\n",
              "      display:flex;\n",
              "      flex-wrap:wrap;\n",
              "      gap: 12px;\n",
              "    }\n",
              "\n",
              "    .colab-df-convert {\n",
              "      background-color: #E8F0FE;\n",
              "      border: none;\n",
              "      border-radius: 50%;\n",
              "      cursor: pointer;\n",
              "      display: none;\n",
              "      fill: #1967D2;\n",
              "      height: 32px;\n",
              "      padding: 0 0 0 0;\n",
              "      width: 32px;\n",
              "    }\n",
              "\n",
              "    .colab-df-convert:hover {\n",
              "      background-color: #E2EBFA;\n",
              "      box-shadow: 0px 1px 2px rgba(60, 64, 67, 0.3), 0px 1px 3px 1px rgba(60, 64, 67, 0.15);\n",
              "      fill: #174EA6;\n",
              "    }\n",
              "\n",
              "    [theme=dark] .colab-df-convert {\n",
              "      background-color: #3B4455;\n",
              "      fill: #D2E3FC;\n",
              "    }\n",
              "\n",
              "    [theme=dark] .colab-df-convert:hover {\n",
              "      background-color: #434B5C;\n",
              "      box-shadow: 0px 1px 3px 1px rgba(0, 0, 0, 0.15);\n",
              "      filter: drop-shadow(0px 1px 2px rgba(0, 0, 0, 0.3));\n",
              "      fill: #FFFFFF;\n",
              "    }\n",
              "  </style>\n",
              "\n",
              "      <script>\n",
              "        const buttonEl =\n",
              "          document.querySelector('#df-a8e1cbd3-9699-4bbd-8d60-410f202ac13f button.colab-df-convert');\n",
              "        buttonEl.style.display =\n",
              "          google.colab.kernel.accessAllowed ? 'block' : 'none';\n",
              "\n",
              "        async function convertToInteractive(key) {\n",
              "          const element = document.querySelector('#df-a8e1cbd3-9699-4bbd-8d60-410f202ac13f');\n",
              "          const dataTable =\n",
              "            await google.colab.kernel.invokeFunction('convertToInteractive',\n",
              "                                                     [key], {});\n",
              "          if (!dataTable) return;\n",
              "\n",
              "          const docLinkHtml = 'Like what you see? Visit the ' +\n",
              "            '<a target=\"_blank\" href=https://colab.research.google.com/notebooks/data_table.ipynb>data table notebook</a>'\n",
              "            + ' to learn more about interactive tables.';\n",
              "          element.innerHTML = '';\n",
              "          dataTable['output_type'] = 'display_data';\n",
              "          await google.colab.output.renderOutput(dataTable, element);\n",
              "          const docLink = document.createElement('div');\n",
              "          docLink.innerHTML = docLinkHtml;\n",
              "          element.appendChild(docLink);\n",
              "        }\n",
              "      </script>\n",
              "    </div>\n",
              "  </div>\n",
              "  "
            ]
          },
          "metadata": {},
          "execution_count": 12
        }
      ]
    },
    {
      "cell_type": "code",
      "source": [
        "df_down_positive = df_positive.sample(1148)"
      ],
      "metadata": {
        "id": "ZIJ2OQeO4FsX"
      },
      "execution_count": 13,
      "outputs": []
    },
    {
      "cell_type": "code",
      "source": [
        "df_down_negative = df_negative.sample(1148)"
      ],
      "metadata": {
        "id": "PuUbaI_h4g4h"
      },
      "execution_count": 14,
      "outputs": []
    },
    {
      "cell_type": "code",
      "source": [
        "df_undersampling = pd.concat([df_down_positive,df_down_negative, df_neutral])\n",
        "df_undersampling"
      ],
      "metadata": {
        "colab": {
          "base_uri": "https://localhost:8080/",
          "height": 424
        },
        "id": "65qg7d8H35an",
        "outputId": "6ff0e246-26ff-4bc5-9d29-b6467126ea9c"
      },
      "execution_count": 15,
      "outputs": [
        {
          "output_type": "execute_result",
          "data": {
            "text/plain": [
              "                                                    text     label\n",
              "1666   ribuan menu ada di sini ! tinggal pilih , pesa...  positive\n",
              "1631   resto ini salah satu kesukaan saya kalau lagi ...  positive\n",
              "1609   sate kambing ini rasanya beda dengan tempat la...  positive\n",
              "8921   dulu awal ke warung mi ini secara tidak sengaj...  positive\n",
              "1061                                         tidak kesal  positive\n",
              "...                                                  ...       ...\n",
              "10925  pkb benarkan charly setia band daftar jadi caw...   neutral\n",
              "10967  pernah percaya kalau body lotion citra bikin b...   neutral\n",
              "10969  bu susi marah , menteri luhut perbolehkan kapa...   neutral\n",
              "10993  f - demokrat dorong upaya kemandirian energi n...   neutral\n",
              "10997        hormati partai-partai yang telah berkoalisi   neutral\n",
              "\n",
              "[3444 rows x 2 columns]"
            ],
            "text/html": [
              "\n",
              "  <div id=\"df-f7de8f12-46a1-45cc-8dce-64e477488441\">\n",
              "    <div class=\"colab-df-container\">\n",
              "      <div>\n",
              "<style scoped>\n",
              "    .dataframe tbody tr th:only-of-type {\n",
              "        vertical-align: middle;\n",
              "    }\n",
              "\n",
              "    .dataframe tbody tr th {\n",
              "        vertical-align: top;\n",
              "    }\n",
              "\n",
              "    .dataframe thead th {\n",
              "        text-align: right;\n",
              "    }\n",
              "</style>\n",
              "<table border=\"1\" class=\"dataframe\">\n",
              "  <thead>\n",
              "    <tr style=\"text-align: right;\">\n",
              "      <th></th>\n",
              "      <th>text</th>\n",
              "      <th>label</th>\n",
              "    </tr>\n",
              "  </thead>\n",
              "  <tbody>\n",
              "    <tr>\n",
              "      <th>1666</th>\n",
              "      <td>ribuan menu ada di sini ! tinggal pilih , pesa...</td>\n",
              "      <td>positive</td>\n",
              "    </tr>\n",
              "    <tr>\n",
              "      <th>1631</th>\n",
              "      <td>resto ini salah satu kesukaan saya kalau lagi ...</td>\n",
              "      <td>positive</td>\n",
              "    </tr>\n",
              "    <tr>\n",
              "      <th>1609</th>\n",
              "      <td>sate kambing ini rasanya beda dengan tempat la...</td>\n",
              "      <td>positive</td>\n",
              "    </tr>\n",
              "    <tr>\n",
              "      <th>8921</th>\n",
              "      <td>dulu awal ke warung mi ini secara tidak sengaj...</td>\n",
              "      <td>positive</td>\n",
              "    </tr>\n",
              "    <tr>\n",
              "      <th>1061</th>\n",
              "      <td>tidak kesal</td>\n",
              "      <td>positive</td>\n",
              "    </tr>\n",
              "    <tr>\n",
              "      <th>...</th>\n",
              "      <td>...</td>\n",
              "      <td>...</td>\n",
              "    </tr>\n",
              "    <tr>\n",
              "      <th>10925</th>\n",
              "      <td>pkb benarkan charly setia band daftar jadi caw...</td>\n",
              "      <td>neutral</td>\n",
              "    </tr>\n",
              "    <tr>\n",
              "      <th>10967</th>\n",
              "      <td>pernah percaya kalau body lotion citra bikin b...</td>\n",
              "      <td>neutral</td>\n",
              "    </tr>\n",
              "    <tr>\n",
              "      <th>10969</th>\n",
              "      <td>bu susi marah , menteri luhut perbolehkan kapa...</td>\n",
              "      <td>neutral</td>\n",
              "    </tr>\n",
              "    <tr>\n",
              "      <th>10993</th>\n",
              "      <td>f - demokrat dorong upaya kemandirian energi n...</td>\n",
              "      <td>neutral</td>\n",
              "    </tr>\n",
              "    <tr>\n",
              "      <th>10997</th>\n",
              "      <td>hormati partai-partai yang telah berkoalisi</td>\n",
              "      <td>neutral</td>\n",
              "    </tr>\n",
              "  </tbody>\n",
              "</table>\n",
              "<p>3444 rows × 2 columns</p>\n",
              "</div>\n",
              "      <button class=\"colab-df-convert\" onclick=\"convertToInteractive('df-f7de8f12-46a1-45cc-8dce-64e477488441')\"\n",
              "              title=\"Convert this dataframe to an interactive table.\"\n",
              "              style=\"display:none;\">\n",
              "        \n",
              "  <svg xmlns=\"http://www.w3.org/2000/svg\" height=\"24px\"viewBox=\"0 0 24 24\"\n",
              "       width=\"24px\">\n",
              "    <path d=\"M0 0h24v24H0V0z\" fill=\"none\"/>\n",
              "    <path d=\"M18.56 5.44l.94 2.06.94-2.06 2.06-.94-2.06-.94-.94-2.06-.94 2.06-2.06.94zm-11 1L8.5 8.5l.94-2.06 2.06-.94-2.06-.94L8.5 2.5l-.94 2.06-2.06.94zm10 10l.94 2.06.94-2.06 2.06-.94-2.06-.94-.94-2.06-.94 2.06-2.06.94z\"/><path d=\"M17.41 7.96l-1.37-1.37c-.4-.4-.92-.59-1.43-.59-.52 0-1.04.2-1.43.59L10.3 9.45l-7.72 7.72c-.78.78-.78 2.05 0 2.83L4 21.41c.39.39.9.59 1.41.59.51 0 1.02-.2 1.41-.59l7.78-7.78 2.81-2.81c.8-.78.8-2.07 0-2.86zM5.41 20L4 18.59l7.72-7.72 1.47 1.35L5.41 20z\"/>\n",
              "  </svg>\n",
              "      </button>\n",
              "      \n",
              "  <style>\n",
              "    .colab-df-container {\n",
              "      display:flex;\n",
              "      flex-wrap:wrap;\n",
              "      gap: 12px;\n",
              "    }\n",
              "\n",
              "    .colab-df-convert {\n",
              "      background-color: #E8F0FE;\n",
              "      border: none;\n",
              "      border-radius: 50%;\n",
              "      cursor: pointer;\n",
              "      display: none;\n",
              "      fill: #1967D2;\n",
              "      height: 32px;\n",
              "      padding: 0 0 0 0;\n",
              "      width: 32px;\n",
              "    }\n",
              "\n",
              "    .colab-df-convert:hover {\n",
              "      background-color: #E2EBFA;\n",
              "      box-shadow: 0px 1px 2px rgba(60, 64, 67, 0.3), 0px 1px 3px 1px rgba(60, 64, 67, 0.15);\n",
              "      fill: #174EA6;\n",
              "    }\n",
              "\n",
              "    [theme=dark] .colab-df-convert {\n",
              "      background-color: #3B4455;\n",
              "      fill: #D2E3FC;\n",
              "    }\n",
              "\n",
              "    [theme=dark] .colab-df-convert:hover {\n",
              "      background-color: #434B5C;\n",
              "      box-shadow: 0px 1px 3px 1px rgba(0, 0, 0, 0.15);\n",
              "      filter: drop-shadow(0px 1px 2px rgba(0, 0, 0, 0.3));\n",
              "      fill: #FFFFFF;\n",
              "    }\n",
              "  </style>\n",
              "\n",
              "      <script>\n",
              "        const buttonEl =\n",
              "          document.querySelector('#df-f7de8f12-46a1-45cc-8dce-64e477488441 button.colab-df-convert');\n",
              "        buttonEl.style.display =\n",
              "          google.colab.kernel.accessAllowed ? 'block' : 'none';\n",
              "\n",
              "        async function convertToInteractive(key) {\n",
              "          const element = document.querySelector('#df-f7de8f12-46a1-45cc-8dce-64e477488441');\n",
              "          const dataTable =\n",
              "            await google.colab.kernel.invokeFunction('convertToInteractive',\n",
              "                                                     [key], {});\n",
              "          if (!dataTable) return;\n",
              "\n",
              "          const docLinkHtml = 'Like what you see? Visit the ' +\n",
              "            '<a target=\"_blank\" href=https://colab.research.google.com/notebooks/data_table.ipynb>data table notebook</a>'\n",
              "            + ' to learn more about interactive tables.';\n",
              "          element.innerHTML = '';\n",
              "          dataTable['output_type'] = 'display_data';\n",
              "          await google.colab.output.renderOutput(dataTable, element);\n",
              "          const docLink = document.createElement('div');\n",
              "          docLink.innerHTML = docLinkHtml;\n",
              "          element.appendChild(docLink);\n",
              "        }\n",
              "      </script>\n",
              "    </div>\n",
              "  </div>\n",
              "  "
            ]
          },
          "metadata": {},
          "execution_count": 15
        }
      ]
    },
    {
      "cell_type": "code",
      "source": [
        "df = df_undersampling"
      ],
      "metadata": {
        "id": "gOtwGD7449_4"
      },
      "execution_count": 17,
      "outputs": []
    },
    {
      "cell_type": "code",
      "source": [
        "fig = px.pie(df, names='label', title ='Pie chart of different sentiments')\n",
        "fig.show()"
      ],
      "metadata": {
        "colab": {
          "base_uri": "https://localhost:8080/",
          "height": 542
        },
        "id": "Nq3xTdmt44ww",
        "outputId": "8f591fd7-9944-4d59-890a-ca9a766638e5"
      },
      "execution_count": 18,
      "outputs": [
        {
          "output_type": "display_data",
          "data": {
            "text/html": [
              "<html>\n",
              "<head><meta charset=\"utf-8\" /></head>\n",
              "<body>\n",
              "    <div>            <script src=\"https://cdnjs.cloudflare.com/ajax/libs/mathjax/2.7.5/MathJax.js?config=TeX-AMS-MML_SVG\"></script><script type=\"text/javascript\">if (window.MathJax) {MathJax.Hub.Config({SVG: {font: \"STIX-Web\"}});}</script>                <script type=\"text/javascript\">window.PlotlyConfig = {MathJaxConfig: 'local'};</script>\n",
              "        <script src=\"https://cdn.plot.ly/plotly-2.8.3.min.js\"></script>                <div id=\"4f0b8d0c-67e0-48b8-a26a-c9dd3d0d00f7\" class=\"plotly-graph-div\" style=\"height:525px; width:100%;\"></div>            <script type=\"text/javascript\">                                    window.PLOTLYENV=window.PLOTLYENV || {};                                    if (document.getElementById(\"4f0b8d0c-67e0-48b8-a26a-c9dd3d0d00f7\")) {                    Plotly.newPlot(                        \"4f0b8d0c-67e0-48b8-a26a-c9dd3d0d00f7\",                        [{\"domain\":{\"x\":[0.0,1.0],\"y\":[0.0,1.0]},\"hovertemplate\":\"label=%{label}<extra></extra>\",\"labels\":[\"positive\",\"positive\",\"positive\",\"positive\",\"positive\",\"positive\",\"positive\",\"positive\",\"positive\",\"positive\",\"positive\",\"positive\",\"positive\",\"positive\",\"positive\",\"positive\",\"positive\",\"positive\",\"positive\",\"positive\",\"positive\",\"positive\",\"positive\",\"positive\",\"positive\",\"positive\",\"positive\",\"positive\",\"positive\",\"positive\",\"positive\",\"positive\",\"positive\",\"positive\",\"positive\",\"positive\",\"positive\",\"positive\",\"positive\",\"positive\",\"positive\",\"positive\",\"positive\",\"positive\",\"positive\",\"positive\",\"positive\",\"positive\",\"positive\",\"positive\",\"positive\",\"positive\",\"positive\",\"positive\",\"positive\",\"positive\",\"positive\",\"positive\",\"positive\",\"positive\",\"positive\",\"positive\",\"positive\",\"positive\",\"positive\",\"positive\",\"positive\",\"positive\",\"positive\",\"positive\",\"positive\",\"positive\",\"positive\",\"positive\",\"positive\",\"positive\",\"positive\",\"positive\",\"positive\",\"positive\",\"positive\",\"positive\",\"positive\",\"positive\",\"positive\",\"positive\",\"positive\",\"positive\",\"positive\",\"positive\",\"positive\",\"positive\",\"positive\",\"positive\",\"positive\",\"positive\",\"positive\",\"positive\",\"positive\",\"positive\",\"positive\",\"positive\",\"positive\",\"positive\",\"positive\",\"positive\",\"positive\",\"positive\",\"positive\",\"positive\",\"positive\",\"positive\",\"positive\",\"positive\",\"positive\",\"positive\",\"positive\",\"positive\",\"positive\",\"positive\",\"positive\",\"positive\",\"positive\",\"positive\",\"positive\",\"positive\",\"positive\",\"positive\",\"positive\",\"positive\",\"positive\",\"positive\",\"positive\",\"positive\",\"positive\",\"positive\",\"positive\",\"positive\",\"positive\",\"positive\",\"positive\",\"positive\",\"positive\",\"positive\",\"positive\",\"positive\",\"positive\",\"positive\",\"positive\",\"positive\",\"positive\",\"positive\",\"positive\",\"positive\",\"positive\",\"positive\",\"positive\",\"positive\",\"positive\",\"positive\",\"positive\",\"positive\",\"positive\",\"positive\",\"positive\",\"positive\",\"positive\",\"positive\",\"positive\",\"positive\",\"positive\",\"positive\",\"positive\",\"positive\",\"positive\",\"positive\",\"positive\",\"positive\",\"positive\",\"positive\",\"positive\",\"positive\",\"positive\",\"positive\",\"positive\",\"positive\",\"positive\",\"positive\",\"positive\",\"positive\",\"positive\",\"positive\",\"positive\",\"positive\",\"positive\",\"positive\",\"positive\",\"positive\",\"positive\",\"positive\",\"positive\",\"positive\",\"positive\",\"positive\",\"positive\",\"positive\",\"positive\",\"positive\",\"positive\",\"positive\",\"positive\",\"positive\",\"positive\",\"positive\",\"positive\",\"positive\",\"positive\",\"positive\",\"positive\",\"positive\",\"positive\",\"positive\",\"positive\",\"positive\",\"positive\",\"positive\",\"positive\",\"positive\",\"positive\",\"positive\",\"positive\",\"positive\",\"positive\",\"positive\",\"positive\",\"positive\",\"positive\",\"positive\",\"positive\",\"positive\",\"positive\",\"positive\",\"positive\",\"positive\",\"positive\",\"positive\",\"positive\",\"positive\",\"positive\",\"positive\",\"positive\",\"positive\",\"positive\",\"positive\",\"positive\",\"positive\",\"positive\",\"positive\",\"positive\",\"positive\",\"positive\",\"positive\",\"positive\",\"positive\",\"positive\",\"positive\",\"positive\",\"positive\",\"positive\",\"positive\",\"positive\",\"positive\",\"positive\",\"positive\",\"positive\",\"positive\",\"positive\",\"positive\",\"positive\",\"positive\",\"positive\",\"positive\",\"positive\",\"positive\",\"positive\",\"positive\",\"positive\",\"positive\",\"positive\",\"positive\",\"positive\",\"positive\",\"positive\",\"positive\",\"positive\",\"positive\",\"positive\",\"positive\",\"positive\",\"positive\",\"positive\",\"positive\",\"positive\",\"positive\",\"positive\",\"positive\",\"positive\",\"positive\",\"positive\",\"positive\",\"positive\",\"positive\",\"positive\",\"positive\",\"positive\",\"positive\",\"positive\",\"positive\",\"positive\",\"positive\",\"positive\",\"positive\",\"positive\",\"positive\",\"positive\",\"positive\",\"positive\",\"positive\",\"positive\",\"positive\",\"positive\",\"positive\",\"positive\",\"positive\",\"positive\",\"positive\",\"positive\",\"positive\",\"positive\",\"positive\",\"positive\",\"positive\",\"positive\",\"positive\",\"positive\",\"positive\",\"positive\",\"positive\",\"positive\",\"positive\",\"positive\",\"positive\",\"positive\",\"positive\",\"positive\",\"positive\",\"positive\",\"positive\",\"positive\",\"positive\",\"positive\",\"positive\",\"positive\",\"positive\",\"positive\",\"positive\",\"positive\",\"positive\",\"positive\",\"positive\",\"positive\",\"positive\",\"positive\",\"positive\",\"positive\",\"positive\",\"positive\",\"positive\",\"positive\",\"positive\",\"positive\",\"positive\",\"positive\",\"positive\",\"positive\",\"positive\",\"positive\",\"positive\",\"positive\",\"positive\",\"positive\",\"positive\",\"positive\",\"positive\",\"positive\",\"positive\",\"positive\",\"positive\",\"positive\",\"positive\",\"positive\",\"positive\",\"positive\",\"positive\",\"positive\",\"positive\",\"positive\",\"positive\",\"positive\",\"positive\",\"positive\",\"positive\",\"positive\",\"positive\",\"positive\",\"positive\",\"positive\",\"positive\",\"positive\",\"positive\",\"positive\",\"positive\",\"positive\",\"positive\",\"positive\",\"positive\",\"positive\",\"positive\",\"positive\",\"positive\",\"positive\",\"positive\",\"positive\",\"positive\",\"positive\",\"positive\",\"positive\",\"positive\",\"positive\",\"positive\",\"positive\",\"positive\",\"positive\",\"positive\",\"positive\",\"positive\",\"positive\",\"positive\",\"positive\",\"positive\",\"positive\",\"positive\",\"positive\",\"positive\",\"positive\",\"positive\",\"positive\",\"positive\",\"positive\",\"positive\",\"positive\",\"positive\",\"positive\",\"positive\",\"positive\",\"positive\",\"positive\",\"positive\",\"positive\",\"positive\",\"positive\",\"positive\",\"positive\",\"positive\",\"positive\",\"positive\",\"positive\",\"positive\",\"positive\",\"positive\",\"positive\",\"positive\",\"positive\",\"positive\",\"positive\",\"positive\",\"positive\",\"positive\",\"positive\",\"positive\",\"positive\",\"positive\",\"positive\",\"positive\",\"positive\",\"positive\",\"positive\",\"positive\",\"positive\",\"positive\",\"positive\",\"positive\",\"positive\",\"positive\",\"positive\",\"positive\",\"positive\",\"positive\",\"positive\",\"positive\",\"positive\",\"positive\",\"positive\",\"positive\",\"positive\",\"positive\",\"positive\",\"positive\",\"positive\",\"positive\",\"positive\",\"positive\",\"positive\",\"positive\",\"positive\",\"positive\",\"positive\",\"positive\",\"positive\",\"positive\",\"positive\",\"positive\",\"positive\",\"positive\",\"positive\",\"positive\",\"positive\",\"positive\",\"positive\",\"positive\",\"positive\",\"positive\",\"positive\",\"positive\",\"positive\",\"positive\",\"positive\",\"positive\",\"positive\",\"positive\",\"positive\",\"positive\",\"positive\",\"positive\",\"positive\",\"positive\",\"positive\",\"positive\",\"positive\",\"positive\",\"positive\",\"positive\",\"positive\",\"positive\",\"positive\",\"positive\",\"positive\",\"positive\",\"positive\",\"positive\",\"positive\",\"positive\",\"positive\",\"positive\",\"positive\",\"positive\",\"positive\",\"positive\",\"positive\",\"positive\",\"positive\",\"positive\",\"positive\",\"positive\",\"positive\",\"positive\",\"positive\",\"positive\",\"positive\",\"positive\",\"positive\",\"positive\",\"positive\",\"positive\",\"positive\",\"positive\",\"positive\",\"positive\",\"positive\",\"positive\",\"positive\",\"positive\",\"positive\",\"positive\",\"positive\",\"positive\",\"positive\",\"positive\",\"positive\",\"positive\",\"positive\",\"positive\",\"positive\",\"positive\",\"positive\",\"positive\",\"positive\",\"positive\",\"positive\",\"positive\",\"positive\",\"positive\",\"positive\",\"positive\",\"positive\",\"positive\",\"positive\",\"positive\",\"positive\",\"positive\",\"positive\",\"positive\",\"positive\",\"positive\",\"positive\",\"positive\",\"positive\",\"positive\",\"positive\",\"positive\",\"positive\",\"positive\",\"positive\",\"positive\",\"positive\",\"positive\",\"positive\",\"positive\",\"positive\",\"positive\",\"positive\",\"positive\",\"positive\",\"positive\",\"positive\",\"positive\",\"positive\",\"positive\",\"positive\",\"positive\",\"positive\",\"positive\",\"positive\",\"positive\",\"positive\",\"positive\",\"positive\",\"positive\",\"positive\",\"positive\",\"positive\",\"positive\",\"positive\",\"positive\",\"positive\",\"positive\",\"positive\",\"positive\",\"positive\",\"positive\",\"positive\",\"positive\",\"positive\",\"positive\",\"positive\",\"positive\",\"positive\",\"positive\",\"positive\",\"positive\",\"positive\",\"positive\",\"positive\",\"positive\",\"positive\",\"positive\",\"positive\",\"positive\",\"positive\",\"positive\",\"positive\",\"positive\",\"positive\",\"positive\",\"positive\",\"positive\",\"positive\",\"positive\",\"positive\",\"positive\",\"positive\",\"positive\",\"positive\",\"positive\",\"positive\",\"positive\",\"positive\",\"positive\",\"positive\",\"positive\",\"positive\",\"positive\",\"positive\",\"positive\",\"positive\",\"positive\",\"positive\",\"positive\",\"positive\",\"positive\",\"positive\",\"positive\",\"positive\",\"positive\",\"positive\",\"positive\",\"positive\",\"positive\",\"positive\",\"positive\",\"positive\",\"positive\",\"positive\",\"positive\",\"positive\",\"positive\",\"positive\",\"positive\",\"positive\",\"positive\",\"positive\",\"positive\",\"positive\",\"positive\",\"positive\",\"positive\",\"positive\",\"positive\",\"positive\",\"positive\",\"positive\",\"positive\",\"positive\",\"positive\",\"positive\",\"positive\",\"positive\",\"positive\",\"positive\",\"positive\",\"positive\",\"positive\",\"positive\",\"positive\",\"positive\",\"positive\",\"positive\",\"positive\",\"positive\",\"positive\",\"positive\",\"positive\",\"positive\",\"positive\",\"positive\",\"positive\",\"positive\",\"positive\",\"positive\",\"positive\",\"positive\",\"positive\",\"positive\",\"positive\",\"positive\",\"positive\",\"positive\",\"positive\",\"positive\",\"positive\",\"positive\",\"positive\",\"positive\",\"positive\",\"positive\",\"positive\",\"positive\",\"positive\",\"positive\",\"positive\",\"positive\",\"positive\",\"positive\",\"positive\",\"positive\",\"positive\",\"positive\",\"positive\",\"positive\",\"positive\",\"positive\",\"positive\",\"positive\",\"positive\",\"positive\",\"positive\",\"positive\",\"positive\",\"positive\",\"positive\",\"positive\",\"positive\",\"positive\",\"positive\",\"positive\",\"positive\",\"positive\",\"positive\",\"positive\",\"positive\",\"positive\",\"positive\",\"positive\",\"positive\",\"positive\",\"positive\",\"positive\",\"positive\",\"positive\",\"positive\",\"positive\",\"positive\",\"positive\",\"positive\",\"positive\",\"positive\",\"positive\",\"positive\",\"positive\",\"positive\",\"positive\",\"positive\",\"positive\",\"positive\",\"positive\",\"positive\",\"positive\",\"positive\",\"positive\",\"positive\",\"positive\",\"positive\",\"positive\",\"positive\",\"positive\",\"positive\",\"positive\",\"positive\",\"positive\",\"positive\",\"positive\",\"positive\",\"positive\",\"positive\",\"positive\",\"positive\",\"positive\",\"positive\",\"positive\",\"positive\",\"positive\",\"positive\",\"positive\",\"positive\",\"positive\",\"positive\",\"positive\",\"positive\",\"positive\",\"positive\",\"positive\",\"positive\",\"positive\",\"positive\",\"positive\",\"positive\",\"positive\",\"positive\",\"positive\",\"positive\",\"positive\",\"positive\",\"positive\",\"positive\",\"positive\",\"positive\",\"positive\",\"positive\",\"positive\",\"positive\",\"positive\",\"positive\",\"positive\",\"positive\",\"positive\",\"positive\",\"positive\",\"positive\",\"positive\",\"positive\",\"positive\",\"positive\",\"positive\",\"positive\",\"positive\",\"positive\",\"positive\",\"positive\",\"positive\",\"positive\",\"positive\",\"positive\",\"positive\",\"positive\",\"positive\",\"positive\",\"positive\",\"positive\",\"positive\",\"positive\",\"positive\",\"positive\",\"positive\",\"positive\",\"positive\",\"positive\",\"positive\",\"positive\",\"positive\",\"positive\",\"positive\",\"positive\",\"positive\",\"positive\",\"positive\",\"positive\",\"positive\",\"positive\",\"positive\",\"positive\",\"positive\",\"positive\",\"positive\",\"positive\",\"positive\",\"positive\",\"positive\",\"positive\",\"positive\",\"positive\",\"positive\",\"positive\",\"positive\",\"positive\",\"positive\",\"positive\",\"positive\",\"positive\",\"positive\",\"positive\",\"positive\",\"positive\",\"positive\",\"positive\",\"positive\",\"positive\",\"positive\",\"positive\",\"positive\",\"positive\",\"positive\",\"positive\",\"positive\",\"positive\",\"positive\",\"positive\",\"positive\",\"positive\",\"positive\",\"positive\",\"positive\",\"positive\",\"positive\",\"positive\",\"positive\",\"positive\",\"positive\",\"positive\",\"positive\",\"positive\",\"positive\",\"positive\",\"positive\",\"positive\",\"positive\",\"positive\",\"positive\",\"positive\",\"positive\",\"positive\",\"positive\",\"positive\",\"positive\",\"positive\",\"positive\",\"positive\",\"positive\",\"positive\",\"positive\",\"positive\",\"positive\",\"positive\",\"positive\",\"positive\",\"positive\",\"positive\",\"positive\",\"positive\",\"positive\",\"positive\",\"positive\",\"positive\",\"positive\",\"positive\",\"positive\",\"positive\",\"positive\",\"positive\",\"positive\",\"positive\",\"positive\",\"positive\",\"positive\",\"positive\",\"positive\",\"positive\",\"positive\",\"positive\",\"positive\",\"positive\",\"positive\",\"positive\",\"positive\",\"positive\",\"positive\",\"positive\",\"positive\",\"positive\",\"positive\",\"positive\",\"positive\",\"positive\",\"positive\",\"positive\",\"positive\",\"positive\",\"positive\",\"positive\",\"positive\",\"positive\",\"positive\",\"positive\",\"positive\",\"positive\",\"positive\",\"positive\",\"positive\",\"positive\",\"positive\",\"positive\",\"positive\",\"positive\",\"positive\",\"positive\",\"positive\",\"positive\",\"positive\",\"positive\",\"positive\",\"positive\",\"positive\",\"positive\",\"positive\",\"positive\",\"positive\",\"positive\",\"positive\",\"positive\",\"positive\",\"positive\",\"positive\",\"positive\",\"positive\",\"positive\",\"positive\",\"positive\",\"positive\",\"positive\",\"positive\",\"positive\",\"positive\",\"positive\",\"positive\",\"positive\",\"positive\",\"positive\",\"positive\",\"positive\",\"positive\",\"positive\",\"positive\",\"positive\",\"positive\",\"positive\",\"positive\",\"positive\",\"positive\",\"positive\",\"negative\",\"negative\",\"negative\",\"negative\",\"negative\",\"negative\",\"negative\",\"negative\",\"negative\",\"negative\",\"negative\",\"negative\",\"negative\",\"negative\",\"negative\",\"negative\",\"negative\",\"negative\",\"negative\",\"negative\",\"negative\",\"negative\",\"negative\",\"negative\",\"negative\",\"negative\",\"negative\",\"negative\",\"negative\",\"negative\",\"negative\",\"negative\",\"negative\",\"negative\",\"negative\",\"negative\",\"negative\",\"negative\",\"negative\",\"negative\",\"negative\",\"negative\",\"negative\",\"negative\",\"negative\",\"negative\",\"negative\",\"negative\",\"negative\",\"negative\",\"negative\",\"negative\",\"negative\",\"negative\",\"negative\",\"negative\",\"negative\",\"negative\",\"negative\",\"negative\",\"negative\",\"negative\",\"negative\",\"negative\",\"negative\",\"negative\",\"negative\",\"negative\",\"negative\",\"negative\",\"negative\",\"negative\",\"negative\",\"negative\",\"negative\",\"negative\",\"negative\",\"negative\",\"negative\",\"negative\",\"negative\",\"negative\",\"negative\",\"negative\",\"negative\",\"negative\",\"negative\",\"negative\",\"negative\",\"negative\",\"negative\",\"negative\",\"negative\",\"negative\",\"negative\",\"negative\",\"negative\",\"negative\",\"negative\",\"negative\",\"negative\",\"negative\",\"negative\",\"negative\",\"negative\",\"negative\",\"negative\",\"negative\",\"negative\",\"negative\",\"negative\",\"negative\",\"negative\",\"negative\",\"negative\",\"negative\",\"negative\",\"negative\",\"negative\",\"negative\",\"negative\",\"negative\",\"negative\",\"negative\",\"negative\",\"negative\",\"negative\",\"negative\",\"negative\",\"negative\",\"negative\",\"negative\",\"negative\",\"negative\",\"negative\",\"negative\",\"negative\",\"negative\",\"negative\",\"negative\",\"negative\",\"negative\",\"negative\",\"negative\",\"negative\",\"negative\",\"negative\",\"negative\",\"negative\",\"negative\",\"negative\",\"negative\",\"negative\",\"negative\",\"negative\",\"negative\",\"negative\",\"negative\",\"negative\",\"negative\",\"negative\",\"negative\",\"negative\",\"negative\",\"negative\",\"negative\",\"negative\",\"negative\",\"negative\",\"negative\",\"negative\",\"negative\",\"negative\",\"negative\",\"negative\",\"negative\",\"negative\",\"negative\",\"negative\",\"negative\",\"negative\",\"negative\",\"negative\",\"negative\",\"negative\",\"negative\",\"negative\",\"negative\",\"negative\",\"negative\",\"negative\",\"negative\",\"negative\",\"negative\",\"negative\",\"negative\",\"negative\",\"negative\",\"negative\",\"negative\",\"negative\",\"negative\",\"negative\",\"negative\",\"negative\",\"negative\",\"negative\",\"negative\",\"negative\",\"negative\",\"negative\",\"negative\",\"negative\",\"negative\",\"negative\",\"negative\",\"negative\",\"negative\",\"negative\",\"negative\",\"negative\",\"negative\",\"negative\",\"negative\",\"negative\",\"negative\",\"negative\",\"negative\",\"negative\",\"negative\",\"negative\",\"negative\",\"negative\",\"negative\",\"negative\",\"negative\",\"negative\",\"negative\",\"negative\",\"negative\",\"negative\",\"negative\",\"negative\",\"negative\",\"negative\",\"negative\",\"negative\",\"negative\",\"negative\",\"negative\",\"negative\",\"negative\",\"negative\",\"negative\",\"negative\",\"negative\",\"negative\",\"negative\",\"negative\",\"negative\",\"negative\",\"negative\",\"negative\",\"negative\",\"negative\",\"negative\",\"negative\",\"negative\",\"negative\",\"negative\",\"negative\",\"negative\",\"negative\",\"negative\",\"negative\",\"negative\",\"negative\",\"negative\",\"negative\",\"negative\",\"negative\",\"negative\",\"negative\",\"negative\",\"negative\",\"negative\",\"negative\",\"negative\",\"negative\",\"negative\",\"negative\",\"negative\",\"negative\",\"negative\",\"negative\",\"negative\",\"negative\",\"negative\",\"negative\",\"negative\",\"negative\",\"negative\",\"negative\",\"negative\",\"negative\",\"negative\",\"negative\",\"negative\",\"negative\",\"negative\",\"negative\",\"negative\",\"negative\",\"negative\",\"negative\",\"negative\",\"negative\",\"negative\",\"negative\",\"negative\",\"negative\",\"negative\",\"negative\",\"negative\",\"negative\",\"negative\",\"negative\",\"negative\",\"negative\",\"negative\",\"negative\",\"negative\",\"negative\",\"negative\",\"negative\",\"negative\",\"negative\",\"negative\",\"negative\",\"negative\",\"negative\",\"negative\",\"negative\",\"negative\",\"negative\",\"negative\",\"negative\",\"negative\",\"negative\",\"negative\",\"negative\",\"negative\",\"negative\",\"negative\",\"negative\",\"negative\",\"negative\",\"negative\",\"negative\",\"negative\",\"negative\",\"negative\",\"negative\",\"negative\",\"negative\",\"negative\",\"negative\",\"negative\",\"negative\",\"negative\",\"negative\",\"negative\",\"negative\",\"negative\",\"negative\",\"negative\",\"negative\",\"negative\",\"negative\",\"negative\",\"negative\",\"negative\",\"negative\",\"negative\",\"negative\",\"negative\",\"negative\",\"negative\",\"negative\",\"negative\",\"negative\",\"negative\",\"negative\",\"negative\",\"negative\",\"negative\",\"negative\",\"negative\",\"negative\",\"negative\",\"negative\",\"negative\",\"negative\",\"negative\",\"negative\",\"negative\",\"negative\",\"negative\",\"negative\",\"negative\",\"negative\",\"negative\",\"negative\",\"negative\",\"negative\",\"negative\",\"negative\",\"negative\",\"negative\",\"negative\",\"negative\",\"negative\",\"negative\",\"negative\",\"negative\",\"negative\",\"negative\",\"negative\",\"negative\",\"negative\",\"negative\",\"negative\",\"negative\",\"negative\",\"negative\",\"negative\",\"negative\",\"negative\",\"negative\",\"negative\",\"negative\",\"negative\",\"negative\",\"negative\",\"negative\",\"negative\",\"negative\",\"negative\",\"negative\",\"negative\",\"negative\",\"negative\",\"negative\",\"negative\",\"negative\",\"negative\",\"negative\",\"negative\",\"negative\",\"negative\",\"negative\",\"negative\",\"negative\",\"negative\",\"negative\",\"negative\",\"negative\",\"negative\",\"negative\",\"negative\",\"negative\",\"negative\",\"negative\",\"negative\",\"negative\",\"negative\",\"negative\",\"negative\",\"negative\",\"negative\",\"negative\",\"negative\",\"negative\",\"negative\",\"negative\",\"negative\",\"negative\",\"negative\",\"negative\",\"negative\",\"negative\",\"negative\",\"negative\",\"negative\",\"negative\",\"negative\",\"negative\",\"negative\",\"negative\",\"negative\",\"negative\",\"negative\",\"negative\",\"negative\",\"negative\",\"negative\",\"negative\",\"negative\",\"negative\",\"negative\",\"negative\",\"negative\",\"negative\",\"negative\",\"negative\",\"negative\",\"negative\",\"negative\",\"negative\",\"negative\",\"negative\",\"negative\",\"negative\",\"negative\",\"negative\",\"negative\",\"negative\",\"negative\",\"negative\",\"negative\",\"negative\",\"negative\",\"negative\",\"negative\",\"negative\",\"negative\",\"negative\",\"negative\",\"negative\",\"negative\",\"negative\",\"negative\",\"negative\",\"negative\",\"negative\",\"negative\",\"negative\",\"negative\",\"negative\",\"negative\",\"negative\",\"negative\",\"negative\",\"negative\",\"negative\",\"negative\",\"negative\",\"negative\",\"negative\",\"negative\",\"negative\",\"negative\",\"negative\",\"negative\",\"negative\",\"negative\",\"negative\",\"negative\",\"negative\",\"negative\",\"negative\",\"negative\",\"negative\",\"negative\",\"negative\",\"negative\",\"negative\",\"negative\",\"negative\",\"negative\",\"negative\",\"negative\",\"negative\",\"negative\",\"negative\",\"negative\",\"negative\",\"negative\",\"negative\",\"negative\",\"negative\",\"negative\",\"negative\",\"negative\",\"negative\",\"negative\",\"negative\",\"negative\",\"negative\",\"negative\",\"negative\",\"negative\",\"negative\",\"negative\",\"negative\",\"negative\",\"negative\",\"negative\",\"negative\",\"negative\",\"negative\",\"negative\",\"negative\",\"negative\",\"negative\",\"negative\",\"negative\",\"negative\",\"negative\",\"negative\",\"negative\",\"negative\",\"negative\",\"negative\",\"negative\",\"negative\",\"negative\",\"negative\",\"negative\",\"negative\",\"negative\",\"negative\",\"negative\",\"negative\",\"negative\",\"negative\",\"negative\",\"negative\",\"negative\",\"negative\",\"negative\",\"negative\",\"negative\",\"negative\",\"negative\",\"negative\",\"negative\",\"negative\",\"negative\",\"negative\",\"negative\",\"negative\",\"negative\",\"negative\",\"negative\",\"negative\",\"negative\",\"negative\",\"negative\",\"negative\",\"negative\",\"negative\",\"negative\",\"negative\",\"negative\",\"negative\",\"negative\",\"negative\",\"negative\",\"negative\",\"negative\",\"negative\",\"negative\",\"negative\",\"negative\",\"negative\",\"negative\",\"negative\",\"negative\",\"negative\",\"negative\",\"negative\",\"negative\",\"negative\",\"negative\",\"negative\",\"negative\",\"negative\",\"negative\",\"negative\",\"negative\",\"negative\",\"negative\",\"negative\",\"negative\",\"negative\",\"negative\",\"negative\",\"negative\",\"negative\",\"negative\",\"negative\",\"negative\",\"negative\",\"negative\",\"negative\",\"negative\",\"negative\",\"negative\",\"negative\",\"negative\",\"negative\",\"negative\",\"negative\",\"negative\",\"negative\",\"negative\",\"negative\",\"negative\",\"negative\",\"negative\",\"negative\",\"negative\",\"negative\",\"negative\",\"negative\",\"negative\",\"negative\",\"negative\",\"negative\",\"negative\",\"negative\",\"negative\",\"negative\",\"negative\",\"negative\",\"negative\",\"negative\",\"negative\",\"negative\",\"negative\",\"negative\",\"negative\",\"negative\",\"negative\",\"negative\",\"negative\",\"negative\",\"negative\",\"negative\",\"negative\",\"negative\",\"negative\",\"negative\",\"negative\",\"negative\",\"negative\",\"negative\",\"negative\",\"negative\",\"negative\",\"negative\",\"negative\",\"negative\",\"negative\",\"negative\",\"negative\",\"negative\",\"negative\",\"negative\",\"negative\",\"negative\",\"negative\",\"negative\",\"negative\",\"negative\",\"negative\",\"negative\",\"negative\",\"negative\",\"negative\",\"negative\",\"negative\",\"negative\",\"negative\",\"negative\",\"negative\",\"negative\",\"negative\",\"negative\",\"negative\",\"negative\",\"negative\",\"negative\",\"negative\",\"negative\",\"negative\",\"negative\",\"negative\",\"negative\",\"negative\",\"negative\",\"negative\",\"negative\",\"negative\",\"negative\",\"negative\",\"negative\",\"negative\",\"negative\",\"negative\",\"negative\",\"negative\",\"negative\",\"negative\",\"negative\",\"negative\",\"negative\",\"negative\",\"negative\",\"negative\",\"negative\",\"negative\",\"negative\",\"negative\",\"negative\",\"negative\",\"negative\",\"negative\",\"negative\",\"negative\",\"negative\",\"negative\",\"negative\",\"negative\",\"negative\",\"negative\",\"negative\",\"negative\",\"negative\",\"negative\",\"negative\",\"negative\",\"negative\",\"negative\",\"negative\",\"negative\",\"negative\",\"negative\",\"negative\",\"negative\",\"negative\",\"negative\",\"negative\",\"negative\",\"negative\",\"negative\",\"negative\",\"negative\",\"negative\",\"negative\",\"negative\",\"negative\",\"negative\",\"negative\",\"negative\",\"negative\",\"negative\",\"negative\",\"negative\",\"negative\",\"negative\",\"negative\",\"negative\",\"negative\",\"negative\",\"negative\",\"negative\",\"negative\",\"negative\",\"negative\",\"negative\",\"negative\",\"negative\",\"negative\",\"negative\",\"negative\",\"negative\",\"negative\",\"negative\",\"negative\",\"negative\",\"negative\",\"negative\",\"negative\",\"negative\",\"negative\",\"negative\",\"negative\",\"negative\",\"negative\",\"negative\",\"negative\",\"negative\",\"negative\",\"negative\",\"negative\",\"negative\",\"negative\",\"negative\",\"negative\",\"negative\",\"negative\",\"negative\",\"negative\",\"negative\",\"negative\",\"negative\",\"negative\",\"negative\",\"negative\",\"negative\",\"negative\",\"negative\",\"negative\",\"negative\",\"negative\",\"negative\",\"negative\",\"negative\",\"negative\",\"negative\",\"negative\",\"negative\",\"negative\",\"negative\",\"negative\",\"negative\",\"negative\",\"negative\",\"negative\",\"negative\",\"negative\",\"negative\",\"negative\",\"negative\",\"negative\",\"negative\",\"negative\",\"negative\",\"negative\",\"negative\",\"negative\",\"negative\",\"negative\",\"negative\",\"negative\",\"negative\",\"negative\",\"negative\",\"negative\",\"negative\",\"negative\",\"negative\",\"negative\",\"negative\",\"negative\",\"negative\",\"negative\",\"negative\",\"negative\",\"negative\",\"negative\",\"negative\",\"negative\",\"negative\",\"negative\",\"negative\",\"negative\",\"negative\",\"negative\",\"negative\",\"negative\",\"negative\",\"negative\",\"negative\",\"negative\",\"negative\",\"negative\",\"negative\",\"negative\",\"negative\",\"negative\",\"negative\",\"negative\",\"negative\",\"negative\",\"negative\",\"negative\",\"negative\",\"negative\",\"negative\",\"negative\",\"negative\",\"negative\",\"negative\",\"negative\",\"negative\",\"negative\",\"negative\",\"negative\",\"negative\",\"negative\",\"negative\",\"negative\",\"negative\",\"negative\",\"negative\",\"negative\",\"negative\",\"negative\",\"negative\",\"negative\",\"negative\",\"negative\",\"negative\",\"negative\",\"negative\",\"negative\",\"negative\",\"negative\",\"negative\",\"negative\",\"negative\",\"negative\",\"negative\",\"negative\",\"negative\",\"negative\",\"negative\",\"negative\",\"negative\",\"negative\",\"negative\",\"negative\",\"negative\",\"negative\",\"negative\",\"negative\",\"negative\",\"negative\",\"negative\",\"negative\",\"negative\",\"negative\",\"negative\",\"negative\",\"negative\",\"negative\",\"negative\",\"negative\",\"negative\",\"negative\",\"negative\",\"negative\",\"negative\",\"negative\",\"negative\",\"negative\",\"negative\",\"negative\",\"negative\",\"negative\",\"negative\",\"negative\",\"negative\",\"negative\",\"negative\",\"negative\",\"negative\",\"negative\",\"negative\",\"negative\",\"negative\",\"negative\",\"negative\",\"negative\",\"negative\",\"negative\",\"negative\",\"negative\",\"negative\",\"negative\",\"negative\",\"negative\",\"negative\",\"negative\",\"negative\",\"negative\",\"negative\",\"negative\",\"negative\",\"negative\",\"negative\",\"negative\",\"negative\",\"negative\",\"negative\",\"negative\",\"negative\",\"negative\",\"negative\",\"negative\",\"negative\",\"negative\",\"negative\",\"negative\",\"negative\",\"negative\",\"negative\",\"negative\",\"negative\",\"negative\",\"negative\",\"negative\",\"negative\",\"negative\",\"negative\",\"negative\",\"negative\",\"negative\",\"negative\",\"negative\",\"negative\",\"negative\",\"negative\",\"negative\",\"negative\",\"negative\",\"negative\",\"negative\",\"negative\",\"negative\",\"negative\",\"negative\",\"negative\",\"negative\",\"negative\",\"neutral\",\"neutral\",\"neutral\",\"neutral\",\"neutral\",\"neutral\",\"neutral\",\"neutral\",\"neutral\",\"neutral\",\"neutral\",\"neutral\",\"neutral\",\"neutral\",\"neutral\",\"neutral\",\"neutral\",\"neutral\",\"neutral\",\"neutral\",\"neutral\",\"neutral\",\"neutral\",\"neutral\",\"neutral\",\"neutral\",\"neutral\",\"neutral\",\"neutral\",\"neutral\",\"neutral\",\"neutral\",\"neutral\",\"neutral\",\"neutral\",\"neutral\",\"neutral\",\"neutral\",\"neutral\",\"neutral\",\"neutral\",\"neutral\",\"neutral\",\"neutral\",\"neutral\",\"neutral\",\"neutral\",\"neutral\",\"neutral\",\"neutral\",\"neutral\",\"neutral\",\"neutral\",\"neutral\",\"neutral\",\"neutral\",\"neutral\",\"neutral\",\"neutral\",\"neutral\",\"neutral\",\"neutral\",\"neutral\",\"neutral\",\"neutral\",\"neutral\",\"neutral\",\"neutral\",\"neutral\",\"neutral\",\"neutral\",\"neutral\",\"neutral\",\"neutral\",\"neutral\",\"neutral\",\"neutral\",\"neutral\",\"neutral\",\"neutral\",\"neutral\",\"neutral\",\"neutral\",\"neutral\",\"neutral\",\"neutral\",\"neutral\",\"neutral\",\"neutral\",\"neutral\",\"neutral\",\"neutral\",\"neutral\",\"neutral\",\"neutral\",\"neutral\",\"neutral\",\"neutral\",\"neutral\",\"neutral\",\"neutral\",\"neutral\",\"neutral\",\"neutral\",\"neutral\",\"neutral\",\"neutral\",\"neutral\",\"neutral\",\"neutral\",\"neutral\",\"neutral\",\"neutral\",\"neutral\",\"neutral\",\"neutral\",\"neutral\",\"neutral\",\"neutral\",\"neutral\",\"neutral\",\"neutral\",\"neutral\",\"neutral\",\"neutral\",\"neutral\",\"neutral\",\"neutral\",\"neutral\",\"neutral\",\"neutral\",\"neutral\",\"neutral\",\"neutral\",\"neutral\",\"neutral\",\"neutral\",\"neutral\",\"neutral\",\"neutral\",\"neutral\",\"neutral\",\"neutral\",\"neutral\",\"neutral\",\"neutral\",\"neutral\",\"neutral\",\"neutral\",\"neutral\",\"neutral\",\"neutral\",\"neutral\",\"neutral\",\"neutral\",\"neutral\",\"neutral\",\"neutral\",\"neutral\",\"neutral\",\"neutral\",\"neutral\",\"neutral\",\"neutral\",\"neutral\",\"neutral\",\"neutral\",\"neutral\",\"neutral\",\"neutral\",\"neutral\",\"neutral\",\"neutral\",\"neutral\",\"neutral\",\"neutral\",\"neutral\",\"neutral\",\"neutral\",\"neutral\",\"neutral\",\"neutral\",\"neutral\",\"neutral\",\"neutral\",\"neutral\",\"neutral\",\"neutral\",\"neutral\",\"neutral\",\"neutral\",\"neutral\",\"neutral\",\"neutral\",\"neutral\",\"neutral\",\"neutral\",\"neutral\",\"neutral\",\"neutral\",\"neutral\",\"neutral\",\"neutral\",\"neutral\",\"neutral\",\"neutral\",\"neutral\",\"neutral\",\"neutral\",\"neutral\",\"neutral\",\"neutral\",\"neutral\",\"neutral\",\"neutral\",\"neutral\",\"neutral\",\"neutral\",\"neutral\",\"neutral\",\"neutral\",\"neutral\",\"neutral\",\"neutral\",\"neutral\",\"neutral\",\"neutral\",\"neutral\",\"neutral\",\"neutral\",\"neutral\",\"neutral\",\"neutral\",\"neutral\",\"neutral\",\"neutral\",\"neutral\",\"neutral\",\"neutral\",\"neutral\",\"neutral\",\"neutral\",\"neutral\",\"neutral\",\"neutral\",\"neutral\",\"neutral\",\"neutral\",\"neutral\",\"neutral\",\"neutral\",\"neutral\",\"neutral\",\"neutral\",\"neutral\",\"neutral\",\"neutral\",\"neutral\",\"neutral\",\"neutral\",\"neutral\",\"neutral\",\"neutral\",\"neutral\",\"neutral\",\"neutral\",\"neutral\",\"neutral\",\"neutral\",\"neutral\",\"neutral\",\"neutral\",\"neutral\",\"neutral\",\"neutral\",\"neutral\",\"neutral\",\"neutral\",\"neutral\",\"neutral\",\"neutral\",\"neutral\",\"neutral\",\"neutral\",\"neutral\",\"neutral\",\"neutral\",\"neutral\",\"neutral\",\"neutral\",\"neutral\",\"neutral\",\"neutral\",\"neutral\",\"neutral\",\"neutral\",\"neutral\",\"neutral\",\"neutral\",\"neutral\",\"neutral\",\"neutral\",\"neutral\",\"neutral\",\"neutral\",\"neutral\",\"neutral\",\"neutral\",\"neutral\",\"neutral\",\"neutral\",\"neutral\",\"neutral\",\"neutral\",\"neutral\",\"neutral\",\"neutral\",\"neutral\",\"neutral\",\"neutral\",\"neutral\",\"neutral\",\"neutral\",\"neutral\",\"neutral\",\"neutral\",\"neutral\",\"neutral\",\"neutral\",\"neutral\",\"neutral\",\"neutral\",\"neutral\",\"neutral\",\"neutral\",\"neutral\",\"neutral\",\"neutral\",\"neutral\",\"neutral\",\"neutral\",\"neutral\",\"neutral\",\"neutral\",\"neutral\",\"neutral\",\"neutral\",\"neutral\",\"neutral\",\"neutral\",\"neutral\",\"neutral\",\"neutral\",\"neutral\",\"neutral\",\"neutral\",\"neutral\",\"neutral\",\"neutral\",\"neutral\",\"neutral\",\"neutral\",\"neutral\",\"neutral\",\"neutral\",\"neutral\",\"neutral\",\"neutral\",\"neutral\",\"neutral\",\"neutral\",\"neutral\",\"neutral\",\"neutral\",\"neutral\",\"neutral\",\"neutral\",\"neutral\",\"neutral\",\"neutral\",\"neutral\",\"neutral\",\"neutral\",\"neutral\",\"neutral\",\"neutral\",\"neutral\",\"neutral\",\"neutral\",\"neutral\",\"neutral\",\"neutral\",\"neutral\",\"neutral\",\"neutral\",\"neutral\",\"neutral\",\"neutral\",\"neutral\",\"neutral\",\"neutral\",\"neutral\",\"neutral\",\"neutral\",\"neutral\",\"neutral\",\"neutral\",\"neutral\",\"neutral\",\"neutral\",\"neutral\",\"neutral\",\"neutral\",\"neutral\",\"neutral\",\"neutral\",\"neutral\",\"neutral\",\"neutral\",\"neutral\",\"neutral\",\"neutral\",\"neutral\",\"neutral\",\"neutral\",\"neutral\",\"neutral\",\"neutral\",\"neutral\",\"neutral\",\"neutral\",\"neutral\",\"neutral\",\"neutral\",\"neutral\",\"neutral\",\"neutral\",\"neutral\",\"neutral\",\"neutral\",\"neutral\",\"neutral\",\"neutral\",\"neutral\",\"neutral\",\"neutral\",\"neutral\",\"neutral\",\"neutral\",\"neutral\",\"neutral\",\"neutral\",\"neutral\",\"neutral\",\"neutral\",\"neutral\",\"neutral\",\"neutral\",\"neutral\",\"neutral\",\"neutral\",\"neutral\",\"neutral\",\"neutral\",\"neutral\",\"neutral\",\"neutral\",\"neutral\",\"neutral\",\"neutral\",\"neutral\",\"neutral\",\"neutral\",\"neutral\",\"neutral\",\"neutral\",\"neutral\",\"neutral\",\"neutral\",\"neutral\",\"neutral\",\"neutral\",\"neutral\",\"neutral\",\"neutral\",\"neutral\",\"neutral\",\"neutral\",\"neutral\",\"neutral\",\"neutral\",\"neutral\",\"neutral\",\"neutral\",\"neutral\",\"neutral\",\"neutral\",\"neutral\",\"neutral\",\"neutral\",\"neutral\",\"neutral\",\"neutral\",\"neutral\",\"neutral\",\"neutral\",\"neutral\",\"neutral\",\"neutral\",\"neutral\",\"neutral\",\"neutral\",\"neutral\",\"neutral\",\"neutral\",\"neutral\",\"neutral\",\"neutral\",\"neutral\",\"neutral\",\"neutral\",\"neutral\",\"neutral\",\"neutral\",\"neutral\",\"neutral\",\"neutral\",\"neutral\",\"neutral\",\"neutral\",\"neutral\",\"neutral\",\"neutral\",\"neutral\",\"neutral\",\"neutral\",\"neutral\",\"neutral\",\"neutral\",\"neutral\",\"neutral\",\"neutral\",\"neutral\",\"neutral\",\"neutral\",\"neutral\",\"neutral\",\"neutral\",\"neutral\",\"neutral\",\"neutral\",\"neutral\",\"neutral\",\"neutral\",\"neutral\",\"neutral\",\"neutral\",\"neutral\",\"neutral\",\"neutral\",\"neutral\",\"neutral\",\"neutral\",\"neutral\",\"neutral\",\"neutral\",\"neutral\",\"neutral\",\"neutral\",\"neutral\",\"neutral\",\"neutral\",\"neutral\",\"neutral\",\"neutral\",\"neutral\",\"neutral\",\"neutral\",\"neutral\",\"neutral\",\"neutral\",\"neutral\",\"neutral\",\"neutral\",\"neutral\",\"neutral\",\"neutral\",\"neutral\",\"neutral\",\"neutral\",\"neutral\",\"neutral\",\"neutral\",\"neutral\",\"neutral\",\"neutral\",\"neutral\",\"neutral\",\"neutral\",\"neutral\",\"neutral\",\"neutral\",\"neutral\",\"neutral\",\"neutral\",\"neutral\",\"neutral\",\"neutral\",\"neutral\",\"neutral\",\"neutral\",\"neutral\",\"neutral\",\"neutral\",\"neutral\",\"neutral\",\"neutral\",\"neutral\",\"neutral\",\"neutral\",\"neutral\",\"neutral\",\"neutral\",\"neutral\",\"neutral\",\"neutral\",\"neutral\",\"neutral\",\"neutral\",\"neutral\",\"neutral\",\"neutral\",\"neutral\",\"neutral\",\"neutral\",\"neutral\",\"neutral\",\"neutral\",\"neutral\",\"neutral\",\"neutral\",\"neutral\",\"neutral\",\"neutral\",\"neutral\",\"neutral\",\"neutral\",\"neutral\",\"neutral\",\"neutral\",\"neutral\",\"neutral\",\"neutral\",\"neutral\",\"neutral\",\"neutral\",\"neutral\",\"neutral\",\"neutral\",\"neutral\",\"neutral\",\"neutral\",\"neutral\",\"neutral\",\"neutral\",\"neutral\",\"neutral\",\"neutral\",\"neutral\",\"neutral\",\"neutral\",\"neutral\",\"neutral\",\"neutral\",\"neutral\",\"neutral\",\"neutral\",\"neutral\",\"neutral\",\"neutral\",\"neutral\",\"neutral\",\"neutral\",\"neutral\",\"neutral\",\"neutral\",\"neutral\",\"neutral\",\"neutral\",\"neutral\",\"neutral\",\"neutral\",\"neutral\",\"neutral\",\"neutral\",\"neutral\",\"neutral\",\"neutral\",\"neutral\",\"neutral\",\"neutral\",\"neutral\",\"neutral\",\"neutral\",\"neutral\",\"neutral\",\"neutral\",\"neutral\",\"neutral\",\"neutral\",\"neutral\",\"neutral\",\"neutral\",\"neutral\",\"neutral\",\"neutral\",\"neutral\",\"neutral\",\"neutral\",\"neutral\",\"neutral\",\"neutral\",\"neutral\",\"neutral\",\"neutral\",\"neutral\",\"neutral\",\"neutral\",\"neutral\",\"neutral\",\"neutral\",\"neutral\",\"neutral\",\"neutral\",\"neutral\",\"neutral\",\"neutral\",\"neutral\",\"neutral\",\"neutral\",\"neutral\",\"neutral\",\"neutral\",\"neutral\",\"neutral\",\"neutral\",\"neutral\",\"neutral\",\"neutral\",\"neutral\",\"neutral\",\"neutral\",\"neutral\",\"neutral\",\"neutral\",\"neutral\",\"neutral\",\"neutral\",\"neutral\",\"neutral\",\"neutral\",\"neutral\",\"neutral\",\"neutral\",\"neutral\",\"neutral\",\"neutral\",\"neutral\",\"neutral\",\"neutral\",\"neutral\",\"neutral\",\"neutral\",\"neutral\",\"neutral\",\"neutral\",\"neutral\",\"neutral\",\"neutral\",\"neutral\",\"neutral\",\"neutral\",\"neutral\",\"neutral\",\"neutral\",\"neutral\",\"neutral\",\"neutral\",\"neutral\",\"neutral\",\"neutral\",\"neutral\",\"neutral\",\"neutral\",\"neutral\",\"neutral\",\"neutral\",\"neutral\",\"neutral\",\"neutral\",\"neutral\",\"neutral\",\"neutral\",\"neutral\",\"neutral\",\"neutral\",\"neutral\",\"neutral\",\"neutral\",\"neutral\",\"neutral\",\"neutral\",\"neutral\",\"neutral\",\"neutral\",\"neutral\",\"neutral\",\"neutral\",\"neutral\",\"neutral\",\"neutral\",\"neutral\",\"neutral\",\"neutral\",\"neutral\",\"neutral\",\"neutral\",\"neutral\",\"neutral\",\"neutral\",\"neutral\",\"neutral\",\"neutral\",\"neutral\",\"neutral\",\"neutral\",\"neutral\",\"neutral\",\"neutral\",\"neutral\",\"neutral\",\"neutral\",\"neutral\",\"neutral\",\"neutral\",\"neutral\",\"neutral\",\"neutral\",\"neutral\",\"neutral\",\"neutral\",\"neutral\",\"neutral\",\"neutral\",\"neutral\",\"neutral\",\"neutral\",\"neutral\",\"neutral\",\"neutral\",\"neutral\",\"neutral\",\"neutral\",\"neutral\",\"neutral\",\"neutral\",\"neutral\",\"neutral\",\"neutral\",\"neutral\",\"neutral\",\"neutral\",\"neutral\",\"neutral\",\"neutral\",\"neutral\",\"neutral\",\"neutral\",\"neutral\",\"neutral\",\"neutral\",\"neutral\",\"neutral\",\"neutral\",\"neutral\",\"neutral\",\"neutral\",\"neutral\",\"neutral\",\"neutral\",\"neutral\",\"neutral\",\"neutral\",\"neutral\",\"neutral\",\"neutral\",\"neutral\",\"neutral\",\"neutral\",\"neutral\",\"neutral\",\"neutral\",\"neutral\",\"neutral\",\"neutral\",\"neutral\",\"neutral\",\"neutral\",\"neutral\",\"neutral\",\"neutral\",\"neutral\",\"neutral\",\"neutral\",\"neutral\",\"neutral\",\"neutral\",\"neutral\",\"neutral\",\"neutral\",\"neutral\",\"neutral\",\"neutral\",\"neutral\",\"neutral\",\"neutral\",\"neutral\",\"neutral\",\"neutral\",\"neutral\",\"neutral\",\"neutral\",\"neutral\",\"neutral\",\"neutral\",\"neutral\",\"neutral\",\"neutral\",\"neutral\",\"neutral\",\"neutral\",\"neutral\",\"neutral\",\"neutral\",\"neutral\",\"neutral\",\"neutral\",\"neutral\",\"neutral\",\"neutral\",\"neutral\",\"neutral\",\"neutral\",\"neutral\",\"neutral\",\"neutral\",\"neutral\",\"neutral\",\"neutral\",\"neutral\",\"neutral\",\"neutral\",\"neutral\",\"neutral\",\"neutral\",\"neutral\",\"neutral\",\"neutral\",\"neutral\",\"neutral\",\"neutral\",\"neutral\",\"neutral\",\"neutral\",\"neutral\",\"neutral\",\"neutral\",\"neutral\",\"neutral\",\"neutral\",\"neutral\",\"neutral\",\"neutral\",\"neutral\",\"neutral\",\"neutral\",\"neutral\",\"neutral\",\"neutral\",\"neutral\",\"neutral\",\"neutral\",\"neutral\",\"neutral\",\"neutral\",\"neutral\",\"neutral\",\"neutral\",\"neutral\",\"neutral\",\"neutral\",\"neutral\",\"neutral\",\"neutral\",\"neutral\",\"neutral\",\"neutral\",\"neutral\",\"neutral\",\"neutral\",\"neutral\",\"neutral\",\"neutral\",\"neutral\",\"neutral\",\"neutral\",\"neutral\",\"neutral\",\"neutral\",\"neutral\",\"neutral\",\"neutral\",\"neutral\",\"neutral\",\"neutral\",\"neutral\",\"neutral\",\"neutral\",\"neutral\",\"neutral\",\"neutral\",\"neutral\",\"neutral\",\"neutral\",\"neutral\",\"neutral\",\"neutral\",\"neutral\",\"neutral\",\"neutral\",\"neutral\",\"neutral\",\"neutral\",\"neutral\",\"neutral\",\"neutral\",\"neutral\",\"neutral\",\"neutral\",\"neutral\",\"neutral\",\"neutral\",\"neutral\",\"neutral\",\"neutral\",\"neutral\",\"neutral\",\"neutral\",\"neutral\",\"neutral\",\"neutral\",\"neutral\",\"neutral\",\"neutral\",\"neutral\",\"neutral\",\"neutral\",\"neutral\",\"neutral\",\"neutral\",\"neutral\",\"neutral\",\"neutral\",\"neutral\",\"neutral\",\"neutral\",\"neutral\",\"neutral\",\"neutral\",\"neutral\",\"neutral\",\"neutral\",\"neutral\",\"neutral\",\"neutral\",\"neutral\",\"neutral\",\"neutral\",\"neutral\",\"neutral\",\"neutral\",\"neutral\",\"neutral\",\"neutral\",\"neutral\",\"neutral\",\"neutral\",\"neutral\",\"neutral\",\"neutral\",\"neutral\",\"neutral\",\"neutral\",\"neutral\",\"neutral\",\"neutral\",\"neutral\",\"neutral\",\"neutral\",\"neutral\",\"neutral\",\"neutral\",\"neutral\",\"neutral\",\"neutral\",\"neutral\",\"neutral\",\"neutral\",\"neutral\",\"neutral\",\"neutral\",\"neutral\",\"neutral\",\"neutral\",\"neutral\",\"neutral\",\"neutral\",\"neutral\",\"neutral\",\"neutral\",\"neutral\",\"neutral\",\"neutral\",\"neutral\",\"neutral\",\"neutral\",\"neutral\",\"neutral\",\"neutral\",\"neutral\",\"neutral\",\"neutral\",\"neutral\",\"neutral\",\"neutral\",\"neutral\",\"neutral\",\"neutral\"],\"legendgroup\":\"\",\"name\":\"\",\"showlegend\":true,\"type\":\"pie\"}],                        {\"template\":{\"data\":{\"bar\":[{\"error_x\":{\"color\":\"#2a3f5f\"},\"error_y\":{\"color\":\"#2a3f5f\"},\"marker\":{\"line\":{\"color\":\"#E5ECF6\",\"width\":0.5},\"pattern\":{\"fillmode\":\"overlay\",\"size\":10,\"solidity\":0.2}},\"type\":\"bar\"}],\"barpolar\":[{\"marker\":{\"line\":{\"color\":\"#E5ECF6\",\"width\":0.5},\"pattern\":{\"fillmode\":\"overlay\",\"size\":10,\"solidity\":0.2}},\"type\":\"barpolar\"}],\"carpet\":[{\"aaxis\":{\"endlinecolor\":\"#2a3f5f\",\"gridcolor\":\"white\",\"linecolor\":\"white\",\"minorgridcolor\":\"white\",\"startlinecolor\":\"#2a3f5f\"},\"baxis\":{\"endlinecolor\":\"#2a3f5f\",\"gridcolor\":\"white\",\"linecolor\":\"white\",\"minorgridcolor\":\"white\",\"startlinecolor\":\"#2a3f5f\"},\"type\":\"carpet\"}],\"choropleth\":[{\"colorbar\":{\"outlinewidth\":0,\"ticks\":\"\"},\"type\":\"choropleth\"}],\"contour\":[{\"colorbar\":{\"outlinewidth\":0,\"ticks\":\"\"},\"colorscale\":[[0.0,\"#0d0887\"],[0.1111111111111111,\"#46039f\"],[0.2222222222222222,\"#7201a8\"],[0.3333333333333333,\"#9c179e\"],[0.4444444444444444,\"#bd3786\"],[0.5555555555555556,\"#d8576b\"],[0.6666666666666666,\"#ed7953\"],[0.7777777777777778,\"#fb9f3a\"],[0.8888888888888888,\"#fdca26\"],[1.0,\"#f0f921\"]],\"type\":\"contour\"}],\"contourcarpet\":[{\"colorbar\":{\"outlinewidth\":0,\"ticks\":\"\"},\"type\":\"contourcarpet\"}],\"heatmap\":[{\"colorbar\":{\"outlinewidth\":0,\"ticks\":\"\"},\"colorscale\":[[0.0,\"#0d0887\"],[0.1111111111111111,\"#46039f\"],[0.2222222222222222,\"#7201a8\"],[0.3333333333333333,\"#9c179e\"],[0.4444444444444444,\"#bd3786\"],[0.5555555555555556,\"#d8576b\"],[0.6666666666666666,\"#ed7953\"],[0.7777777777777778,\"#fb9f3a\"],[0.8888888888888888,\"#fdca26\"],[1.0,\"#f0f921\"]],\"type\":\"heatmap\"}],\"heatmapgl\":[{\"colorbar\":{\"outlinewidth\":0,\"ticks\":\"\"},\"colorscale\":[[0.0,\"#0d0887\"],[0.1111111111111111,\"#46039f\"],[0.2222222222222222,\"#7201a8\"],[0.3333333333333333,\"#9c179e\"],[0.4444444444444444,\"#bd3786\"],[0.5555555555555556,\"#d8576b\"],[0.6666666666666666,\"#ed7953\"],[0.7777777777777778,\"#fb9f3a\"],[0.8888888888888888,\"#fdca26\"],[1.0,\"#f0f921\"]],\"type\":\"heatmapgl\"}],\"histogram\":[{\"marker\":{\"pattern\":{\"fillmode\":\"overlay\",\"size\":10,\"solidity\":0.2}},\"type\":\"histogram\"}],\"histogram2d\":[{\"colorbar\":{\"outlinewidth\":0,\"ticks\":\"\"},\"colorscale\":[[0.0,\"#0d0887\"],[0.1111111111111111,\"#46039f\"],[0.2222222222222222,\"#7201a8\"],[0.3333333333333333,\"#9c179e\"],[0.4444444444444444,\"#bd3786\"],[0.5555555555555556,\"#d8576b\"],[0.6666666666666666,\"#ed7953\"],[0.7777777777777778,\"#fb9f3a\"],[0.8888888888888888,\"#fdca26\"],[1.0,\"#f0f921\"]],\"type\":\"histogram2d\"}],\"histogram2dcontour\":[{\"colorbar\":{\"outlinewidth\":0,\"ticks\":\"\"},\"colorscale\":[[0.0,\"#0d0887\"],[0.1111111111111111,\"#46039f\"],[0.2222222222222222,\"#7201a8\"],[0.3333333333333333,\"#9c179e\"],[0.4444444444444444,\"#bd3786\"],[0.5555555555555556,\"#d8576b\"],[0.6666666666666666,\"#ed7953\"],[0.7777777777777778,\"#fb9f3a\"],[0.8888888888888888,\"#fdca26\"],[1.0,\"#f0f921\"]],\"type\":\"histogram2dcontour\"}],\"mesh3d\":[{\"colorbar\":{\"outlinewidth\":0,\"ticks\":\"\"},\"type\":\"mesh3d\"}],\"parcoords\":[{\"line\":{\"colorbar\":{\"outlinewidth\":0,\"ticks\":\"\"}},\"type\":\"parcoords\"}],\"pie\":[{\"automargin\":true,\"type\":\"pie\"}],\"scatter\":[{\"marker\":{\"colorbar\":{\"outlinewidth\":0,\"ticks\":\"\"}},\"type\":\"scatter\"}],\"scatter3d\":[{\"line\":{\"colorbar\":{\"outlinewidth\":0,\"ticks\":\"\"}},\"marker\":{\"colorbar\":{\"outlinewidth\":0,\"ticks\":\"\"}},\"type\":\"scatter3d\"}],\"scattercarpet\":[{\"marker\":{\"colorbar\":{\"outlinewidth\":0,\"ticks\":\"\"}},\"type\":\"scattercarpet\"}],\"scattergeo\":[{\"marker\":{\"colorbar\":{\"outlinewidth\":0,\"ticks\":\"\"}},\"type\":\"scattergeo\"}],\"scattergl\":[{\"marker\":{\"colorbar\":{\"outlinewidth\":0,\"ticks\":\"\"}},\"type\":\"scattergl\"}],\"scattermapbox\":[{\"marker\":{\"colorbar\":{\"outlinewidth\":0,\"ticks\":\"\"}},\"type\":\"scattermapbox\"}],\"scatterpolar\":[{\"marker\":{\"colorbar\":{\"outlinewidth\":0,\"ticks\":\"\"}},\"type\":\"scatterpolar\"}],\"scatterpolargl\":[{\"marker\":{\"colorbar\":{\"outlinewidth\":0,\"ticks\":\"\"}},\"type\":\"scatterpolargl\"}],\"scatterternary\":[{\"marker\":{\"colorbar\":{\"outlinewidth\":0,\"ticks\":\"\"}},\"type\":\"scatterternary\"}],\"surface\":[{\"colorbar\":{\"outlinewidth\":0,\"ticks\":\"\"},\"colorscale\":[[0.0,\"#0d0887\"],[0.1111111111111111,\"#46039f\"],[0.2222222222222222,\"#7201a8\"],[0.3333333333333333,\"#9c179e\"],[0.4444444444444444,\"#bd3786\"],[0.5555555555555556,\"#d8576b\"],[0.6666666666666666,\"#ed7953\"],[0.7777777777777778,\"#fb9f3a\"],[0.8888888888888888,\"#fdca26\"],[1.0,\"#f0f921\"]],\"type\":\"surface\"}],\"table\":[{\"cells\":{\"fill\":{\"color\":\"#EBF0F8\"},\"line\":{\"color\":\"white\"}},\"header\":{\"fill\":{\"color\":\"#C8D4E3\"},\"line\":{\"color\":\"white\"}},\"type\":\"table\"}]},\"layout\":{\"annotationdefaults\":{\"arrowcolor\":\"#2a3f5f\",\"arrowhead\":0,\"arrowwidth\":1},\"autotypenumbers\":\"strict\",\"coloraxis\":{\"colorbar\":{\"outlinewidth\":0,\"ticks\":\"\"}},\"colorscale\":{\"diverging\":[[0,\"#8e0152\"],[0.1,\"#c51b7d\"],[0.2,\"#de77ae\"],[0.3,\"#f1b6da\"],[0.4,\"#fde0ef\"],[0.5,\"#f7f7f7\"],[0.6,\"#e6f5d0\"],[0.7,\"#b8e186\"],[0.8,\"#7fbc41\"],[0.9,\"#4d9221\"],[1,\"#276419\"]],\"sequential\":[[0.0,\"#0d0887\"],[0.1111111111111111,\"#46039f\"],[0.2222222222222222,\"#7201a8\"],[0.3333333333333333,\"#9c179e\"],[0.4444444444444444,\"#bd3786\"],[0.5555555555555556,\"#d8576b\"],[0.6666666666666666,\"#ed7953\"],[0.7777777777777778,\"#fb9f3a\"],[0.8888888888888888,\"#fdca26\"],[1.0,\"#f0f921\"]],\"sequentialminus\":[[0.0,\"#0d0887\"],[0.1111111111111111,\"#46039f\"],[0.2222222222222222,\"#7201a8\"],[0.3333333333333333,\"#9c179e\"],[0.4444444444444444,\"#bd3786\"],[0.5555555555555556,\"#d8576b\"],[0.6666666666666666,\"#ed7953\"],[0.7777777777777778,\"#fb9f3a\"],[0.8888888888888888,\"#fdca26\"],[1.0,\"#f0f921\"]]},\"colorway\":[\"#636efa\",\"#EF553B\",\"#00cc96\",\"#ab63fa\",\"#FFA15A\",\"#19d3f3\",\"#FF6692\",\"#B6E880\",\"#FF97FF\",\"#FECB52\"],\"font\":{\"color\":\"#2a3f5f\"},\"geo\":{\"bgcolor\":\"white\",\"lakecolor\":\"white\",\"landcolor\":\"#E5ECF6\",\"showlakes\":true,\"showland\":true,\"subunitcolor\":\"white\"},\"hoverlabel\":{\"align\":\"left\"},\"hovermode\":\"closest\",\"mapbox\":{\"style\":\"light\"},\"paper_bgcolor\":\"white\",\"plot_bgcolor\":\"#E5ECF6\",\"polar\":{\"angularaxis\":{\"gridcolor\":\"white\",\"linecolor\":\"white\",\"ticks\":\"\"},\"bgcolor\":\"#E5ECF6\",\"radialaxis\":{\"gridcolor\":\"white\",\"linecolor\":\"white\",\"ticks\":\"\"}},\"scene\":{\"xaxis\":{\"backgroundcolor\":\"#E5ECF6\",\"gridcolor\":\"white\",\"gridwidth\":2,\"linecolor\":\"white\",\"showbackground\":true,\"ticks\":\"\",\"zerolinecolor\":\"white\"},\"yaxis\":{\"backgroundcolor\":\"#E5ECF6\",\"gridcolor\":\"white\",\"gridwidth\":2,\"linecolor\":\"white\",\"showbackground\":true,\"ticks\":\"\",\"zerolinecolor\":\"white\"},\"zaxis\":{\"backgroundcolor\":\"#E5ECF6\",\"gridcolor\":\"white\",\"gridwidth\":2,\"linecolor\":\"white\",\"showbackground\":true,\"ticks\":\"\",\"zerolinecolor\":\"white\"}},\"shapedefaults\":{\"line\":{\"color\":\"#2a3f5f\"}},\"ternary\":{\"aaxis\":{\"gridcolor\":\"white\",\"linecolor\":\"white\",\"ticks\":\"\"},\"baxis\":{\"gridcolor\":\"white\",\"linecolor\":\"white\",\"ticks\":\"\"},\"bgcolor\":\"#E5ECF6\",\"caxis\":{\"gridcolor\":\"white\",\"linecolor\":\"white\",\"ticks\":\"\"}},\"title\":{\"x\":0.05},\"xaxis\":{\"automargin\":true,\"gridcolor\":\"white\",\"linecolor\":\"white\",\"ticks\":\"\",\"title\":{\"standoff\":15},\"zerolinecolor\":\"white\",\"zerolinewidth\":2},\"yaxis\":{\"automargin\":true,\"gridcolor\":\"white\",\"linecolor\":\"white\",\"ticks\":\"\",\"title\":{\"standoff\":15},\"zerolinecolor\":\"white\",\"zerolinewidth\":2}}},\"legend\":{\"tracegroupgap\":0},\"title\":{\"text\":\"Pie chart of different sentiments\"}},                        {\"responsive\": true}                    ).then(function(){\n",
              "                            \n",
              "var gd = document.getElementById('4f0b8d0c-67e0-48b8-a26a-c9dd3d0d00f7');\n",
              "var x = new MutationObserver(function (mutations, observer) {{\n",
              "        var display = window.getComputedStyle(gd).display;\n",
              "        if (!display || display === 'none') {{\n",
              "            console.log([gd, 'removed!']);\n",
              "            Plotly.purge(gd);\n",
              "            observer.disconnect();\n",
              "        }}\n",
              "}});\n",
              "\n",
              "// Listen for the removal of the full notebook cells\n",
              "var notebookContainer = gd.closest('#notebook-container');\n",
              "if (notebookContainer) {{\n",
              "    x.observe(notebookContainer, {childList: true});\n",
              "}}\n",
              "\n",
              "// Listen for the clearing of the current output cell\n",
              "var outputEl = gd.closest('.output');\n",
              "if (outputEl) {{\n",
              "    x.observe(outputEl, {childList: true});\n",
              "}}\n",
              "\n",
              "                        })                };                            </script>        </div>\n",
              "</body>\n",
              "</html>"
            ]
          },
          "metadata": {}
        }
      ]
    },
    {
      "cell_type": "code",
      "source": [
        "df.label.value_counts()"
      ],
      "metadata": {
        "colab": {
          "base_uri": "https://localhost:8080/"
        },
        "id": "RTna4abSBWEe",
        "outputId": "d65900d9-8fd2-487f-86ae-77bf9b560952"
      },
      "execution_count": 35,
      "outputs": [
        {
          "output_type": "execute_result",
          "data": {
            "text/plain": [
              "positive    1148\n",
              "negative    1148\n",
              "neutral     1148\n",
              "Name: label, dtype: int64"
            ]
          },
          "metadata": {},
          "execution_count": 35
        }
      ]
    },
    {
      "cell_type": "markdown",
      "metadata": {
        "id": "Dy3Lua2pyp3N"
      },
      "source": [
        "# **Text Normalization/Cleansing**"
      ]
    },
    {
      "cell_type": "markdown",
      "source": [
        "Cleansing data (sumber dari challenge sebelumnya)"
      ],
      "metadata": {
        "id": "qXjS23gEUhR6"
      }
    },
    {
      "cell_type": "code",
      "metadata": {
        "id": "v2EFU1P4ytFv"
      },
      "source": [
        "def lowercase(text):\n",
        "    return text.lower()\n",
        "\n",
        "def remove_unnecessary_char(text):\n",
        "    text = re.sub('\\n',' ',text) # Remove every '\\n'\n",
        "    text = re.sub('rt',' ',text) # Remove every retweet symbol\n",
        "    text = re.sub('user',' ',text) # Remove every username\n",
        "    text = re.sub('((www\\.[^\\s]+)|(https?://[^\\s]+)|(http?://[^\\s]+))',' ',text) # Remove every URL\n",
        "    text = re.sub('  +', ' ', text) # Remove extra spaces\n",
        "    return text\n",
        "    \n",
        "def remove_nonaplhanumeric(text):\n",
        "    text = re.sub('[^0-9a-zA-Z]+', ' ', text) \n",
        "    return text\n",
        "\n",
        "#merubah kata kata alay menjadi kata kata baku\n",
        "#def normalize_alay(text):\n",
        "    #return ' '.join([data_alay_new_map[word] if word in data_alay_new_map else word for word in text.split(' ')])\n",
        "def preprocess(text):\n",
        "    text = lowercase(text) # 1\n",
        "    text = remove_nonaplhanumeric(text) # 2\n",
        "    text = remove_unnecessary_char(text) # 2\n",
        "    #text = normalize_alay(text) # 3\n",
        "    return text\n"
      ],
      "execution_count": 19,
      "outputs": []
    },
    {
      "cell_type": "code",
      "source": [
        "df['text_clean'] = df.text.apply(preprocess)"
      ],
      "metadata": {
        "id": "cnzWqPeUyvoZ"
      },
      "execution_count": 20,
      "outputs": []
    },
    {
      "cell_type": "code",
      "source": [
        "df"
      ],
      "metadata": {
        "colab": {
          "base_uri": "https://localhost:8080/",
          "height": 424
        },
        "id": "FCDgbnp7yy_z",
        "outputId": "345155eb-b630-4e74-8134-dd6e942718d0"
      },
      "execution_count": 22,
      "outputs": [
        {
          "output_type": "execute_result",
          "data": {
            "text/plain": [
              "                                                    text     label  \\\n",
              "1666   ribuan menu ada di sini ! tinggal pilih , pesa...  positive   \n",
              "1631   resto ini salah satu kesukaan saya kalau lagi ...  positive   \n",
              "1609   sate kambing ini rasanya beda dengan tempat la...  positive   \n",
              "8921   dulu awal ke warung mi ini secara tidak sengaj...  positive   \n",
              "1061                                         tidak kesal  positive   \n",
              "...                                                  ...       ...   \n",
              "10925  pkb benarkan charly setia band daftar jadi caw...   neutral   \n",
              "10967  pernah percaya kalau body lotion citra bikin b...   neutral   \n",
              "10969  bu susi marah , menteri luhut perbolehkan kapa...   neutral   \n",
              "10993  f - demokrat dorong upaya kemandirian energi n...   neutral   \n",
              "10997        hormati partai-partai yang telah berkoalisi   neutral   \n",
              "\n",
              "                                              text_clean  \n",
              "1666   ribuan menu ada di sini tinggal pilih pesan ba...  \n",
              "1631   resto ini salah satu kesukaan saya kalau lagi ...  \n",
              "1609   sate kambing ini rasanya beda dengan tempat la...  \n",
              "8921   dulu awal ke warung mi ini secara tidak sengaj...  \n",
              "1061                                         tidak kesal  \n",
              "...                                                  ...  \n",
              "10925  pkb benarkan charly setia band daftar jadi caw...  \n",
              "10967  pernah percaya kalau body lotion citra bikin b...  \n",
              "10969  bu susi marah menteri luhut perbolehkan kapal ...  \n",
              "10993  f demokrat dorong upaya kemandirian energi nas...  \n",
              "10997          hormati pa ai pa ai yang telah berkoalisi  \n",
              "\n",
              "[3444 rows x 3 columns]"
            ],
            "text/html": [
              "\n",
              "  <div id=\"df-fc7b0875-5739-4b7a-b910-86456da1fc8f\">\n",
              "    <div class=\"colab-df-container\">\n",
              "      <div>\n",
              "<style scoped>\n",
              "    .dataframe tbody tr th:only-of-type {\n",
              "        vertical-align: middle;\n",
              "    }\n",
              "\n",
              "    .dataframe tbody tr th {\n",
              "        vertical-align: top;\n",
              "    }\n",
              "\n",
              "    .dataframe thead th {\n",
              "        text-align: right;\n",
              "    }\n",
              "</style>\n",
              "<table border=\"1\" class=\"dataframe\">\n",
              "  <thead>\n",
              "    <tr style=\"text-align: right;\">\n",
              "      <th></th>\n",
              "      <th>text</th>\n",
              "      <th>label</th>\n",
              "      <th>text_clean</th>\n",
              "    </tr>\n",
              "  </thead>\n",
              "  <tbody>\n",
              "    <tr>\n",
              "      <th>1666</th>\n",
              "      <td>ribuan menu ada di sini ! tinggal pilih , pesa...</td>\n",
              "      <td>positive</td>\n",
              "      <td>ribuan menu ada di sini tinggal pilih pesan ba...</td>\n",
              "    </tr>\n",
              "    <tr>\n",
              "      <th>1631</th>\n",
              "      <td>resto ini salah satu kesukaan saya kalau lagi ...</td>\n",
              "      <td>positive</td>\n",
              "      <td>resto ini salah satu kesukaan saya kalau lagi ...</td>\n",
              "    </tr>\n",
              "    <tr>\n",
              "      <th>1609</th>\n",
              "      <td>sate kambing ini rasanya beda dengan tempat la...</td>\n",
              "      <td>positive</td>\n",
              "      <td>sate kambing ini rasanya beda dengan tempat la...</td>\n",
              "    </tr>\n",
              "    <tr>\n",
              "      <th>8921</th>\n",
              "      <td>dulu awal ke warung mi ini secara tidak sengaj...</td>\n",
              "      <td>positive</td>\n",
              "      <td>dulu awal ke warung mi ini secara tidak sengaj...</td>\n",
              "    </tr>\n",
              "    <tr>\n",
              "      <th>1061</th>\n",
              "      <td>tidak kesal</td>\n",
              "      <td>positive</td>\n",
              "      <td>tidak kesal</td>\n",
              "    </tr>\n",
              "    <tr>\n",
              "      <th>...</th>\n",
              "      <td>...</td>\n",
              "      <td>...</td>\n",
              "      <td>...</td>\n",
              "    </tr>\n",
              "    <tr>\n",
              "      <th>10925</th>\n",
              "      <td>pkb benarkan charly setia band daftar jadi caw...</td>\n",
              "      <td>neutral</td>\n",
              "      <td>pkb benarkan charly setia band daftar jadi caw...</td>\n",
              "    </tr>\n",
              "    <tr>\n",
              "      <th>10967</th>\n",
              "      <td>pernah percaya kalau body lotion citra bikin b...</td>\n",
              "      <td>neutral</td>\n",
              "      <td>pernah percaya kalau body lotion citra bikin b...</td>\n",
              "    </tr>\n",
              "    <tr>\n",
              "      <th>10969</th>\n",
              "      <td>bu susi marah , menteri luhut perbolehkan kapa...</td>\n",
              "      <td>neutral</td>\n",
              "      <td>bu susi marah menteri luhut perbolehkan kapal ...</td>\n",
              "    </tr>\n",
              "    <tr>\n",
              "      <th>10993</th>\n",
              "      <td>f - demokrat dorong upaya kemandirian energi n...</td>\n",
              "      <td>neutral</td>\n",
              "      <td>f demokrat dorong upaya kemandirian energi nas...</td>\n",
              "    </tr>\n",
              "    <tr>\n",
              "      <th>10997</th>\n",
              "      <td>hormati partai-partai yang telah berkoalisi</td>\n",
              "      <td>neutral</td>\n",
              "      <td>hormati pa ai pa ai yang telah berkoalisi</td>\n",
              "    </tr>\n",
              "  </tbody>\n",
              "</table>\n",
              "<p>3444 rows × 3 columns</p>\n",
              "</div>\n",
              "      <button class=\"colab-df-convert\" onclick=\"convertToInteractive('df-fc7b0875-5739-4b7a-b910-86456da1fc8f')\"\n",
              "              title=\"Convert this dataframe to an interactive table.\"\n",
              "              style=\"display:none;\">\n",
              "        \n",
              "  <svg xmlns=\"http://www.w3.org/2000/svg\" height=\"24px\"viewBox=\"0 0 24 24\"\n",
              "       width=\"24px\">\n",
              "    <path d=\"M0 0h24v24H0V0z\" fill=\"none\"/>\n",
              "    <path d=\"M18.56 5.44l.94 2.06.94-2.06 2.06-.94-2.06-.94-.94-2.06-.94 2.06-2.06.94zm-11 1L8.5 8.5l.94-2.06 2.06-.94-2.06-.94L8.5 2.5l-.94 2.06-2.06.94zm10 10l.94 2.06.94-2.06 2.06-.94-2.06-.94-.94-2.06-.94 2.06-2.06.94z\"/><path d=\"M17.41 7.96l-1.37-1.37c-.4-.4-.92-.59-1.43-.59-.52 0-1.04.2-1.43.59L10.3 9.45l-7.72 7.72c-.78.78-.78 2.05 0 2.83L4 21.41c.39.39.9.59 1.41.59.51 0 1.02-.2 1.41-.59l7.78-7.78 2.81-2.81c.8-.78.8-2.07 0-2.86zM5.41 20L4 18.59l7.72-7.72 1.47 1.35L5.41 20z\"/>\n",
              "  </svg>\n",
              "      </button>\n",
              "      \n",
              "  <style>\n",
              "    .colab-df-container {\n",
              "      display:flex;\n",
              "      flex-wrap:wrap;\n",
              "      gap: 12px;\n",
              "    }\n",
              "\n",
              "    .colab-df-convert {\n",
              "      background-color: #E8F0FE;\n",
              "      border: none;\n",
              "      border-radius: 50%;\n",
              "      cursor: pointer;\n",
              "      display: none;\n",
              "      fill: #1967D2;\n",
              "      height: 32px;\n",
              "      padding: 0 0 0 0;\n",
              "      width: 32px;\n",
              "    }\n",
              "\n",
              "    .colab-df-convert:hover {\n",
              "      background-color: #E2EBFA;\n",
              "      box-shadow: 0px 1px 2px rgba(60, 64, 67, 0.3), 0px 1px 3px 1px rgba(60, 64, 67, 0.15);\n",
              "      fill: #174EA6;\n",
              "    }\n",
              "\n",
              "    [theme=dark] .colab-df-convert {\n",
              "      background-color: #3B4455;\n",
              "      fill: #D2E3FC;\n",
              "    }\n",
              "\n",
              "    [theme=dark] .colab-df-convert:hover {\n",
              "      background-color: #434B5C;\n",
              "      box-shadow: 0px 1px 3px 1px rgba(0, 0, 0, 0.15);\n",
              "      filter: drop-shadow(0px 1px 2px rgba(0, 0, 0, 0.3));\n",
              "      fill: #FFFFFF;\n",
              "    }\n",
              "  </style>\n",
              "\n",
              "      <script>\n",
              "        const buttonEl =\n",
              "          document.querySelector('#df-fc7b0875-5739-4b7a-b910-86456da1fc8f button.colab-df-convert');\n",
              "        buttonEl.style.display =\n",
              "          google.colab.kernel.accessAllowed ? 'block' : 'none';\n",
              "\n",
              "        async function convertToInteractive(key) {\n",
              "          const element = document.querySelector('#df-fc7b0875-5739-4b7a-b910-86456da1fc8f');\n",
              "          const dataTable =\n",
              "            await google.colab.kernel.invokeFunction('convertToInteractive',\n",
              "                                                     [key], {});\n",
              "          if (!dataTable) return;\n",
              "\n",
              "          const docLinkHtml = 'Like what you see? Visit the ' +\n",
              "            '<a target=\"_blank\" href=https://colab.research.google.com/notebooks/data_table.ipynb>data table notebook</a>'\n",
              "            + ' to learn more about interactive tables.';\n",
              "          element.innerHTML = '';\n",
              "          dataTable['output_type'] = 'display_data';\n",
              "          await google.colab.output.renderOutput(dataTable, element);\n",
              "          const docLink = document.createElement('div');\n",
              "          docLink.innerHTML = docLinkHtml;\n",
              "          element.appendChild(docLink);\n",
              "        }\n",
              "      </script>\n",
              "    </div>\n",
              "  </div>\n",
              "  "
            ]
          },
          "metadata": {},
          "execution_count": 22
        }
      ]
    },
    {
      "cell_type": "markdown",
      "source": [
        "#Sortir Data Berdasarkan 3 Sentimen"
      ],
      "metadata": {
        "id": "f1BLe01yTCtH"
      }
    },
    {
      "cell_type": "code",
      "source": [
        "neg = df.loc[df['label'] == 'negative'].text_clean.tolist()\n",
        "neu = df.loc[df['label'] == 'neutral'].text_clean.tolist()\n",
        "pos = df.loc[df['label'] == 'positive'].text_clean.tolist()\n",
        "\n",
        "neg_label = df.loc[df['label'] == 'negative'].label.tolist()\n",
        "neu_label = df.loc[df['label'] == 'neutral'].label.tolist()\n",
        "pos_label = df.loc[df['label'] == 'positive'].label.tolist()\n",
        "\n",
        "total_data = pos + neu + neg\n",
        "labels = pos_label + neu_label + neg_label\n",
        "\n",
        "print('Pos: %s, Neu: %s, Neg: %s' % (len(pos), len(neu), len(neg)))\n",
        "print('Total data: %s' % len(total_data))\n"
      ],
      "metadata": {
        "colab": {
          "base_uri": "https://localhost:8080/"
        },
        "id": "ISbnXSqUzDLR",
        "outputId": "f6d45fdc-ad6e-4d72-c12d-72545d4ba5d0"
      },
      "execution_count": 23,
      "outputs": [
        {
          "output_type": "stream",
          "name": "stdout",
          "text": [
            "Pos: 1148, Neu: 1148, Neg: 1148\n",
            "Total data: 3444\n"
          ]
        }
      ]
    },
    {
      "cell_type": "markdown",
      "source": [
        "#Feature Extraction"
      ],
      "metadata": {
        "id": "8MJ_AiL7LcuM"
      }
    },
    {
      "cell_type": "code",
      "source": [
        "max_features = 100000\n",
        "tokenizer = Tokenizer(num_words=max_features, split=' ', lower=True)\n",
        "tokenizer.fit_on_texts(total_data)\n",
        "with open('tokenizer.pickle', 'wb') as handle:\n",
        "  pickle.dump(tokenizer, handle, protocol=pickle.HIGHEST_PROTOCOL)\n",
        "  print('tokenizer.pickle has created!')\n",
        "\n",
        "X = tokenizer.texts_to_sequences(total_data)\n",
        "\n",
        "vocab_size = len(tokenizer.word_index)\n",
        "maxlen = max(len(x) for x in X)\n",
        "\n",
        "X = pad_sequences(X)\n",
        "with open('x_pad_sequences.pickle','wb') as handle:\n",
        "  pickle.dump(X, handle, protocol=pickle.HIGHEST_PROTOCOL)\n",
        "  print('x_pad_sequences.pickle has created!')"
      ],
      "metadata": {
        "colab": {
          "base_uri": "https://localhost:8080/"
        },
        "id": "CRJO-LsY0zjW",
        "outputId": "4f734841-90c4-4e14-c3d3-7804eb572e95"
      },
      "execution_count": 24,
      "outputs": [
        {
          "output_type": "stream",
          "name": "stdout",
          "text": [
            "tokenizer.pickle has created!\n",
            "x_pad_sequences.pickle has created!\n"
          ]
        }
      ]
    },
    {
      "cell_type": "code",
      "source": [
        "X"
      ],
      "metadata": {
        "colab": {
          "base_uri": "https://localhost:8080/"
        },
        "id": "fu0QGh2-5Qn1",
        "outputId": "d2226322-428f-43a7-c1af-83ed73b2a708"
      },
      "execution_count": 25,
      "outputs": [
        {
          "output_type": "execute_result",
          "data": {
            "text/plain": [
              "array([[    0,     0,     0, ...,   156,  2476,     1],\n",
              "       [    0,     0,     0, ...,     1,    16,    10],\n",
              "       [    0,     0,     0, ...,     7,  1384,    10],\n",
              "       ...,\n",
              "       [    0,     0,     0, ..., 10059, 10060,     1],\n",
              "       [    0,     0,     0, ...,    81,  3194,    30],\n",
              "       [    0,     0,     0, ...,    42,  2049,   224]], dtype=int32)"
            ]
          },
          "metadata": {},
          "execution_count": 25
        }
      ]
    },
    {
      "cell_type": "code",
      "source": [
        "Y = pd.get_dummies(labels)\n",
        "Y = Y.values\n",
        "\n",
        "with open('y_labels.pickle', 'wb') as handle:\n",
        "  pickle.dump(Y, handle, protocol=pickle.HIGHEST_PROTOCOL)\n",
        "  print('y_labels.pickle has created!')"
      ],
      "metadata": {
        "colab": {
          "base_uri": "https://localhost:8080/"
        },
        "id": "uunljpde2d-6",
        "outputId": "bfd94b7e-db27-4625-c052-f6cd71b5efc4"
      },
      "execution_count": 26,
      "outputs": [
        {
          "output_type": "stream",
          "name": "stdout",
          "text": [
            "y_labels.pickle has created!\n"
          ]
        }
      ]
    },
    {
      "cell_type": "code",
      "source": [
        "Y"
      ],
      "metadata": {
        "colab": {
          "base_uri": "https://localhost:8080/"
        },
        "id": "JQCKI87x5WuH",
        "outputId": "6ff04d5b-6d43-4cd3-82cd-b39f69cdb5b4"
      },
      "execution_count": 27,
      "outputs": [
        {
          "output_type": "execute_result",
          "data": {
            "text/plain": [
              "array([[0, 0, 1],\n",
              "       [0, 0, 1],\n",
              "       [0, 0, 1],\n",
              "       ...,\n",
              "       [1, 0, 0],\n",
              "       [1, 0, 0],\n",
              "       [1, 0, 0]], dtype=uint8)"
            ]
          },
          "metadata": {},
          "execution_count": 27
        }
      ]
    },
    {
      "cell_type": "markdown",
      "source": [
        "#Split Dataset For Training & Testing"
      ],
      "metadata": {
        "id": "Ons0HN3_Nlcq"
      }
    },
    {
      "cell_type": "code",
      "source": [
        "file = open('x_pad_sequences.pickle','rb')\n",
        "X = pickle.load(file)\n",
        "file.close()\n",
        "\n",
        "file = open('y_labels.pickle','rb')\n",
        "Y = pickle.load(file)\n",
        "file.close()\n",
        "\n",
        "X_train, X_test, y_train, y_test = train_test_split(X, Y, test_size=0.2, random_state=1)"
      ],
      "metadata": {
        "id": "_NGRaDhX3Ize"
      },
      "execution_count": 28,
      "outputs": []
    },
    {
      "cell_type": "markdown",
      "source": [
        "#Training (LSTM)"
      ],
      "metadata": {
        "id": "WFKVB7EcNzvw"
      }
    },
    {
      "cell_type": "code",
      "source": [
        "embed_dim = 100\n",
        "units = 64\n",
        "\n",
        "model = Sequential()\n",
        "model.add(Embedding(max_features, embed_dim, input_length=X.shape[1]))\n",
        "model.add(LSTM(units, dropout=0.2))\n",
        "model.add(Dense(3, activation='softmax'))\n",
        "model.compile(loss = 'binary_crossentropy', optimizer='adam', metrics = ['accuracy'])\n",
        "print(model.summary())\n",
        "\n",
        "adam = optimizers.Adam(learning_rate = 0.001)\n",
        "model.compile(loss = 'categorical_crossentropy', optimizer = adam, metrics = ['accuracy'])\n",
        "\n",
        "#es = EarlyStopping(monitor='val_loss', mode='min', verbose=1)\n",
        "history = model.fit(X_train, y_train, epochs=10, batch_size=10, validation_data=(X_test, y_test), verbose=1)"
      ],
      "metadata": {
        "colab": {
          "base_uri": "https://localhost:8080/"
        },
        "id": "pmlAJBBb4crQ",
        "outputId": "9a126a08-5ec4-4ab8-a8c7-4297763721a5"
      },
      "execution_count": 29,
      "outputs": [
        {
          "output_type": "stream",
          "name": "stdout",
          "text": [
            "Model: \"sequential\"\n",
            "_________________________________________________________________\n",
            " Layer (type)                Output Shape              Param #   \n",
            "=================================================================\n",
            " embedding (Embedding)       (None, 80, 100)           10000000  \n",
            "                                                                 \n",
            " lstm (LSTM)                 (None, 64)                42240     \n",
            "                                                                 \n",
            " dense (Dense)               (None, 3)                 195       \n",
            "                                                                 \n",
            "=================================================================\n",
            "Total params: 10,042,435\n",
            "Trainable params: 10,042,435\n",
            "Non-trainable params: 0\n",
            "_________________________________________________________________\n",
            "None\n",
            "Epoch 1/10\n",
            "276/276 [==============================] - 10s 14ms/step - loss: 0.7124 - accuracy: 0.6889 - val_loss: 0.5079 - val_accuracy: 0.8113\n",
            "Epoch 2/10\n",
            "276/276 [==============================] - 3s 12ms/step - loss: 0.3066 - accuracy: 0.8976 - val_loss: 0.4710 - val_accuracy: 0.8447\n",
            "Epoch 3/10\n",
            "276/276 [==============================] - 3s 12ms/step - loss: 0.1165 - accuracy: 0.9623 - val_loss: 0.5771 - val_accuracy: 0.8345\n",
            "Epoch 4/10\n",
            "276/276 [==============================] - 3s 12ms/step - loss: 0.0554 - accuracy: 0.9815 - val_loss: 0.6396 - val_accuracy: 0.7968\n",
            "Epoch 5/10\n",
            "276/276 [==============================] - 3s 12ms/step - loss: 0.0329 - accuracy: 0.9877 - val_loss: 0.6763 - val_accuracy: 0.8229\n",
            "Epoch 6/10\n",
            "276/276 [==============================] - 3s 12ms/step - loss: 0.0242 - accuracy: 0.9924 - val_loss: 0.7314 - val_accuracy: 0.8316\n",
            "Epoch 7/10\n",
            "276/276 [==============================] - 3s 12ms/step - loss: 0.0287 - accuracy: 0.9906 - val_loss: 0.7152 - val_accuracy: 0.8215\n",
            "Epoch 8/10\n",
            "276/276 [==============================] - 3s 12ms/step - loss: 0.0117 - accuracy: 0.9960 - val_loss: 0.8334 - val_accuracy: 0.8244\n",
            "Epoch 9/10\n",
            "276/276 [==============================] - 3s 12ms/step - loss: 0.0200 - accuracy: 0.9938 - val_loss: 0.8437 - val_accuracy: 0.8041\n",
            "Epoch 10/10\n",
            "276/276 [==============================] - 3s 12ms/step - loss: 0.0213 - accuracy: 0.9917 - val_loss: 0.8164 - val_accuracy: 0.7910\n"
          ]
        }
      ]
    },
    {
      "cell_type": "markdown",
      "source": [
        "#Evaluation"
      ],
      "metadata": {
        "id": "6JYOCssZN9-o"
      }
    },
    {
      "cell_type": "code",
      "source": [
        "predictions = model.predict(X_test)\n",
        "y_pred = predictions\n",
        "matrix_test = metrics.classification_report(y_test.argmax(axis=1), y_pred.argmax(axis=1))\n",
        "print('Testing selesai')\n",
        "print(matrix_test)"
      ],
      "metadata": {
        "colab": {
          "base_uri": "https://localhost:8080/"
        },
        "id": "lCQ5dky856jE",
        "outputId": "988748e2-7c34-4ae8-a471-3c2833fc6076"
      },
      "execution_count": 30,
      "outputs": [
        {
          "output_type": "stream",
          "name": "stdout",
          "text": [
            "22/22 [==============================] - 0s 3ms/step\n",
            "Testing selesai\n",
            "              precision    recall  f1-score   support\n",
            "\n",
            "           0       0.79      0.70      0.74       232\n",
            "           1       0.78      0.87      0.82       218\n",
            "           2       0.81      0.80      0.81       239\n",
            "\n",
            "    accuracy                           0.79       689\n",
            "   macro avg       0.79      0.79      0.79       689\n",
            "weighted avg       0.79      0.79      0.79       689\n",
            "\n"
          ]
        }
      ]
    },
    {
      "cell_type": "markdown",
      "source": [
        "#Cross Validation"
      ],
      "metadata": {
        "id": "Z16sgjbhODiS"
      }
    },
    {
      "cell_type": "code",
      "source": [
        "kf = KFold(n_splits=5,random_state=42,shuffle=True)\n",
        "\n",
        "accuracies = []\n",
        "\n",
        "y = Y\n",
        "\n",
        "embed_dim = 100\n",
        "units = 64\n",
        "\n",
        "for iteration, data in enumerate(kf.split(X), start=1):\n",
        "\n",
        "    data_train   = X[data[0]]\n",
        "    target_train = y[data[0]]\n",
        "\n",
        "    data_test    = X[data[1]]\n",
        "    target_test  = y[data[1]]\n",
        "\n",
        "    model = Sequential()\n",
        "    model.add(Embedding(max_features, embed_dim, input_length=X.shape[1]))\n",
        "    model.add(LSTM(units, dropout=0.2))\n",
        "    model.add(Dense(3,activation='softmax'))\n",
        "    model.compile(loss = 'binary_crossentropy', optimizer='adam', metrics = ['accuracy'])\n",
        "\n",
        "    adam = optimizers.Adam(learning_rate = 0.001)\n",
        "    model.compile(loss = 'categorical_crossentropy', optimizer = adam, metrics = ['accuracy'])\n",
        "\n",
        "    #es = EarlyStopping(monitor='val_loss', mode='min', verbose=1)\n",
        "    history = model.fit(X_train, y_train, epochs=10, batch_size=10, validation_data=(X_test, y_test), verbose=1)\n",
        "\n",
        "    predictions = model.predict(X_test)\n",
        "    y_pred = predictions\n",
        "\n",
        "    accuracy = accuracy_score(y_test.argmax(axis=1), y_pred.argmax(axis=1))\n",
        "\n",
        "    print(\"Training ke-\", iteration)\n",
        "    print(classification_report(y_test.argmax(axis=1), y_pred.argmax(axis=1)))\n",
        "    print(\"======================================================\")\n",
        "\n",
        "    accuracies.append(accuracy)\n",
        "\n",
        "# this is the average accuracy over all folds\n",
        "average_accuracy = np.mean(accuracies)\n",
        "\n",
        "print()\n",
        "print()\n",
        "print()\n",
        "print(\"Rata-rata Accuracy: \", average_accuracy)\n"
      ],
      "metadata": {
        "colab": {
          "base_uri": "https://localhost:8080/"
        },
        "id": "xd9fjdJFFNiZ",
        "outputId": "f8a3f943-c660-47f6-81c9-b8d8f69f899b"
      },
      "execution_count": null,
      "outputs": [
        {
          "output_type": "stream",
          "name": "stdout",
          "text": [
            "Epoch 1/10\n",
            "880/880 [==============================] - 13s 14ms/step - loss: 0.4550 - accuracy: 0.8173 - val_loss: 0.3353 - val_accuracy: 0.8800\n",
            "Epoch 2/10\n",
            "880/880 [==============================] - 11s 12ms/step - loss: 0.2019 - accuracy: 0.9272 - val_loss: 0.3413 - val_accuracy: 0.8709\n",
            "Epoch 3/10\n",
            "880/880 [==============================] - 11s 13ms/step - loss: 0.1044 - accuracy: 0.9589 - val_loss: 0.4135 - val_accuracy: 0.8655\n",
            "Epoch 4/10\n",
            "880/880 [==============================] - 11s 13ms/step - loss: 0.0659 - accuracy: 0.9756 - val_loss: 0.4595 - val_accuracy: 0.8718\n",
            "Epoch 5/10\n",
            "880/880 [==============================] - 11s 13ms/step - loss: 0.0388 - accuracy: 0.9858 - val_loss: 0.5611 - val_accuracy: 0.8664\n",
            "Epoch 6/10\n",
            "880/880 [==============================] - 11s 13ms/step - loss: 0.0308 - accuracy: 0.9908 - val_loss: 0.5937 - val_accuracy: 0.8673\n",
            "Epoch 7/10\n",
            "880/880 [==============================] - 11s 13ms/step - loss: 0.0182 - accuracy: 0.9942 - val_loss: 0.6668 - val_accuracy: 0.8736\n",
            "Epoch 8/10\n",
            "880/880 [==============================] - 11s 13ms/step - loss: 0.0175 - accuracy: 0.9945 - val_loss: 0.6881 - val_accuracy: 0.8655\n",
            "Epoch 9/10\n",
            "880/880 [==============================] - 11s 13ms/step - loss: 0.0089 - accuracy: 0.9970 - val_loss: 0.7177 - val_accuracy: 0.8686\n",
            "Epoch 10/10\n",
            "880/880 [==============================] - 11s 13ms/step - loss: 0.0026 - accuracy: 0.9993 - val_loss: 0.8692 - val_accuracy: 0.8718\n",
            "69/69 [==============================] - 1s 4ms/step\n",
            "Training ke- 1\n",
            "              precision    recall  f1-score   support\n",
            "\n",
            "           0       0.82      0.83      0.82       685\n",
            "           1       0.83      0.70      0.76       233\n",
            "           2       0.91      0.92      0.92      1282\n",
            "\n",
            "    accuracy                           0.87      2200\n",
            "   macro avg       0.85      0.82      0.83      2200\n",
            "weighted avg       0.87      0.87      0.87      2200\n",
            "\n",
            "======================================================\n",
            "Epoch 1/10\n",
            "880/880 [==============================] - 13s 13ms/step - loss: 0.4476 - accuracy: 0.8251 - val_loss: 0.3450 - val_accuracy: 0.8718\n",
            "Epoch 2/10\n",
            "880/880 [==============================] - 11s 12ms/step - loss: 0.1937 - accuracy: 0.9314 - val_loss: 0.3731 - val_accuracy: 0.8600\n",
            "Epoch 3/10\n",
            "880/880 [==============================] - 11s 12ms/step - loss: 0.1037 - accuracy: 0.9610 - val_loss: 0.4052 - val_accuracy: 0.8764\n",
            "Epoch 4/10\n",
            "880/880 [==============================] - 11s 13ms/step - loss: 0.0593 - accuracy: 0.9785 - val_loss: 0.4860 - val_accuracy: 0.8759\n",
            "Epoch 5/10\n",
            "880/880 [==============================] - 11s 12ms/step - loss: 0.0365 - accuracy: 0.9895 - val_loss: 0.5161 - val_accuracy: 0.8777\n",
            "Epoch 6/10\n",
            "880/880 [==============================] - 11s 12ms/step - loss: 0.0231 - accuracy: 0.9934 - val_loss: 0.5997 - val_accuracy: 0.8732\n",
            "Epoch 7/10\n",
            "880/880 [==============================] - 11s 12ms/step - loss: 0.0139 - accuracy: 0.9956 - val_loss: 0.6764 - val_accuracy: 0.8691\n",
            "Epoch 8/10\n",
            "880/880 [==============================] - 11s 13ms/step - loss: 0.0172 - accuracy: 0.9949 - val_loss: 0.6313 - val_accuracy: 0.8659\n",
            "Epoch 9/10\n",
            "880/880 [==============================] - 11s 12ms/step - loss: 0.0133 - accuracy: 0.9959 - val_loss: 0.7050 - val_accuracy: 0.8645\n",
            "Epoch 10/10\n",
            "880/880 [==============================] - 11s 13ms/step - loss: 0.0061 - accuracy: 0.9983 - val_loss: 0.7411 - val_accuracy: 0.8727\n",
            "69/69 [==============================] - 1s 4ms/step\n",
            "Training ke- 2\n",
            "              precision    recall  f1-score   support\n",
            "\n",
            "           0       0.84      0.81      0.82       685\n",
            "           1       0.79      0.74      0.77       233\n",
            "           2       0.90      0.93      0.92      1282\n",
            "\n",
            "    accuracy                           0.87      2200\n",
            "   macro avg       0.84      0.83      0.84      2200\n",
            "weighted avg       0.87      0.87      0.87      2200\n",
            "\n",
            "======================================================\n",
            "Epoch 1/10\n",
            "880/880 [==============================] - 13s 13ms/step - loss: 0.4496 - accuracy: 0.8177 - val_loss: 0.3335 - val_accuracy: 0.8714\n",
            "Epoch 2/10\n",
            "880/880 [==============================] - 12s 13ms/step - loss: 0.1972 - accuracy: 0.9253 - val_loss: 0.3306 - val_accuracy: 0.8795\n",
            "Epoch 3/10\n",
            "880/880 [==============================] - 11s 13ms/step - loss: 0.1069 - accuracy: 0.9593 - val_loss: 0.3863 - val_accuracy: 0.8627\n",
            "Epoch 4/10\n",
            "880/880 [==============================] - 11s 12ms/step - loss: 0.0650 - accuracy: 0.9751 - val_loss: 0.5003 - val_accuracy: 0.8741\n",
            "Epoch 5/10\n",
            "880/880 [==============================] - 11s 13ms/step - loss: 0.0409 - accuracy: 0.9866 - val_loss: 0.5224 - val_accuracy: 0.8786\n",
            "Epoch 6/10\n",
            "880/880 [==============================] - 12s 13ms/step - loss: 0.0219 - accuracy: 0.9949 - val_loss: 0.5888 - val_accuracy: 0.8677\n",
            "Epoch 7/10\n",
            "880/880 [==============================] - 11s 13ms/step - loss: 0.0212 - accuracy: 0.9940 - val_loss: 0.6375 - val_accuracy: 0.8718\n",
            "Epoch 8/10\n",
            "880/880 [==============================] - 11s 13ms/step - loss: 0.0079 - accuracy: 0.9981 - val_loss: 0.7465 - val_accuracy: 0.8691\n",
            "Epoch 9/10\n",
            "880/880 [==============================] - 11s 13ms/step - loss: 0.0143 - accuracy: 0.9956 - val_loss: 0.7378 - val_accuracy: 0.8677\n",
            "Epoch 10/10\n",
            "880/880 [==============================] - 11s 12ms/step - loss: 0.0078 - accuracy: 0.9974 - val_loss: 0.7056 - val_accuracy: 0.8595\n",
            "69/69 [==============================] - 1s 4ms/step\n",
            "Training ke- 3\n",
            "              precision    recall  f1-score   support\n",
            "\n",
            "           0       0.81      0.84      0.83       685\n",
            "           1       0.80      0.63      0.71       233\n",
            "           2       0.89      0.91      0.90      1282\n",
            "\n",
            "    accuracy                           0.86      2200\n",
            "   macro avg       0.84      0.79      0.81      2200\n",
            "weighted avg       0.86      0.86      0.86      2200\n",
            "\n",
            "======================================================\n",
            "Epoch 1/10\n",
            "880/880 [==============================] - 13s 14ms/step - loss: 0.4544 - accuracy: 0.8156 - val_loss: 0.3415 - val_accuracy: 0.8664\n",
            "Epoch 2/10\n",
            "880/880 [==============================] - 11s 12ms/step - loss: 0.1987 - accuracy: 0.9274 - val_loss: 0.3409 - val_accuracy: 0.8759\n",
            "Epoch 3/10\n",
            "880/880 [==============================] - 11s 12ms/step - loss: 0.1104 - accuracy: 0.9573 - val_loss: 0.4071 - val_accuracy: 0.8655\n",
            "Epoch 4/10\n",
            "880/880 [==============================] - 11s 12ms/step - loss: 0.0640 - accuracy: 0.9749 - val_loss: 0.4722 - val_accuracy: 0.8641\n",
            "Epoch 5/10\n",
            "880/880 [==============================] - 11s 12ms/step - loss: 0.0441 - accuracy: 0.9864 - val_loss: 0.5138 - val_accuracy: 0.8673\n",
            "Epoch 6/10\n",
            "880/880 [==============================] - 11s 12ms/step - loss: 0.0257 - accuracy: 0.9931 - val_loss: 0.6629 - val_accuracy: 0.8718\n",
            "Epoch 7/10\n",
            "880/880 [==============================] - 11s 12ms/step - loss: 0.0185 - accuracy: 0.9951 - val_loss: 0.5831 - val_accuracy: 0.8541\n",
            "Epoch 8/10\n",
            "880/880 [==============================] - 11s 13ms/step - loss: 0.0124 - accuracy: 0.9966 - val_loss: 0.6853 - val_accuracy: 0.8641\n",
            "Epoch 9/10\n",
            "880/880 [==============================] - 11s 13ms/step - loss: 0.0065 - accuracy: 0.9980 - val_loss: 0.7547 - val_accuracy: 0.8500\n",
            "Epoch 10/10\n",
            "880/880 [==============================] - 11s 12ms/step - loss: 0.0101 - accuracy: 0.9964 - val_loss: 0.8242 - val_accuracy: 0.8636\n",
            "69/69 [==============================] - 1s 4ms/step\n",
            "Training ke- 4\n",
            "              precision    recall  f1-score   support\n",
            "\n",
            "           0       0.84      0.81      0.82       685\n",
            "           1       0.83      0.66      0.74       233\n",
            "           2       0.88      0.93      0.91      1282\n",
            "\n",
            "    accuracy                           0.86      2200\n",
            "   macro avg       0.85      0.80      0.82      2200\n",
            "weighted avg       0.86      0.86      0.86      2200\n",
            "\n",
            "======================================================\n",
            "Epoch 1/10\n",
            "880/880 [==============================] - 13s 13ms/step - loss: 0.4667 - accuracy: 0.8185 - val_loss: 0.3473 - val_accuracy: 0.8664\n",
            "Epoch 2/10\n",
            "880/880 [==============================] - 11s 12ms/step - loss: 0.1966 - accuracy: 0.9269 - val_loss: 0.3366 - val_accuracy: 0.8718\n",
            "Epoch 3/10\n",
            "880/880 [==============================] - 11s 12ms/step - loss: 0.1068 - accuracy: 0.9597 - val_loss: 0.3776 - val_accuracy: 0.8695\n",
            "Epoch 4/10\n",
            "880/880 [==============================] - 11s 12ms/step - loss: 0.0630 - accuracy: 0.9759 - val_loss: 0.4829 - val_accuracy: 0.8650\n",
            "Epoch 5/10\n",
            "880/880 [==============================] - 11s 13ms/step - loss: 0.0398 - accuracy: 0.9870 - val_loss: 0.5385 - val_accuracy: 0.8805\n",
            "Epoch 6/10\n",
            "880/880 [==============================] - 11s 12ms/step - loss: 0.0224 - accuracy: 0.9944 - val_loss: 0.5719 - val_accuracy: 0.8736\n",
            "Epoch 7/10\n",
            "880/880 [==============================] - 11s 12ms/step - loss: 0.0186 - accuracy: 0.9941 - val_loss: 0.6661 - val_accuracy: 0.8795\n",
            "Epoch 8/10\n",
            "880/880 [==============================] - 11s 12ms/step - loss: 0.0098 - accuracy: 0.9976 - val_loss: 0.6711 - val_accuracy: 0.8750\n",
            "Epoch 9/10\n",
            "880/880 [==============================] - 11s 12ms/step - loss: 0.0057 - accuracy: 0.9981 - val_loss: 0.8839 - val_accuracy: 0.8677\n",
            "Epoch 10/10\n",
            "880/880 [==============================] - 11s 12ms/step - loss: 0.0090 - accuracy: 0.9969 - val_loss: 0.7906 - val_accuracy: 0.8673\n",
            "69/69 [==============================] - 1s 4ms/step\n",
            "Training ke- 5\n",
            "              precision    recall  f1-score   support\n",
            "\n",
            "           0       0.81      0.86      0.83       685\n",
            "           1       0.81      0.70      0.75       233\n",
            "           2       0.91      0.90      0.91      1282\n",
            "\n",
            "    accuracy                           0.87      2200\n",
            "   macro avg       0.84      0.82      0.83      2200\n",
            "weighted avg       0.87      0.87      0.87      2200\n",
            "\n",
            "======================================================\n",
            "\n",
            "\n",
            "\n",
            "Rata-rata Accuracy:  0.867\n"
          ]
        }
      ]
    },
    {
      "cell_type": "code",
      "source": [
        "plt.style.use('ggplot')\n",
        "\n",
        "def plot_history(history):\n",
        "  acc = history.history['accuracy']\n",
        "  val_acc = history.history['val_accuracy']\n",
        "  loss = history.history['loss']\n",
        "  val_loss = history.history['val_loss']\n",
        "  x = range(1, len(acc) +1)\n",
        "\n",
        "  plt.figure(figsize=(12, 5))\n",
        "  plt.subplot(1,2,1)\n",
        "  plt.plot(x, acc, 'b', label='Training acc')\n",
        "  plt.plot(x, val_acc, 'r', label='Validation acc')\n",
        "  plt.title('Training and validation accuracy')\n",
        "  plt.legend()\n",
        "  plt.subplot(1,2,2)\n",
        "  plt.plot(x, loss, 'b', label='Training loss')\n",
        "  plt.plot(x, val_loss, 'r', label='Validation loss')\n",
        "  plt.title('Training and validation loss')\n",
        "  plt.legend()\n",
        "\n",
        "%matplotlib inline\n",
        "plot_history(history)\n",
        "  "
      ],
      "metadata": {
        "id": "uiDyuh33H-ik",
        "colab": {
          "base_uri": "https://localhost:8080/",
          "height": 337
        },
        "outputId": "f5b84e41-bbcf-4d69-965c-65409b62a018"
      },
      "execution_count": 31,
      "outputs": [
        {
          "output_type": "display_data",
          "data": {
            "text/plain": [
              "<Figure size 864x360 with 2 Axes>"
            ],
            "image/png": "[encoded data removed]"
          },
          "metadata": {
            "needs_background": "light"
          }
        }
      ]
    },
    {
      "cell_type": "markdown",
      "source": [
        "#Export Model"
      ],
      "metadata": {
        "id": "3Qrm6sAIOMS5"
      }
    },
    {
      "cell_type": "code",
      "source": [
        "model.save('model.h5')\n",
        "print('Model has created!')"
      ],
      "metadata": {
        "id": "JLJS7RlKJSKq",
        "colab": {
          "base_uri": "https://localhost:8080/"
        },
        "outputId": "aa40a820-97c1-4b31-8f6a-ebc4e9cbd112"
      },
      "execution_count": 32,
      "outputs": [
        {
          "output_type": "stream",
          "name": "stdout",
          "text": [
            "Model has created!\n"
          ]
        }
      ]
    },
    {
      "cell_type": "markdown",
      "source": [
        "#Testing Model"
      ],
      "metadata": {
        "id": "LNuxQE3UOS70"
      }
    },
    {
      "cell_type": "code",
      "source": [
        "input_text = \"\"\" \n",
        "tidak bersyukur..,,;,;\n",
        "\"\"\"\n",
        "\n",
        "sentiment = ['negative', 'neutral', 'positive']\n",
        "\n",
        "text = [preprocess(input_text)]\n",
        "predicted = tokenizer.texts_to_sequences(text)\n",
        "guess = pad_sequences(predicted, maxlen=X.shape[1])\n",
        "\n",
        "model = load_model('model.h5')\n",
        "prediction = model.predict(guess)\n",
        "polarity = np.argmax(prediction[0])\n",
        "\n",
        "print('Text: ',text[0])\n",
        "print('Sentiment: ',sentiment[polarity])"
      ],
      "metadata": {
        "id": "JjP0bGjiN5L6",
        "colab": {
          "base_uri": "https://localhost:8080/"
        },
        "outputId": "2e95a9b6-4698-4c99-f4c7-6e6c1827eaca"
      },
      "execution_count": 34,
      "outputs": [
        {
          "output_type": "stream",
          "name": "stdout",
          "text": [
            "1/1 [==============================] - 0s 349ms/step\n",
            "Text:   tidak bersyukur \n",
            "Sentiment:  positive\n"
          ]
        }
      ]
    }
  ]
}